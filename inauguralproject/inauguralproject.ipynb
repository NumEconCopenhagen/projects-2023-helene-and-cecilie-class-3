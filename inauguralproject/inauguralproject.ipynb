{
 "cells": [
  {
   "attachments": {},
   "cell_type": "markdown",
   "metadata": {},
   "source": [
    "# **Inaugural Project**"
   ]
  },
  {
   "attachments": {},
   "cell_type": "markdown",
   "metadata": {},
   "source": [
    "by Cecilie Gøtterup-Hansen and Helene Thomsen - Exercise class 3"
   ]
  },
  {
   "cell_type": "markdown",
   "metadata": {},
   "source": [
    "Imports and set magics:"
   ]
  },
  {
   "cell_type": "code",
   "execution_count": null,
   "metadata": {},
   "outputs": [],
   "source": [
    "from types import SimpleNamespace\n",
    "\n",
    "import numpy as np\n",
    "from scipy import optimize\n",
    "\n",
    "import pandas as pd \n",
    "import matplotlib.pyplot as plt\n",
    "\n",
    "# autoreload modules when code is run. Otherwise, python will not see recent changes. \n",
    "%load_ext autoreload\n",
    "%autoreload 2\n",
    "\n",
    "# Import your own code\n",
    "import inauguralproject\n",
    "import HouseholdClass\n",
    "from HouseholdClass import HouseholdSpecializationModelClass"
   ]
  },
  {
   "attachments": {},
   "cell_type": "markdown",
   "metadata": {},
   "source": [
    "# **Question 1**"
   ]
  },
  {
   "attachments": {},
   "cell_type": "markdown",
   "metadata": {},
   "source": [
    "First we call the class form the HouseholdClass code. We make a for loop for alpha and sigma in the 9 combinations to find the optimal values of HF and HF at each combination. Using the definition of the function solve_discrete.\n",
    "Based on these values we find the ratio of the home production for the female and the male. \n",
    "\n",
    "We illustrate by creating a table."
   ]
  },
  {
   "cell_type": "code",
   "execution_count": null,
   "metadata": {},
   "outputs": [],
   "source": [
    "model1 = HouseholdSpecializationModelClass()\n",
    "\n",
    "alpha_vec = np.linspace(0.25, 0.75, 3)\n",
    "sigma_vec = np.linspace(0.5, 1.5, 3)\n",
    "\n",
    "table = pd.DataFrame(index=alpha_vec, columns=sigma_vec)\n",
    "for alpha in alpha_vec:\n",
    "    model1.par.alpha = alpha\n",
    "    for sigma in sigma_vec:\n",
    "        model1.par.sigma = sigma\n",
    "        # call solve function and compute HF-HM-ratio\n",
    "        opt = model1.solve_discrete()\n",
    "        optHF = opt.HF\n",
    "        optHM = opt.HM\n",
    "        ratio = opt.HF/opt.HM\n",
    "        # round ratio to 2 decimal places\n",
    "        ratio = round(ratio,2)\n",
    "        table.loc[alpha, sigma] = ratio\n",
    "        print(f'for alpha = {alpha:.2f}, sigma = {sigma:.2f} -> HF/HM ratio = {ratio:.2f}')\n",
    "print(\"\")\n",
    "print(\"Table: HFHM ratio for given values of alpha values (left) and sigma values (top)\")\n",
    "print(table)\n"
   ]
  },
  {
   "attachments": {},
   "cell_type": "markdown",
   "metadata": {},
   "source": [
    "To avoid that a RuntimeWarning occurs warning us about the possibility of dividing by zero in our definition of H, we have bouned HM and HF at a value very close to zero in our definition of calc_utility in our HouseHoldClass."
   ]
  },
  {
   "attachments": {},
   "cell_type": "markdown",
   "metadata": {},
   "source": [
    "alpha represents how productive the woman is in household production. \n",
    "\n",
    "For alpha = 0.5, the male and the female are equally productive in the household production. They will therefore work the same amount of hours at home. For alpha = 0.5 (meaning that the female and the male are equally productive), the value of sigma (the elasticity of substitution) does not affect the choices of hours spend at home production.\n",
    "\n",
    "For alpha > 0.5, the female is more productive than the male in the household production. For wF = wM = 1, the female will work more hours at home relative to the male.\n",
    "\n",
    "For alpha < 0.5, the female is less productive than the male in the household production. For wF = wM = 1, the male will work more hours at home relative to the female. "
   ]
  },
  {
   "attachments": {},
   "cell_type": "markdown",
   "metadata": {},
   "source": [
    "sigma represents the degree of substitutionality between men and women's home production. The higher value of sigma, the easier it is to substitute between the labor of men and women at home."
   ]
  },
  {
   "attachments": {},
   "cell_type": "markdown",
   "metadata": {},
   "source": [
    "# **Question 2**"
   ]
  },
  {
   "attachments": {},
   "cell_type": "markdown",
   "metadata": {},
   "source": [
    "In order to plot the log ratios of the female male production and the log wage ratio, we call the model and for looping the wage vecor for the female. We define the need log ratios of the optimal home production weight and the log wage ratio."
   ]
  },
  {
   "cell_type": "code",
   "execution_count": null,
   "metadata": {},
   "outputs": [],
   "source": [
    "model2 = HouseholdSpecializationModelClass()\n",
    "\n",
    "log_Hratio = []\n",
    "log_wratio = []\n",
    "\n",
    "for wF in model2.par.wF_vec:\n",
    "    model2.par.wF = wF\n",
    "    optimum = model2.solve_discrete()\n",
    "    log_HFM = np.log(optimum.HF/optimum.HM)\n",
    "    log_Hratio = np.append(log_Hratio, log_HFM)\n",
    "    log_wF = np.log(wF/model2.par.wM)\n",
    "    log_wratio = np.append(log_wratio, log_wF)\n",
    "    print(f' For Wf = {model2.par.wF:.2f}: HF = {optimum.HF:.2f}, HM = {optimum.HM:.2f}, and log(HF/HM) = {log_HFM:2f}')"
   ]
  },
  {
   "attachments": {},
   "cell_type": "markdown",
   "metadata": {},
   "source": [
    "Plotting the results with our specifications we can plot out the results from above."
   ]
  },
  {
   "cell_type": "code",
   "execution_count": null,
   "metadata": {},
   "outputs": [],
   "source": [
    "# create figure\n",
    "fig = plt.figure()\n",
    "# create plot\n",
    "ax = fig.add_subplot(1, 1, 1)\n",
    "ax.plot(log_wratio, log_Hratio, color='black')\n",
    "# alterations to figure\n",
    "ax.grid()\n",
    "ax.set_xlabel(\"log(wF/wM)\")\n",
    "ax.set_ylabel(\"log(HF/HM)\")\n",
    "ax.set_title(\"Figure 1: log(HF/HM) against log(wF/wM) for different values of wF\")\n",
    "plt.show()"
   ]
  },
  {
   "attachments": {},
   "cell_type": "markdown",
   "metadata": {},
   "source": [
    "We see the decline in the log home production for an increase in the log in the wage ratio. This means that for an increase in the female wage, the amount of home production declines for the female. When the wage for the female and male are equal, the home production is equal for the female and male. "
   ]
  },
  {
   "attachments": {},
   "cell_type": "markdown",
   "metadata": {},
   "source": [
    "# **Question 3**"
   ]
  },
  {
   "attachments": {},
   "cell_type": "markdown",
   "metadata": {},
   "source": [
    "We now do the same as above, but for a continuous choice set of hours worked. The continuous choice set gives us an infinite amount of possible combinations of hours worked, why the results of the maximization problem using a solver is going to be more precise."
   ]
  },
  {
   "cell_type": "code",
   "execution_count": null,
   "metadata": {},
   "outputs": [],
   "source": [
    "model3 = HouseholdSpecializationModelClass()\n",
    "\n",
    "# define empty vectors of log(HF/HM) and log(wF/wM)\n",
    "log_Hratio = []\n",
    "log_wratio = []\n",
    "\n",
    "# calculate values of log(HF/HM) and log(wF/wM) and append values to their respective vectors\n",
    "for wF in model3.par.wF_vec:\n",
    "    model3.par.wF = wF\n",
    "    optimum = model3.solve()\n",
    "    log_HFM = np.log(optimum.HF/optimum.HM)\n",
    "    log_Hratio = np.append(log_Hratio, log_HFM)\n",
    "    log_wF = np.log(wF/model3.par.wM)\n",
    "    log_wratio = np.append(log_wratio, log_wF)\n",
    "    print(f' For Wf = {model3.par.wF:.2f}: HF = {optimum.HF:.2f}, HM = {optimum.HM:.2f}, and log(HF/HM) = {log_HFM:2f}')"
   ]
  },
  {
   "cell_type": "code",
   "execution_count": null,
   "metadata": {},
   "outputs": [],
   "source": [
    "# create figure\n",
    "fig = plt.figure()\n",
    "# create plot\n",
    "ax = fig.add_subplot(1, 1, 1)\n",
    "ax.plot(log_wratio, log_Hratio, color='black')\n",
    "# alterations to figure\n",
    "ax.grid()\n",
    "ax.set_xlabel(\"log(wF/wM)\")\n",
    "ax.set_ylabel(\"log(HF/HM)\")\n",
    "ax.set_title(\"Figure 2: log(HF/HM) against log(wF/wM) for different values of wF\")\n",
    "plt.show()"
   ]
  },
  {
   "attachments": {},
   "cell_type": "markdown",
   "metadata": {},
   "source": [
    "As expected our illustration in question 3 has a smoother curve. This is due to the ifinite combinations of hours in home production, insted of the 48 steps"
   ]
  },
  {
   "attachments": {},
   "cell_type": "markdown",
   "metadata": {},
   "source": [
    "# **Question 4**"
   ]
  },
  {
   "attachments": {},
   "cell_type": "markdown",
   "metadata": {},
   "source": [
    "Using the function estimate(), we estimate the values of alpha and sigma which minimzes the squared distance between beta0 and beta0_target and the squared difference between beta1 and beta1_target."
   ]
  },
  {
   "cell_type": "code",
   "execution_count": null,
   "metadata": {},
   "outputs": [],
   "source": [
    "model4 = HouseholdSpecializationModelClass()\n",
    "model4.estimate()\n",
    "print(f'The minimizing values of (alpha, sigma) = {model4.estimate()}')\n",
    "\n",
    "log_Hratio = []\n",
    "log_wratio =[]\n",
    "\n",
    "for wF in model4.par.wF_vec:\n",
    "    model4.par.wF = wF\n",
    "    model4.par.alpha = 0.9820286655282875\n",
    "    model4.par.sigma = 0.09997820455973572\n",
    "    optimum = model4.solve()\n",
    "    log_HFM = np.log(optimum.HF/optimum.HM)\n",
    "    log_Hratio = np.append(log_Hratio, log_HFM)\n",
    "    log_wF = np.log(wF/model4.par.wM)\n",
    "    log_wratio = np.append(log_wratio, log_wF)\n",
    "\n",
    "\n",
    "# Siminski and Yetsenga's regression line\n",
    "def f(log_wratio):\n",
    "    return 0.4 +(-0.1)*log_wratio\n",
    "\n",
    "\n",
    "# create figure\n",
    "fig = plt.figure()\n",
    "# create plot\n",
    "ax = fig.add_subplot(1, 1, 1)\n",
    "# plot Siminski and Yetsenga's results as line\n",
    "ax.plot(log_wratio, f(log_wratio), label=\"Siminski and Yetsenga\")\n",
    "# plot model's results as scatter dots\n",
    "ax.scatter(log_wratio, log_Hratio, label=\"Model\",color='black')\n",
    "\n",
    "\n",
    "# alterations to figure\n",
    "ax.grid()\n",
    "ax.set_xlabel(\"log(wF/wM)\")\n",
    "ax.set_ylabel(\"log(HF/HM)\")\n",
    "ax.set_title(\"Figure 3: Plot of how the data fits the model\")\n",
    "ax.legend()\n",
    "plt.show()"
   ]
  },
  {
   "attachments": {},
   "cell_type": "markdown",
   "metadata": {},
   "source": [
    "We notice from the plot above that the model fit the data very well. We find the optimal value of $\\alpha$ being $0.982$ meaning that women are more productive than men in home production. Logically women will take on more house production then men, since they are more productive. The fact that the minimizing value of $\\alpha \\neq 0,5$ implies that the relative relationship between hours worked at home for men and women is going to depend on $\\sigma$ also."
   ]
  },
  {
   "attachments": {},
   "cell_type": "markdown",
   "metadata": {},
   "source": [
    "# **Question 5**"
   ]
  },
  {
   "attachments": {},
   "cell_type": "markdown",
   "metadata": {},
   "source": [
    "When women have children, on average, they experience a drop in wages (the so called 'Motherhood penalty'). According to an article in The Economist, women in Denmark who have children experience a drop in wages of 20% relative to their wage before giving birth (source: https://www.economist.com/graphic-detail/2019/01/28/how-big-is-the-wage-penalty-for-mothers)\n",
    "\n",
    "In this part of the project, we will distinguish between couples who have children and couples who do not have children. For couples with children we reduce the female wage vector (wF_vec) with 20%."
   ]
  },
  {
   "cell_type": "code",
   "execution_count": null,
   "metadata": {},
   "outputs": [],
   "source": [
    "model5 = HouseholdSpecializationModelClass()\n",
    "\n",
    "model5.par.wF_vec = model5.par.wF_vec*0.8\n",
    "\n",
    "log_AltHratio = []\n",
    "log_Altwratio =[]\n",
    "\n",
    "for wF in model5.par.wF_vec:\n",
    "    model5.par.wF = wF\n",
    "    optimum = model5.solve()\n",
    "    log_AltHFM = np.log(optimum.HF/optimum.HM)\n",
    "    log_AltHratio = np.append(log_AltHratio, log_AltHFM)\n",
    "    log_AltwF = np.log(wF/model5.par.wM)\n",
    "    log_Altwratio = np.append(log_Altwratio, log_AltwF)\n",
    "\n",
    "# create figure\n",
    "fig = plt.figure()\n",
    "# create plot\n",
    "ax = fig.add_subplot(1, 1, 1)\n",
    "# plot Siminski and Yetsenga's results as line\n",
    "ax.plot(log_wratio, f(log_wratio), label=\"Siminski and Yetsenga\")\n",
    "# plot original model's results as scatter dots\n",
    "ax.scatter(log_wratio, log_Hratio, label=\"Model\",color='black')\n",
    "# plot alternative model's results as scatter squares\n",
    "ax.scatter(log_Altwratio, log_AltHratio, label=\"Alternative Model\", marker='s',color='red')\n",
    "\n",
    "\n",
    "# alterations to figure\n",
    "ax.grid()\n",
    "ax.set_xlabel(\"log(wF/wM)\")\n",
    "ax.set_ylabel(\"log(HF/HM)\")\n",
    "ax.set_title(\"Figure 3: Plot of how the data fits the model\")\n",
    "ax.legend()\n",
    "plt.show()\n"
   ]
  }
 ],
 "metadata": {
  "kernelspec": {
   "display_name": "base",
   "language": "python",
   "name": "python3"
  },
  "language_info": {
   "codemirror_mode": {
    "name": "ipython",
    "version": 3
   },
   "file_extension": ".py",
   "mimetype": "text/x-python",
   "name": "python",
   "nbconvert_exporter": "python",
   "pygments_lexer": "ipython3",
   "version": "3.9.13"
  },
  "toc-autonumbering": true,
  "vscode": {
   "interpreter": {
    "hash": "dcf1a8682162ea4489d11bfd2867122677541aeac7e7f0427c1bfeb51d7ed9c5"
   }
  }
 },
 "nbformat": 4,
 "nbformat_minor": 4
}
