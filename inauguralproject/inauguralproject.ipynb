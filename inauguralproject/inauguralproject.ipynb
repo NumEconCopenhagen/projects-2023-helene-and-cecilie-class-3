{
 "cells": [
  {
   "attachments": {},
   "cell_type": "markdown",
   "metadata": {},
   "source": [
    "# **Inaugural Project**"
   ]
  },
  {
   "attachments": {},
   "cell_type": "markdown",
   "metadata": {},
   "source": [
    "Cecilie Gøtterup-Hansen and Helene Thomsen - Exercise class 3"
   ]
  },
  {
   "cell_type": "markdown",
   "metadata": {},
   "source": [
    "Imports and set magics:"
   ]
  },
  {
   "cell_type": "code",
   "execution_count": null,
   "metadata": {},
   "outputs": [],
   "source": [
    "from types import SimpleNamespace\n",
    "\n",
    "import numpy as np\n",
    "from scipy import optimize\n",
    "\n",
    "import pandas as pd \n",
    "import matplotlib.pyplot as plt\n",
    "\n",
    "# autoreload modules when code is run. Otherwise, python will not see recent changes. \n",
    "%load_ext autoreload\n",
    "%autoreload 2\n",
    "\n",
    "# Import your own code\n",
    "import inauguralproject\n",
    "import HouseholdClass\n",
    "from HouseholdClass import HouseholdSpecializationModelClass"
   ]
  },
  {
   "attachments": {},
   "cell_type": "markdown",
   "metadata": {},
   "source": [
    "# **Question 1**"
   ]
  },
  {
   "attachments": {},
   "cell_type": "markdown",
   "metadata": {},
   "source": [
    "First we call the class form the HouseholdClass code. We make a for loop for alpha and sigma in the 9 combinations to find the optimal values of HF and HF at each combination. Using the definition of the function solve_discrete.\n",
    "Based on these values we find the ratio of the home production for the female and the male. "
   ]
  },
  {
   "cell_type": "code",
   "execution_count": null,
   "metadata": {},
   "outputs": [],
   "source": [
    "model1 = HouseholdSpecializationModelClass()\n",
    "\n",
    "for alpha in np.linspace(0.25, 0.75, 3):\n",
    "    model1.par.alpha = alpha\n",
    "    for sigma in np.linspace(0.5, 1.5, 3):\n",
    "        model1.par.sigma = sigma\n",
    "        # call solve function and compute HF-HM-ratio\n",
    "        opt = model1.solve_discrete()\n",
    "        optHF = opt.HF\n",
    "        optHM = opt.HM\n",
    "        ratio = opt.HF/opt.HM\n",
    "        print(f'for alpha = {alpha:.2f}, sigma = {sigma:.2f} -> HF/HM ratio = {ratio:.2f}')"
   ]
  },
  {
   "attachments": {},
   "cell_type": "markdown",
   "metadata": {},
   "source": [
    "We notice that a RuntimeWarning occurs warning us about the possibility of dividing by zero in our definition of H. This we have handled this risk of dividing by zero, by defining H otherwise when this is possible (when sigma takes on values of 0 or 1)."
   ]
  },
  {
   "attachments": {},
   "cell_type": "markdown",
   "metadata": {},
   "source": [
    "alpha represents how productive the woman is in household production. \n",
    "\n",
    "For alpha = 0.5, the male and the female are equally productive in the household production. They will therefore work the same amount of hours at home. For alpha = 0.5 (meaning that the female and the male are equally productive), the value of sigma (the elasticity of substitution) does not affect the choices of hours spend at home production.\n",
    "\n",
    "For alpha > 0.5, the female is more productive than the male in the household production. For wF = wM = 1, the female will work more hours at home relative to the male.\n",
    "\n",
    "For alpha < 0.5, the female is less productive than the male in the household production. For wF = wM = 1, the male will work more hours at home relative to the female. "
   ]
  },
  {
   "attachments": {},
   "cell_type": "markdown",
   "metadata": {},
   "source": [
    "# **Question 2**"
   ]
  },
  {
   "attachments": {},
   "cell_type": "markdown",
   "metadata": {},
   "source": [
    "In order to plot the log ratios of the female male production and the log wage ratio, we call the model and for looping the wage vecor for the female. We define the need log ratios of the optimal home production weight and the log wage ratio."
   ]
  },
  {
   "cell_type": "code",
   "execution_count": null,
   "metadata": {},
   "outputs": [],
   "source": [
    "model2 = HouseholdSpecializationModelClass()\n",
    "\n",
    "log_Hratio = []\n",
    "log_wratio = []\n",
    "\n",
    "for wF in model2.par.wF_vec:\n",
    "    model2.par.wF = wF\n",
    "    optimum = model2.solve_discrete()\n",
    "    log_HFM = np.log(optimum.HF/optimum.HM)\n",
    "    log_Hratio = np.append(log_Hratio, log_HFM)\n",
    "    log_wF = np.log(wF/model2.par.wM)\n",
    "    log_wratio = np.append(log_wratio, log_wF)\n",
    "    print(f' For Wf = {model2.par.wF:.2f}: HF = {optimum.HF:.2f}, HM = {optimum.HM:.2f}, and log(HF/HM) = {log_HFM:2f}')"
   ]
  },
  {
   "attachments": {},
   "cell_type": "markdown",
   "metadata": {},
   "source": [
    "Plotting the results with our specifications we can plot out the results from above."
   ]
  },
  {
   "cell_type": "code",
   "execution_count": null,
   "metadata": {},
   "outputs": [],
   "source": [
    "# create figure\n",
    "fig = plt.figure()\n",
    "# create plot\n",
    "ax = fig.add_subplot(1, 1, 1)\n",
    "ax.plot(log_wratio, log_Hratio, color='black')\n",
    "# alterations to figure\n",
    "ax.grid()\n",
    "ax.set_xlabel(\"log(wF/wM)\")\n",
    "ax.set_ylabel(\"log(HF/HM)\")\n",
    "ax.set_title(\"Figure 1: log(HF/HM) against log(wF/wM) for different values of wF\")\n",
    "plt.show()"
   ]
  },
  {
   "attachments": {},
   "cell_type": "markdown",
   "metadata": {},
   "source": [
    "We see the decline in the log home production for an increase in the log in the wage ratio. This means that for an increase in the female wage, the amount of home production declines for the female. When the wage for the female and male are equal, the home production is equal for the female and male. "
   ]
  },
  {
   "attachments": {},
   "cell_type": "markdown",
   "metadata": {},
   "source": [
    "# **Question 3**"
   ]
  },
  {
   "attachments": {},
   "cell_type": "markdown",
   "metadata": {},
   "source": [
    "We now do the same as above, but for a continuous choice set of hours worked. The continuous choice set gives us an infinite amount of possible combinations of hours worked, why the results of the maximization problem using a solver is going to be more precise."
   ]
  },
  {
   "cell_type": "code",
   "execution_count": null,
   "metadata": {},
   "outputs": [],
   "source": [
    "model3 = HouseholdSpecializationModelClass()\n",
    "\n",
    "# define empty vectors of log(HF/HM) and log(wF/wM)\n",
    "log_Hratio = []\n",
    "log_wratio = []\n",
    "\n",
    "# calculate values of log(HF/HM) and log(wF/wM) and append values to their respective vectors\n",
    "for wF in model3.par.wF_vec:\n",
    "    model3.par.wF = wF\n",
    "    optimum = model3.solve()\n",
    "    log_HFM = np.log(optimum.HF/optimum.HM)\n",
    "    log_Hratio = np.append(log_Hratio, log_HFM)\n",
    "    log_wF = np.log(wF/model3.par.wM)\n",
    "    log_wratio = np.append(log_wratio, log_wF)\n",
    "    print(f' For Wf = {model3.par.wF:.2f}: HF = {optimum.HF:.2f}, HM = {optimum.HM:.2f}, and log(HF/HM) = {log_HFM:2f}')"
   ]
  },
  {
   "cell_type": "code",
   "execution_count": null,
   "metadata": {},
   "outputs": [],
   "source": [
    "# create figure\n",
    "fig = plt.figure()\n",
    "# create plot\n",
    "ax = fig.add_subplot(1, 1, 1)\n",
    "ax.plot(log_wratio, log_Hratio, color='black')\n",
    "# alterations to figure\n",
    "ax.grid()\n",
    "ax.set_xlabel(\"log(wF/wM)\")\n",
    "ax.set_ylabel(\"log(HF/HM)\")\n",
    "ax.set_title(\"Figure 2: log(HF/HM) against log(wF/wM) for different values of wF\")\n",
    "plt.show()"
   ]
  },
  {
   "attachments": {},
   "cell_type": "markdown",
   "metadata": {},
   "source": [
    "As expected our illustration in question 3 has a smoother curve. This is due to the ifinite combinations of hours in home production, insted of the 48 steps"
   ]
  },
  {
   "attachments": {},
   "cell_type": "markdown",
   "metadata": {},
   "source": [
    "# **Question 4**"
   ]
  },
  {
   "attachments": {},
   "cell_type": "markdown",
   "metadata": {},
   "source": [
    "Using the function estimate(), we estimate the values of alpha and sigma which minimzes the squared distance between beta0 and beta0_target and the squared difference between beta1 and beta1_target."
   ]
  },
  {
   "cell_type": "code",
   "execution_count": null,
   "metadata": {},
   "outputs": [],
   "source": [
    "model4 = HouseholdSpecializationModelClass()\n",
    "model4.estimate()\n",
    "print(f'The minimizing values of (alpha, sigma) = {model4.estimate()}')\n",
    "\n",
    "\n",
    "log_Hratio = []\n",
    "log_wratio =[]\n",
    "\n",
    "for wF in model4.par.wF_vec:\n",
    "    model4.par.wF = wF\n",
    "    optimum = model4.solve()\n",
    "    log_HFM = np.log(optimum.HF/optimum.HM)\n",
    "    log_Hratio = np.append(log_Hratio, log_HFM)\n",
    "    log_wF = np.log(wF/model4.par.wM)\n",
    "    log_wratio = np.append(log_wratio, log_wF)\n",
    "\n",
    "\n",
    "\n",
    "# Siminski and Yetsenga's regression line\n",
    "def f(log_wratio):\n",
    "    return 0.4 +(-0.1)*log_wratio\n",
    "\n",
    "\n",
    "# create figure\n",
    "fig = plt.figure()\n",
    "# create plot\n",
    "ax = fig.add_subplot(1, 1, 1)\n",
    "# plot Siminski and Yetsenga's results as line\n",
    "ax.plot(log_wratio, f(log_wratio), label=\"Siminski and Yetsenga\")\n",
    "# plot model's results as scatter dots\n",
    "ax.scatter(log_wratio, log_Hratio, label=\"Model\",color='black')\n",
    "\n",
    "\n",
    "# alterations to figure\n",
    "ax.grid()\n",
    "ax.set_xlabel(\"log(wF/wM)\")\n",
    "ax.set_ylabel(\"log(HF/HM)\")\n",
    "ax.set_title(\"Figure 3: Plot of how the data fits the model\")\n",
    "ax.legend()\n",
    "plt.show()"
   ]
  },
  {
   "attachments": {},
   "cell_type": "markdown",
   "metadata": {},
   "source": [
    "We notice from the plot above that the model fit the data very well."
   ]
  }
 ],
 "metadata": {
  "kernelspec": {
   "display_name": "base",
   "language": "python",
   "name": "python3"
  },
  "language_info": {
   "codemirror_mode": {
    "name": "ipython",
    "version": 3
   },
   "file_extension": ".py",
   "mimetype": "text/x-python",
   "name": "python",
   "nbconvert_exporter": "python",
   "pygments_lexer": "ipython3",
   "version": "3.9.16"
  },
  "toc-autonumbering": true,
  "vscode": {
   "interpreter": {
    "hash": "47ef90cdf3004d3f859f1fb202523c65c07ba7c22eefd261b181f4744e2d0403"
   }
  }
 },
 "nbformat": 4,
 "nbformat_minor": 4
}
