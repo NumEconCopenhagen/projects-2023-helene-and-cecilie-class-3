{
 "cells": [
  {
   "attachments": {},
   "cell_type": "markdown",
   "metadata": {},
   "source": [
    "\n",
    "# Inaugural Project\n"
   ]
  },
  {
   "attachments": {},
   "cell_type": "markdown",
   "metadata": {},
   "source": [
    "Cecilie Gøtterup-Hansen og Helene Thomsen, Hold 3"
   ]
  },
  {
   "attachments": {},
   "cell_type": "markdown",
   "metadata": {},
   "source": [
    "Import packages"
   ]
  },
  {
   "cell_type": "code",
   "execution_count": 3,
   "metadata": {},
   "outputs": [],
   "source": [
    "#Import \n",
    "from types import SimpleNamespace\n",
    "\n",
    "import numpy as np\n",
    "from scipy import optimize\n",
    "\n",
    "import pandas as pd \n",
    "import matplotlib.pyplot as plt"
   ]
  },
  {
   "cell_type": "code",
   "execution_count": 177,
   "metadata": {},
   "outputs": [],
   "source": [
    "class HouseholdSpecializationModelClass:\n",
    "\n",
    "    def __init__(self):\n",
    "        \"\"\" setup model \"\"\"\n",
    "\n",
    "        # a. create namespaces\n",
    "        par = self.par = SimpleNamespace()\n",
    "        sol = self.sol = SimpleNamespace()\n",
    "\n",
    "        # b. preferences\n",
    "        par.rho = 2.0\n",
    "        par.nu = 0.001\n",
    "        par.epsilon = 1.0\n",
    "        par.omega = 0.5 \n",
    "\n",
    "        # c. household production\n",
    "        par.alpha = 0.5\n",
    "        par.sigma = 1.0\n",
    "\n",
    "        # d. wages\n",
    "        par.wM = 1.0\n",
    "        par.wF = 1.0\n",
    "        par.wF_vec = np.linspace(0.8,1.2,5)\n",
    "\n",
    "        # e. targets\n",
    "        par.beta0_target = 0.4\n",
    "        par.beta1_target = -0.1\n",
    "\n",
    "        # f. solution\n",
    "        sol.LM_vec = np.zeros(par.wF_vec.size)\n",
    "        sol.HM_vec = np.zeros(par.wF_vec.size)\n",
    "        sol.LF_vec = np.zeros(par.wF_vec.size)\n",
    "        sol.HF_vec = np.zeros(par.wF_vec.size)\n",
    "\n",
    "        sol.beta0 = np.nan\n",
    "        sol.beta1 = np.nan\n",
    "\n",
    "    def calc_utility(self,LM,HM,LF,HF):\n",
    "        \"\"\" calculate utility \"\"\"\n",
    "\n",
    "        par = self.par\n",
    "        sol = self.sol\n",
    "\n",
    "        # a. consumption of market goods\n",
    "        C = par.wM*LM + par.wF*LF\n",
    "\n",
    "        # b. home production\n",
    "        H = 1\n",
    "        #H = ((1-par.alpha)*HM**(sigma_)+par.alpha*HF**(sigma_))**isigma\n",
    "        #H[par.sigma==1] = HM**(1-par.alpha)*HF**par.alpha\n",
    "        #H[par.sigma==0] = np.fmin(HM, HF)\n",
    "        if par.sigma == 0:\n",
    "            H = np.fmin(HM, HF)\n",
    "        elif par.sigma == 1:\n",
    "            H = HM**(1-par.alpha)*HF**par.alpha\n",
    "        else:\n",
    "            H = ((1-par.alpha)*HM**((par.sigma-1)/(par.sigma)) + par.alpha*HF**((par.sigma-1)/(par.sigma)))**(par.sigma/(par.sigma-1))\n",
    "\n",
    "\n",
    "\n",
    "        # c. total consumption utility\n",
    "        Q = C**par.omega*H**(1-par.omega)\n",
    "        utility = np.fmax(Q,1e-8)**((1-par.rho)/(1-par.rho))\n",
    "\n",
    "        # d. disutility of work\n",
    "        epsilon_ = 1+1/par.epsilon\n",
    "        TM = LM+HM\n",
    "        TF = LF+HF\n",
    "        disutility = par.nu*(TM**epsilon_/epsilon_+TF**epsilon_/epsilon_)\n",
    "        \n",
    "        return utility - disutility\n",
    "\n",
    "    def solve_discrete(self,do_print=False):\n",
    "        \"\"\" solve model discretely \"\"\"\n",
    "        \n",
    "        par = self.par\n",
    "        sol = self.sol\n",
    "        opt = SimpleNamespace()\n",
    "        \n",
    "        # a. all possible choices\n",
    "        x = np.linspace(0,24,49)\n",
    "        LM,HM,LF,HF = np.meshgrid(x,x,x,x) # all combinations\n",
    "    \n",
    "        LM = LM.ravel() # vector\n",
    "        HM = HM.ravel()\n",
    "        LF = LF.ravel()\n",
    "        HF = HF.ravel()\n",
    "\n",
    "        # b. calculate utility\n",
    "        u = self.calc_utility(LM,HM,LF,HF)\n",
    "    \n",
    "        # c. set to minus infinity if constraint is broken\n",
    "        I = (LM+HM > 24) | (LF+HF > 24) # | is \"or\"\n",
    "        u[I] = -np.inf\n",
    "    \n",
    "        # d. find maximizing argument\n",
    "        j = np.argmax(u)\n",
    "        \n",
    "        opt.LM = LM[j]\n",
    "        opt.HM = HM[j]\n",
    "        opt.LF = LF[j]\n",
    "        opt.HF = HF[j]\n",
    "        opt.HFM = HF[j]/HM[j]\n",
    "\n",
    "\n",
    "        # e. print\n",
    "        if do_print:\n",
    "            for k,v in opt.__dict__.items():\n",
    "                print(f'{k} = {v:6.4f}')\n",
    "\n",
    "        return opt\n",
    "\n",
    "    def solve(self,do_print=False):\n",
    "        \"\"\" solve model continously \"\"\"\n",
    "\n",
    "        pass    \n",
    "\n",
    "    def solve_wF_vec(self,discrete=False):\n",
    "        \"\"\" solve model for vector of female wages \"\"\"\n",
    "\n",
    "        pass\n",
    "\n",
    "    def run_regression(self):\n",
    "        \"\"\" run regression \"\"\"\n",
    "\n",
    "        par = self.par\n",
    "        sol = self.sol\n",
    "\n",
    "        x = np.log(par.wF_vec)\n",
    "        y = np.log(sol.HF_vec/sol.HM_vec)\n",
    "        A = np.vstack([np.ones(x.size),x]).T\n",
    "        sol.beta0,sol.beta1 = np.linalg.lstsq(A,y,rcond=None)[0]\n",
    "    \n",
    "    def estimate(self,alpha=None,sigma=None):\n",
    "        \"\"\" estimate alpha and sigma \"\"\"\n",
    "\n",
    "        pass"
   ]
  },
  {
   "attachments": {},
   "cell_type": "markdown",
   "metadata": {},
   "source": [
    "### Question 1\n",
    "\n",
    "To illustrate the ratio of HF and HM we define opt.HFM in the previous code under d. U"
   ]
  },
  {
   "cell_type": "code",
   "execution_count": 187,
   "metadata": {},
   "outputs": [
    {
     "name": "stderr",
     "output_type": "stream",
     "text": [
      "/var/folders/02/k6_n1tbx3dx3n9lwnsrf_5qr0000gp/T/ipykernel_19856/4154107767.py:57: RuntimeWarning: divide by zero encountered in reciprocal\n",
      "  H = ((1-par.alpha)*HM**((par.sigma-1)/(par.sigma)) + par.alpha*HF**((par.sigma-1)/(par.sigma)))**(par.sigma/(par.sigma-1))\n",
      "/var/folders/02/k6_n1tbx3dx3n9lwnsrf_5qr0000gp/T/ipykernel_19856/4154107767.py:57: RuntimeWarning: invalid value encountered in reciprocal\n",
      "  H = ((1-par.alpha)*HM**((par.sigma-1)/(par.sigma)) + par.alpha*HF**((par.sigma-1)/(par.sigma)))**(par.sigma/(par.sigma-1))\n"
     ]
    },
    {
     "name": "stdout",
     "output_type": "stream",
     "text": [
      "for alpha = 0.25 and sigma = 0.50 -> HF-HM-ratio = 0.60\n",
      "for alpha = 0.25 and sigma = 1.00 -> HF-HM-ratio = 0.33\n",
      "for alpha = 0.25 and sigma = 1.50 -> HF-HM-ratio = 0.20\n",
      "for alpha = 0.50 and sigma = 0.50 -> HF-HM-ratio = 1.00\n",
      "for alpha = 0.50 and sigma = 1.00 -> HF-HM-ratio = 1.00\n",
      "for alpha = 0.50 and sigma = 1.50 -> HF-HM-ratio = 1.00\n",
      "for alpha = 0.75 and sigma = 0.50 -> HF-HM-ratio = 1.67\n",
      "for alpha = 0.75 and sigma = 1.00 -> HF-HM-ratio = 3.00\n",
      "for alpha = 0.75 and sigma = 1.50 -> HF-HM-ratio = 5.00\n"
     ]
    }
   ],
   "source": [
    "model = HouseholdSpecializationModelClass()\n",
    "\n",
    "x = []\n",
    "for alpha in np.linspace(0.25, 0.75, 3):\n",
    "    model.par.alpha = alpha\n",
    "\n",
    "    for sigma in np.linspace(0.5, 1.5, 3):\n",
    "        model.par.sigma = sigma\n",
    "        #print(model.solve_discrete())\n",
    "        x = model.solve_discrete()\n",
    "        if hasattr(x,\"HFM\"):\n",
    "            print(f'for alpha = {alpha:.2f} and sigma = {sigma:.2f} -> HF-HM-ratio = {x.HFM:.2f}')\n"
   ]
  }
 ],
 "metadata": {
  "kernelspec": {
   "display_name": "base",
   "language": "python",
   "name": "python3"
  },
  "language_info": {
   "codemirror_mode": {
    "name": "ipython",
    "version": 3
   },
   "file_extension": ".py",
   "mimetype": "text/x-python",
   "name": "python",
   "nbconvert_exporter": "python",
   "pygments_lexer": "ipython3",
   "version": "3.9.13"
  },
  "orig_nbformat": 4,
  "vscode": {
   "interpreter": {
    "hash": "dcf1a8682162ea4489d11bfd2867122677541aeac7e7f0427c1bfeb51d7ed9c5"
   }
  }
 },
 "nbformat": 4,
 "nbformat_minor": 2
}
