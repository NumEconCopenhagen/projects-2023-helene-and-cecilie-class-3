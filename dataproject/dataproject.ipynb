{
 "cells": [
  {
   "attachments": {},
   "cell_type": "markdown",
   "metadata": {},
   "source": [
    "# **The Preston Curve: Examining the relationship between income and life expectancy**"
   ]
  },
  {
   "attachments": {},
   "cell_type": "markdown",
   "metadata": {},
   "source": [
    "Imports and set magics:"
   ]
  },
  {
   "cell_type": "code",
   "execution_count": null,
   "metadata": {},
   "outputs": [],
   "source": [
    "import pandas as pd\n",
    "import numpy as np\n",
    "import matplotlib.pyplot as plt\n",
    "from matplotlib.lines import Line2D\n",
    "\n",
    "# autoreload modules when code is run\n",
    "%load_ext autoreload\n",
    "%autoreload 2"
   ]
  },
  {
   "attachments": {},
   "cell_type": "markdown",
   "metadata": {},
   "source": [
    "# **Read and clean data**"
   ]
  },
  {
   "attachments": {},
   "cell_type": "markdown",
   "metadata": {},
   "source": [
    "## **Dataset 1: World Bank Development Indicators**"
   ]
  },
  {
   "attachments": {},
   "cell_type": "markdown",
   "metadata": {},
   "source": [
    "We import data from the World Bank's databank's World Development Indicators. We import the data through a pre-downloaded csv-file containing the relevant variables. The csv-file contains data for 217 countries in the world. The included variables are GDP per capita in 2019 (PPP, current international $), life expectancy at birth in 2019, mortality rate, under-5 (per 1,000 live births) in 2019 and population size in 2019. "
   ]
  },
  {
   "cell_type": "code",
   "execution_count": null,
   "metadata": {},
   "outputs": [],
   "source": [
    "# import data\n",
    "wd = pd.read_csv('WorldData.csv') \n",
    "# inspect data\n",
    "wd.head() "
   ]
  },
  {
   "attachments": {},
   "cell_type": "markdown",
   "metadata": {},
   "source": [
    "We clean our dataset by deleting the colums we dont need, which is country code and series code. "
   ]
  },
  {
   "cell_type": "code",
   "execution_count": null,
   "metadata": {},
   "outputs": [],
   "source": [
    "# drop the following colums: country code and series code\n",
    "drop_these = ['Country Code', 'Series Code']\n",
    "wd.drop(drop_these, axis=1, inplace=True)\n",
    "# rename columns\n",
    "wd.rename(columns = {'Country Name':'country', 'Series Name':'index', '2019 [YR2019]':'val'}, inplace=True)\n",
    "wd.head()"
   ]
  },
  {
   "attachments": {},
   "cell_type": "markdown",
   "metadata": {},
   "source": [
    "We want to reshape the data set, in order to have all the information for a country in one row. We have a long data set that we would like to reshape to a wide data set. We use the pivot_table function to do the reshape."
   ]
  },
  {
   "cell_type": "code",
   "execution_count": null,
   "metadata": {},
   "outputs": [],
   "source": [
    "# reshape from long to wide\n",
    "wd = wd.pivot_table(index='country', columns='index', values='val', aggfunc='sum').reset_index() # reset_index removes the second index created by the pivot\n",
    "wd.head()"
   ]
  },
  {
   "attachments": {},
   "cell_type": "markdown",
   "metadata": {},
   "source": [
    "We change the variable names, such that there are no white spaces in columnames."
   ]
  },
  {
   "cell_type": "code",
   "execution_count": null,
   "metadata": {},
   "outputs": [],
   "source": [
    "# define dictionary containing variable names\n",
    "var_dict = {} # var is for variable\n",
    "var_dict['GDP per capita, PPP (current international $)'] = 'gdp_per_cap'\n",
    "var_dict['Life expectancy at birth, total (years)'] = 'life_exp'\n",
    "var_dict['Mortality rate, under-5 (per 1,000 live births)'] = 'child_mort'\n",
    "var_dict['Population, total'] = 'popl'\n",
    "# rename\n",
    "wd.rename(columns = var_dict,inplace=True)\n",
    "wd.head()"
   ]
  },
  {
   "attachments": {},
   "cell_type": "markdown",
   "metadata": {},
   "source": [
    "For the sake of our future analysis, we only want to keep data where we have values for all variables. If there is not avaliable data for either gdp_per_cap, life_exp, child_mort or popl we delete the observation. This is the case for 37 countries in our dataset."
   ]
  },
  {
   "cell_type": "code",
   "execution_count": null,
   "metadata": {},
   "outputs": [],
   "source": [
    "# create logical index\n",
    "I = wd.gdp_per_cap == '..'\n",
    "I |= wd.life_exp == '..'\n",
    "I |= wd.child_mort == '..'\n",
    "I |= wd.popl == '..'\n",
    "wd.loc[I, :]\n",
    "# print number of cases to delete\n",
    "print(f'Number of cases to deletes = {sum(I)}')\n",
    "# keep all other observations\n",
    "wd = wd.loc[I == False]\n",
    "wd.head()"
   ]
  },
  {
   "attachments": {},
   "cell_type": "markdown",
   "metadata": {},
   "source": [
    "We see that American Samoa and Andorra now is deleted because of missing values. The same goes for the other 35 observations."
   ]
  },
  {
   "attachments": {},
   "cell_type": "markdown",
   "metadata": {},
   "source": [
    "We see that there is a problem regarding the type of the variables. The dataframe has stored all the variabels as 'objects'."
   ]
  },
  {
   "cell_type": "code",
   "execution_count": null,
   "metadata": {},
   "outputs": [],
   "source": [
    "wd.info() # check the variable types of the dataframe"
   ]
  },
  {
   "attachments": {},
   "cell_type": "markdown",
   "metadata": {},
   "source": [
    "We change the variable types to the correct ones, so we can work with them."
   ]
  },
  {
   "cell_type": "code",
   "execution_count": null,
   "metadata": {},
   "outputs": [],
   "source": [
    "# change types\n",
    "wd.country = wd.country.astype('string')\n",
    "wd.gdp_per_cap = wd.gdp_per_cap.astype(float)\n",
    "wd.life_exp = wd.life_exp.astype(float)\n",
    "wd.child_mort = wd.child_mort.astype(float)\n",
    "wd.popl = wd.popl.astype(float)\n",
    "# check correct types\n",
    "wd.info()"
   ]
  },
  {
   "attachments": {},
   "cell_type": "markdown",
   "metadata": {},
   "source": [
    "We change the population size to be in millions (this will make it easier for us to make a graph later)"
   ]
  },
  {
   "cell_type": "code",
   "execution_count": null,
   "metadata": {},
   "outputs": [],
   "source": [
    "wd.popl = wd.popl*(10**-6) # change to millions\n",
    "wd.head()"
   ]
  },
  {
   "attachments": {},
   "cell_type": "markdown",
   "metadata": {},
   "source": [
    "## **Dataset 2: Continents**"
   ]
  },
  {
   "attachments": {},
   "cell_type": "markdown",
   "metadata": {},
   "source": [
    "We import another dataset containing the continent for each contry. The data set origins from Our World in Data and is also imported as a pre-downloaded csv.file."
   ]
  },
  {
   "cell_type": "code",
   "execution_count": null,
   "metadata": {},
   "outputs": [],
   "source": [
    "# import data\n",
    "cd = pd.read_csv('ContinentData.csv')\n",
    "# inspect data\n",
    "cd.head()"
   ]
  },
  {
   "cell_type": "code",
   "execution_count": null,
   "metadata": {},
   "outputs": [],
   "source": [
    "# drop the following colums: Code and Year\n",
    "drop_cont = ['Code', 'Year']\n",
    "cd.drop(drop_cont, axis=1, inplace=True)\n",
    "# rename columns\n",
    "cd.rename(columns = {'Entity':'country', 'Continent':'continent'}, inplace=True)\n",
    "\n",
    "# change types\n",
    "cd.country = cd.country.astype('string')\n",
    "cd.continent = cd.continent.astype('string')\n",
    "\n",
    "# check correct types\n",
    "cd.info()"
   ]
  },
  {
   "attachments": {},
   "cell_type": "markdown",
   "metadata": {},
   "source": [
    "## **Merge datasets**"
   ]
  },
  {
   "attachments": {},
   "cell_type": "markdown",
   "metadata": {},
   "source": [
    "We merge the two dataframes wd and cd. We only want to keep observations which are available in both datasets. Therefore we use the 'inner'-method to merge the two data sets. We merge on the country variable which is common for the two datasets."
   ]
  },
  {
   "cell_type": "code",
   "execution_count": null,
   "metadata": {},
   "outputs": [],
   "source": [
    "# merge datasets\n",
    "wd_cont = pd.merge(wd, cd, how = 'inner', on = 'country')\n",
    "print(f'Number of countries = {len(wd_cont.country.unique())}')"
   ]
  },
  {
   "attachments": {},
   "cell_type": "markdown",
   "metadata": {},
   "source": [
    "Our merge using the 'inner'-method have further deleted 19 countries. We now have all the information we want for 161 countries. We believe that this is a sufficient number of observations for our analysis.\n",
    "We know that, in general, we should not merge on country names, because these can vary across sources in spelling. Instead an idea could be to merge on country code (which we drop in the cleaning of our dataset). We do not keep the country code because we face issues when trying to pivot the dataset from long to wide and wanting to keep both country name and country code. "
   ]
  },
  {
   "attachments": {},
   "cell_type": "markdown",
   "metadata": {},
   "source": [
    "## **Examining Our Data**"
   ]
  },
  {
   "attachments": {},
   "cell_type": "markdown",
   "metadata": {},
   "source": [
    "In this section, we will examine our datasets by using some summary statistics. We begin by using the df.describe function. This gives us an overall view of our data."
   ]
  },
  {
   "cell_type": "code",
   "execution_count": null,
   "metadata": {},
   "outputs": [],
   "source": [
    "# summary statistics\n",
    "wd_cont.describe()"
   ]
  },
  {
   "attachments": {},
   "cell_type": "markdown",
   "metadata": {},
   "source": [
    "If we look at life expectancy, this function provides us information about:\n",
    "- The average life expectancy in the world is 72.5 years.\n",
    "- The lowest life expectancy for a country in the world is 52.9 years.\n",
    "- The 25th (50th, 75th) percentile country of those with the lowest life expectancy expects to live 66.4 (73.9, 78.7) years.\n",
    "- The highest life expectancy for a country in the world is 84.4 years."
   ]
  },
  {
   "attachments": {},
   "cell_type": "markdown",
   "metadata": {},
   "source": [
    "To further examine the data, with regards to our later graphs, we will look at the average life expectancy across continents."
   ]
  },
  {
   "attachments": {},
   "cell_type": "markdown",
   "metadata": {},
   "source": [
    "*Average life expectancy by continent:*"
   ]
  },
  {
   "cell_type": "code",
   "execution_count": null,
   "metadata": {},
   "outputs": [],
   "source": [
    "# using groupedby to calculate within means\n",
    "wd_grouped1 = wd_cont.groupby(['continent'])['life_exp'].mean() # by life expectancy\n",
    "wd_grouped2 = wd_cont.groupby(['continent'])['gdp_per_cap'].mean() # by income\n",
    "# print all continents\n",
    "print(f'Average life expectancy by: {wd_grouped1}')\n",
    "print(f'Average income by: {wd_grouped2}')"
   ]
  },
  {
   "attachments": {},
   "cell_type": "markdown",
   "metadata": {},
   "source": [
    "We see how life expectancy varies across continents. The average life expectancy in Africa is the lowest in the world with a life expectancy of 63.7 years, while the average life expectancy in Europe is 79.6 years and the highest average in the world.\n",
    "\n",
    "We plot this in a bar chart."
   ]
  },
  {
   "cell_type": "code",
   "execution_count": null,
   "metadata": {},
   "outputs": [],
   "source": [
    "# create figure\n",
    "fig = plt.figure()\n",
    "# create plot as bar chart\n",
    "ax = fig.add_subplot(1,1,1)\n",
    "wd_grouped1.plot(kind='bar', label='_nolegend_')\n",
    "# alterations to plot\n",
    "plt.ylim(50,80)\n",
    "plt.xticks(rotation=45, ha='right')\n",
    "ax.set_title(\"Average life expectancy by continent\")\n",
    "ax.set_ylabel(\"avg. life expectancy\")\n",
    "# add world average life expectancy as horizontal line\n",
    "plt.axhline(y = np.nanmean(wd_cont.life_exp), color='black', label='World avg. life expectancy')\n",
    "plt.legend(frameon=False)\n",
    "plt.show()"
   ]
  },
  {
   "attachments": {},
   "cell_type": "markdown",
   "metadata": {},
   "source": [
    "We see that Africa and Oceania have average life expectancies below the world average. The average life expectancy in Africa is 8.8 years lower than the world average. To examine this further, we will present the Preston Curve in the next section as well as child mortality across continents."
   ]
  },
  {
   "attachments": {},
   "cell_type": "markdown",
   "metadata": {},
   "source": [
    "We do the same for income across continents"
   ]
  },
  {
   "cell_type": "code",
   "execution_count": null,
   "metadata": {},
   "outputs": [],
   "source": [
    "# create figure\n",
    "fig = plt.figure()\n",
    "# create plot as bar chart\n",
    "ax = fig.add_subplot(1,1,1)\n",
    "wd_grouped2.plot(kind='bar', label='_nolegend_')\n",
    "# alterations to plot\n",
    "plt.xticks(rotation=45, ha='right')\n",
    "ax.set_title(\"Average GDP per capita across continents\")\n",
    "ax.set_ylabel(\"avg. GDP per cap\")\n",
    "# add world average life expectancy as horizontal line\n",
    "plt.axhline(y = np.nanmean(wd_cont.gdp_per_cap), color='black', label='World avg. GDP per cap')\n",
    "plt.legend(frameon=False)\n",
    "plt.show()"
   ]
  },
  {
   "attachments": {},
   "cell_type": "markdown",
   "metadata": {},
   "source": [
    "The two bar charts show the same pattern. Again we see that Africa and Oceania being significantly below the world average and Europe dragging up the average."
   ]
  },
  {
   "attachments": {},
   "cell_type": "markdown",
   "metadata": {},
   "source": [
    "## **The Preston Curve**"
   ]
  },
  {
   "attachments": {},
   "cell_type": "markdown",
   "metadata": {},
   "source": [
    "We want to show the relationship between income and life expentancy for all countries which contains data for both. Using a scatterplot we get the following relationship."
   ]
  },
  {
   "cell_type": "code",
   "execution_count": null,
   "metadata": {},
   "outputs": [],
   "source": [
    "# create figure\n",
    "fig = plt.figure()\n",
    "# create plot\n",
    "ax = fig.add_subplot(1,1,1)\n",
    "plt.scatter(wd.gdp_per_cap, wd.life_exp)\n",
    "\n",
    "# alterations to figure\n",
    "ax.set(xlim=(0, 70000), ylim=(50, 90))\n",
    "ax.set_title('Relationship between income and life expectancy')\n",
    "ax.set_xlabel('GDP per capita, 2019 (US$, PPP)')\n",
    "ax.set_ylabel('Life expantancy at birth, 2019')\n"
   ]
  },
  {
   "attachments": {},
   "cell_type": "markdown",
   "metadata": {},
   "source": [
    "We have now show the relationship between the income and life expectancy with a simple figure. Using our learned skills we will make the figure look nice and more readable."
   ]
  },
  {
   "attachments": {},
   "cell_type": "markdown",
   "metadata": {},
   "source": [
    "We create a dictionary where we asign a colour to each continent"
   ]
  },
  {
   "cell_type": "code",
   "execution_count": null,
   "metadata": {},
   "outputs": [],
   "source": [
    "# create dictionary assigning colours to continents\n",
    "colours = {\n",
    "    'Africa':'purple',\n",
    "    'Asia':'yellow',\n",
    "    'Europe':'green',\n",
    "    'North America':'blue',\n",
    "    'Oceania':'red',\n",
    "    'South America':'orange'\n",
    "}"
   ]
  },
  {
   "cell_type": "code",
   "execution_count": null,
   "metadata": {},
   "outputs": [],
   "source": [
    "# map dictionary of colours over continents to assign the correct colours for each continent\n",
    "wd_cont['colour'] = wd_cont['continent'].map(colours)\n",
    "wd_cont.head()"
   ]
  },
  {
   "attachments": {},
   "cell_type": "markdown",
   "metadata": {},
   "source": [
    "We will now present the Preston Curve. In the plot we will colour coordinate the continents to visually show how life expectancy varies across continents as seen in the bar chart above. Furthermore, we will population size of each country into account when presenting each observation in the scatter plot."
   ]
  },
  {
   "cell_type": "code",
   "execution_count": null,
   "metadata": {},
   "outputs": [],
   "source": [
    "# create figure\n",
    "fig = plt.figure()\n",
    "# create plot\n",
    "ax = fig.add_subplot(1,1,1)\n",
    "plt.scatter(wd_cont.gdp_per_cap, wd_cont.life_exp, s = wd_cont.popl, c=wd_cont['colour'], alpha=0.5) #We add s equal to the population size\n",
    "\n",
    "# add fitted line\n",
    "z = np.polyfit(wd_cont.gdp_per_cap, wd_cont.life_exp, 2)\n",
    "p = np.poly1d(z)\n",
    "print(p)\n",
    "sorted = np.sort(wd_cont.gdp_per_cap)\n",
    "plt.plot(sorted, p(sorted), color='black')\n",
    "\n",
    "# add text to selected countries\n",
    "china_index = wd_cont.loc[wd_cont.country == \"China\"].index[0]\n",
    "plt.text(wd_cont.gdp_per_cap[china_index], wd_cont.life_exp[china_index], \"China\")\n",
    "nigeria_index = wd_cont.loc[wd_cont.country == \"Nigeria\"].index[0]\n",
    "plt.text(wd_cont.gdp_per_cap[nigeria_index], wd_cont.life_exp[nigeria_index], \"Nigeria\")\n",
    "usa_index = wd_cont.loc[wd_cont.country == \"United States\"].index[0]\n",
    "plt.text(wd_cont.gdp_per_cap[usa_index], wd_cont.life_exp[usa_index], \"USA\")\n",
    "\n",
    "# alterations to figure\n",
    "ax.set(xlim=(0, 70000), ylim=(50, 90))\n",
    "ax.set_title('Relationship between income and life expectancy')\n",
    "ax.set_xlabel('GDP per capita, 2019 (US$, PPP)')\n",
    "ax.set_ylabel('Life expantancy at birth, 2019')\n",
    "# add legend: colours corresponding to continents\n",
    "legend_elements = [Line2D([0],[0], marker='o', color=colour, linestyle='') for colour in colours.values()]\n",
    "ax.legend(legend_elements, colours.keys(), numpoints=1)"
   ]
  },
  {
   "attachments": {},
   "cell_type": "markdown",
   "metadata": {},
   "source": [
    "From the figure we see that life expectancy grows rapidly for higher incomes. For low incomes a small increase in income implies large increases in life expectancy. At higher incomes, the increase in expected longevity seems to become smaller and smaller. As expected, the countries with the lowest life expectnancy can be found in Africa, as we see a larger concentration of the purple colour in the lower left area of the plot. Likewise, we see a large concentration of the green colour representing Europe in the upper right corner of the plot. For Oceania, the life expectancy was below the world average. From this plot it becomes noticeable that it is a few countries dragging down the average as we have some countries in Oceania in the upper right corner of the plot and some countries in the left side of the plot with low income and low life expectancy."
   ]
  },
  {
   "attachments": {},
   "cell_type": "markdown",
   "metadata": {},
   "source": [
    "As seen in the plot, we add a fitted line using the polyfit funnction. This provides us with an expression for the fitted line: life_exp = -3.994e-09*(gdp_per_cap)^2 + 0.0005767*(gdp_per_cap) + 63.76. This is not a regression prediction, but is still only a very simple approximation of the non-linear relationship between income and life expectancy which only can be interpreted as a correlation."
   ]
  },
  {
   "attachments": {},
   "cell_type": "markdown",
   "metadata": {},
   "source": [
    "After having presented the Preston curve, we want to present why especially Africa has a very low life expectancy. This is due to the fact that child mortality is very high in this region contrary to the more developed parts of the world where income is higher."
   ]
  },
  {
   "cell_type": "code",
   "execution_count": null,
   "metadata": {},
   "outputs": [],
   "source": [
    "# create figure\n",
    "fig = plt.figure()\n",
    "# create plot\n",
    "ax = fig.add_subplot(1,1,1)\n",
    "plt.scatter(wd_cont.gdp_per_cap, wd_cont.child_mort, c=wd_cont['colour'], alpha=0.8)\n",
    "\n",
    "# alterations to figure\n",
    "ax.set_title('Relationship between income and child mortality')\n",
    "ax.set_xlabel('GDP per capita, 2019 (US$, PPP)')\n",
    "ax.set_ylabel('Mortality rate, under-5 (per 1,000 births)')\n",
    "# add legend: colours corresponding to continents\n",
    "legend_elements = [Line2D([0],[0], marker='o', color=colour, linestyle='') for colour in colours.values()]\n",
    "ax.legend(legend_elements, colours.keys(), numpoints=1)"
   ]
  },
  {
   "attachments": {},
   "cell_type": "markdown",
   "metadata": {},
   "source": [
    "We see that child mortality for Africa is concentrated to the top left of the plot implying a high child mortality and a low income. Child mortality decreases rapidly for higher incomes. Europe has a low child mortality at different (higher) income levels."
   ]
  },
  {
   "attachments": {},
   "cell_type": "markdown",
   "metadata": {},
   "source": [
    "# **Conclusion**"
   ]
  },
  {
   "attachments": {},
   "cell_type": "markdown",
   "metadata": {},
   "source": [
    "In this project, we succeed in reproducing the Preston Curve and thereby showing the positive relationship between income and life expectancy.\n",
    "\n",
    "We find, in line with other empirics, that life expectancy in Africa is visibly lower than in other (richer) parts of the world. This low life expectancy is greatly due to the high child mortality in Africa."
   ]
  }
 ],
 "metadata": {
  "kernelspec": {
   "display_name": "base",
   "language": "python",
   "name": "python3"
  },
  "language_info": {
   "codemirror_mode": {
    "name": "ipython",
    "version": 3
   },
   "file_extension": ".py",
   "mimetype": "text/x-python",
   "name": "python",
   "nbconvert_exporter": "python",
   "pygments_lexer": "ipython3",
   "version": "3.9.13"
  },
  "toc-autonumbering": true,
  "vscode": {
   "interpreter": {
    "hash": "dcf1a8682162ea4489d11bfd2867122677541aeac7e7f0427c1bfeb51d7ed9c5"
   }
  }
 },
 "nbformat": 4,
 "nbformat_minor": 4
}
