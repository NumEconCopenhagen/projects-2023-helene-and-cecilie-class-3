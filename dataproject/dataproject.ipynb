{
 "cells": [
  {
   "cell_type": "markdown",
   "metadata": {},
   "source": [
    "# YOUR PROJECT TITLE"
   ]
  },
  {
   "attachments": {},
   "cell_type": "markdown",
   "metadata": {},
   "source": [
    "> **Note the following:** \n",
    "> 1. This is *not* meant to be an example of an actual **data analysis project**, just an example of how to structure such a project.\n",
    "> 1. Remember the general advice on structuring and commenting your code\n",
    "> 1. The `dataproject.py` file includes a function which can be used multiple times in this notebook."
   ]
  },
  {
   "cell_type": "markdown",
   "metadata": {},
   "source": [
    "Imports and set magics:"
   ]
  },
  {
   "cell_type": "code",
   "execution_count": 5,
   "metadata": {},
   "outputs": [],
   "source": [
    "import pandas as pd\n",
    "import numpy as np\n",
    "import matplotlib.pyplot as plt\n",
    "import ipywidgets as widgets\n",
    "#from matplotlib_venn import venn2\n",
    "\n",
    "# autoreload modules when code is run\n",
    "%load_ext autoreload\n",
    "%autoreload 2\n",
    "\n",
    "# user written modules\n",
    "#import dataproject\n"
   ]
  },
  {
   "cell_type": "markdown",
   "metadata": {},
   "source": [
    "# Read and clean data"
   ]
  },
  {
   "attachments": {},
   "cell_type": "markdown",
   "metadata": {},
   "source": [
    "## Dataset 1: World Bank development indicators"
   ]
  },
  {
   "attachments": {},
   "cell_type": "markdown",
   "metadata": {},
   "source": [
    "We import data from the worldbanks databanks world development indicators. We import the data through a csv-file. The csv-file contains data for all 217 countries in the world. The included variables are GDP per capita in 2019, PPP current international $, life expectancy at birth in 2019, and population in 2019. "
   ]
  },
  {
   "cell_type": "code",
   "execution_count": 6,
   "metadata": {},
   "outputs": [
    {
     "data": {
      "text/html": [
       "<div>\n",
       "<style scoped>\n",
       "    .dataframe tbody tr th:only-of-type {\n",
       "        vertical-align: middle;\n",
       "    }\n",
       "\n",
       "    .dataframe tbody tr th {\n",
       "        vertical-align: top;\n",
       "    }\n",
       "\n",
       "    .dataframe thead th {\n",
       "        text-align: right;\n",
       "    }\n",
       "</style>\n",
       "<table border=\"1\" class=\"dataframe\">\n",
       "  <thead>\n",
       "    <tr style=\"text-align: right;\">\n",
       "      <th></th>\n",
       "      <th>Country Name</th>\n",
       "      <th>Country Code</th>\n",
       "      <th>Series Name</th>\n",
       "      <th>Series Code</th>\n",
       "      <th>2019 [YR2019]</th>\n",
       "    </tr>\n",
       "  </thead>\n",
       "  <tbody>\n",
       "    <tr>\n",
       "      <th>0</th>\n",
       "      <td>Afghanistan</td>\n",
       "      <td>AFG</td>\n",
       "      <td>GDP per capita, PPP (current international $)</td>\n",
       "      <td>NY.GDP.PCAP.PP.CD</td>\n",
       "      <td>2167.70411054404</td>\n",
       "    </tr>\n",
       "    <tr>\n",
       "      <th>1</th>\n",
       "      <td>Afghanistan</td>\n",
       "      <td>AFG</td>\n",
       "      <td>Mortality rate, under-5 (per 1,000 live births)</td>\n",
       "      <td>SH.DYN.MORT</td>\n",
       "      <td>59.9</td>\n",
       "    </tr>\n",
       "    <tr>\n",
       "      <th>2</th>\n",
       "      <td>Afghanistan</td>\n",
       "      <td>AFG</td>\n",
       "      <td>Population, total</td>\n",
       "      <td>SP.POP.TOTL</td>\n",
       "      <td>37769499</td>\n",
       "    </tr>\n",
       "    <tr>\n",
       "      <th>3</th>\n",
       "      <td>Afghanistan</td>\n",
       "      <td>AFG</td>\n",
       "      <td>Life expectancy at birth, total (years)</td>\n",
       "      <td>SP.DYN.LE00.IN</td>\n",
       "      <td>63.565</td>\n",
       "    </tr>\n",
       "    <tr>\n",
       "      <th>4</th>\n",
       "      <td>Albania</td>\n",
       "      <td>ALB</td>\n",
       "      <td>GDP per capita, PPP (current international $)</td>\n",
       "      <td>NY.GDP.PCAP.PP.CD</td>\n",
       "      <td>14407.3656909018</td>\n",
       "    </tr>\n",
       "  </tbody>\n",
       "</table>\n",
       "</div>"
      ],
      "text/plain": [
       "  Country Name Country Code                                      Series Name  \\\n",
       "0  Afghanistan          AFG    GDP per capita, PPP (current international $)   \n",
       "1  Afghanistan          AFG  Mortality rate, under-5 (per 1,000 live births)   \n",
       "2  Afghanistan          AFG                                Population, total   \n",
       "3  Afghanistan          AFG          Life expectancy at birth, total (years)   \n",
       "4      Albania          ALB    GDP per capita, PPP (current international $)   \n",
       "\n",
       "         Series Code     2019 [YR2019]  \n",
       "0  NY.GDP.PCAP.PP.CD  2167.70411054404  \n",
       "1        SH.DYN.MORT              59.9  \n",
       "2        SP.POP.TOTL          37769499  \n",
       "3     SP.DYN.LE00.IN            63.565  \n",
       "4  NY.GDP.PCAP.PP.CD  14407.3656909018  "
      ]
     },
     "execution_count": 6,
     "metadata": {},
     "output_type": "execute_result"
    }
   ],
   "source": [
    "wd = pd.read_csv('WorldData.csv') # Import data\n",
    "wd.head() # Inspect data"
   ]
  },
  {
   "attachments": {},
   "cell_type": "markdown",
   "metadata": {},
   "source": [
    "We clean out dataset. We being by deleting the colums we dont need, which is country code and series code. "
   ]
  },
  {
   "cell_type": "code",
   "execution_count": 7,
   "metadata": {},
   "outputs": [
    {
     "data": {
      "text/html": [
       "<div>\n",
       "<style scoped>\n",
       "    .dataframe tbody tr th:only-of-type {\n",
       "        vertical-align: middle;\n",
       "    }\n",
       "\n",
       "    .dataframe tbody tr th {\n",
       "        vertical-align: top;\n",
       "    }\n",
       "\n",
       "    .dataframe thead th {\n",
       "        text-align: right;\n",
       "    }\n",
       "</style>\n",
       "<table border=\"1\" class=\"dataframe\">\n",
       "  <thead>\n",
       "    <tr style=\"text-align: right;\">\n",
       "      <th></th>\n",
       "      <th>country</th>\n",
       "      <th>index</th>\n",
       "      <th>val</th>\n",
       "    </tr>\n",
       "  </thead>\n",
       "  <tbody>\n",
       "    <tr>\n",
       "      <th>0</th>\n",
       "      <td>Afghanistan</td>\n",
       "      <td>GDP per capita, PPP (current international $)</td>\n",
       "      <td>2167.70411054404</td>\n",
       "    </tr>\n",
       "    <tr>\n",
       "      <th>1</th>\n",
       "      <td>Afghanistan</td>\n",
       "      <td>Mortality rate, under-5 (per 1,000 live births)</td>\n",
       "      <td>59.9</td>\n",
       "    </tr>\n",
       "    <tr>\n",
       "      <th>2</th>\n",
       "      <td>Afghanistan</td>\n",
       "      <td>Population, total</td>\n",
       "      <td>37769499</td>\n",
       "    </tr>\n",
       "    <tr>\n",
       "      <th>3</th>\n",
       "      <td>Afghanistan</td>\n",
       "      <td>Life expectancy at birth, total (years)</td>\n",
       "      <td>63.565</td>\n",
       "    </tr>\n",
       "    <tr>\n",
       "      <th>4</th>\n",
       "      <td>Albania</td>\n",
       "      <td>GDP per capita, PPP (current international $)</td>\n",
       "      <td>14407.3656909018</td>\n",
       "    </tr>\n",
       "  </tbody>\n",
       "</table>\n",
       "</div>"
      ],
      "text/plain": [
       "       country                                            index  \\\n",
       "0  Afghanistan    GDP per capita, PPP (current international $)   \n",
       "1  Afghanistan  Mortality rate, under-5 (per 1,000 live births)   \n",
       "2  Afghanistan                                Population, total   \n",
       "3  Afghanistan          Life expectancy at birth, total (years)   \n",
       "4      Albania    GDP per capita, PPP (current international $)   \n",
       "\n",
       "                val  \n",
       "0  2167.70411054404  \n",
       "1              59.9  \n",
       "2          37769499  \n",
       "3            63.565  \n",
       "4  14407.3656909018  "
      ]
     },
     "execution_count": 7,
     "metadata": {},
     "output_type": "execute_result"
    }
   ],
   "source": [
    "# We drop the following colums: country code and series code\n",
    "drop_these = ['Country Code', 'Series Code']\n",
    "wd.drop(drop_these, axis=1, inplace=True)\n",
    "wd.rename(columns = {'Country Name':'country', 'Series Name':'index', '2019 [YR2019]':'val'}, inplace=True)\n",
    "wd.head()"
   ]
  },
  {
   "attachments": {},
   "cell_type": "markdown",
   "metadata": {},
   "source": [
    "We want to reshape the data set, in order to have all the information for a country in one row. "
   ]
  },
  {
   "cell_type": "code",
   "execution_count": 8,
   "metadata": {},
   "outputs": [
    {
     "data": {
      "text/html": [
       "<div>\n",
       "<style scoped>\n",
       "    .dataframe tbody tr th:only-of-type {\n",
       "        vertical-align: middle;\n",
       "    }\n",
       "\n",
       "    .dataframe tbody tr th {\n",
       "        vertical-align: top;\n",
       "    }\n",
       "\n",
       "    .dataframe thead th {\n",
       "        text-align: right;\n",
       "    }\n",
       "</style>\n",
       "<table border=\"1\" class=\"dataframe\">\n",
       "  <thead>\n",
       "    <tr style=\"text-align: right;\">\n",
       "      <th>index</th>\n",
       "      <th>country</th>\n",
       "      <th>GDP per capita, PPP (current international $)</th>\n",
       "      <th>Life expectancy at birth, total (years)</th>\n",
       "      <th>Mortality rate, under-5 (per 1,000 live births)</th>\n",
       "      <th>Population, total</th>\n",
       "    </tr>\n",
       "  </thead>\n",
       "  <tbody>\n",
       "    <tr>\n",
       "      <th>0</th>\n",
       "      <td>Afghanistan</td>\n",
       "      <td>2167.70411054404</td>\n",
       "      <td>63.565</td>\n",
       "      <td>59.9</td>\n",
       "      <td>37769499</td>\n",
       "    </tr>\n",
       "    <tr>\n",
       "      <th>1</th>\n",
       "      <td>Albania</td>\n",
       "      <td>14407.3656909018</td>\n",
       "      <td>79.282</td>\n",
       "      <td>9.4</td>\n",
       "      <td>2854191</td>\n",
       "    </tr>\n",
       "    <tr>\n",
       "      <th>2</th>\n",
       "      <td>Algeria</td>\n",
       "      <td>12118.0045004936</td>\n",
       "      <td>76.474</td>\n",
       "      <td>23.5</td>\n",
       "      <td>42705368</td>\n",
       "    </tr>\n",
       "    <tr>\n",
       "      <th>3</th>\n",
       "      <td>American Samoa</td>\n",
       "      <td>..</td>\n",
       "      <td>..</td>\n",
       "      <td>..</td>\n",
       "      <td>47321</td>\n",
       "    </tr>\n",
       "    <tr>\n",
       "      <th>4</th>\n",
       "      <td>Andorra</td>\n",
       "      <td>..</td>\n",
       "      <td>..</td>\n",
       "      <td>3</td>\n",
       "      <td>76343</td>\n",
       "    </tr>\n",
       "  </tbody>\n",
       "</table>\n",
       "</div>"
      ],
      "text/plain": [
       "index         country GDP per capita, PPP (current international $)  \\\n",
       "0         Afghanistan                              2167.70411054404   \n",
       "1             Albania                              14407.3656909018   \n",
       "2             Algeria                              12118.0045004936   \n",
       "3      American Samoa                                            ..   \n",
       "4             Andorra                                            ..   \n",
       "\n",
       "index Life expectancy at birth, total (years)  \\\n",
       "0                                      63.565   \n",
       "1                                      79.282   \n",
       "2                                      76.474   \n",
       "3                                          ..   \n",
       "4                                          ..   \n",
       "\n",
       "index Mortality rate, under-5 (per 1,000 live births) Population, total  \n",
       "0                                                59.9          37769499  \n",
       "1                                                 9.4           2854191  \n",
       "2                                                23.5          42705368  \n",
       "3                                                  ..             47321  \n",
       "4                                                   3             76343  "
      ]
     },
     "execution_count": 8,
     "metadata": {},
     "output_type": "execute_result"
    }
   ],
   "source": [
    "#\n",
    "wd = wd.pivot_table(index='country', columns='index', values='val', aggfunc='sum').reset_index()\n",
    "wd.head()\n"
   ]
  },
  {
   "attachments": {},
   "cell_type": "markdown",
   "metadata": {},
   "source": [
    "We change the variable names, such that there are no white spaces in columnames."
   ]
  },
  {
   "cell_type": "code",
   "execution_count": 9,
   "metadata": {},
   "outputs": [
    {
     "data": {
      "text/html": [
       "<div>\n",
       "<style scoped>\n",
       "    .dataframe tbody tr th:only-of-type {\n",
       "        vertical-align: middle;\n",
       "    }\n",
       "\n",
       "    .dataframe tbody tr th {\n",
       "        vertical-align: top;\n",
       "    }\n",
       "\n",
       "    .dataframe thead th {\n",
       "        text-align: right;\n",
       "    }\n",
       "</style>\n",
       "<table border=\"1\" class=\"dataframe\">\n",
       "  <thead>\n",
       "    <tr style=\"text-align: right;\">\n",
       "      <th>index</th>\n",
       "      <th>country</th>\n",
       "      <th>gdp_per_cap</th>\n",
       "      <th>life_exp</th>\n",
       "      <th>child_mort</th>\n",
       "      <th>popl</th>\n",
       "    </tr>\n",
       "  </thead>\n",
       "  <tbody>\n",
       "    <tr>\n",
       "      <th>0</th>\n",
       "      <td>Afghanistan</td>\n",
       "      <td>2167.70411054404</td>\n",
       "      <td>63.565</td>\n",
       "      <td>59.9</td>\n",
       "      <td>37769499</td>\n",
       "    </tr>\n",
       "    <tr>\n",
       "      <th>1</th>\n",
       "      <td>Albania</td>\n",
       "      <td>14407.3656909018</td>\n",
       "      <td>79.282</td>\n",
       "      <td>9.4</td>\n",
       "      <td>2854191</td>\n",
       "    </tr>\n",
       "    <tr>\n",
       "      <th>2</th>\n",
       "      <td>Algeria</td>\n",
       "      <td>12118.0045004936</td>\n",
       "      <td>76.474</td>\n",
       "      <td>23.5</td>\n",
       "      <td>42705368</td>\n",
       "    </tr>\n",
       "    <tr>\n",
       "      <th>3</th>\n",
       "      <td>American Samoa</td>\n",
       "      <td>..</td>\n",
       "      <td>..</td>\n",
       "      <td>..</td>\n",
       "      <td>47321</td>\n",
       "    </tr>\n",
       "    <tr>\n",
       "      <th>4</th>\n",
       "      <td>Andorra</td>\n",
       "      <td>..</td>\n",
       "      <td>..</td>\n",
       "      <td>3</td>\n",
       "      <td>76343</td>\n",
       "    </tr>\n",
       "  </tbody>\n",
       "</table>\n",
       "</div>"
      ],
      "text/plain": [
       "index         country       gdp_per_cap life_exp child_mort      popl\n",
       "0         Afghanistan  2167.70411054404   63.565       59.9  37769499\n",
       "1             Albania  14407.3656909018   79.282        9.4   2854191\n",
       "2             Algeria  12118.0045004936   76.474       23.5  42705368\n",
       "3      American Samoa                ..       ..         ..     47321\n",
       "4             Andorra                ..       ..          3     76343"
      ]
     },
     "execution_count": 9,
     "metadata": {},
     "output_type": "execute_result"
    }
   ],
   "source": [
    "var_dict = {} # var is for variable\n",
    "var_dict['GDP per capita, PPP (current international $)'] = 'gdp_per_cap'\n",
    "var_dict['Life expectancy at birth, total (years)'] = 'life_exp'\n",
    "var_dict['Mortality rate, under-5 (per 1,000 live births)'] = 'child_mort'\n",
    "var_dict['Population, total'] = 'popl'\n",
    "\n",
    "wd.rename(columns = var_dict,inplace=True)\n",
    "wd.head()\n"
   ]
  },
  {
   "attachments": {},
   "cell_type": "markdown",
   "metadata": {},
   "source": [
    "For the sake of future analysis we only want to keep data, where we have values for all variables. If there is not avaliable data for either gdp_per_cap, life_exp or popl we delete the observation. This is the case for 32 countries in our dataset."
   ]
  },
  {
   "cell_type": "code",
   "execution_count": 10,
   "metadata": {},
   "outputs": [
    {
     "name": "stdout",
     "output_type": "stream",
     "text": [
      "37\n"
     ]
    },
    {
     "data": {
      "text/html": [
       "<div>\n",
       "<style scoped>\n",
       "    .dataframe tbody tr th:only-of-type {\n",
       "        vertical-align: middle;\n",
       "    }\n",
       "\n",
       "    .dataframe tbody tr th {\n",
       "        vertical-align: top;\n",
       "    }\n",
       "\n",
       "    .dataframe thead th {\n",
       "        text-align: right;\n",
       "    }\n",
       "</style>\n",
       "<table border=\"1\" class=\"dataframe\">\n",
       "  <thead>\n",
       "    <tr style=\"text-align: right;\">\n",
       "      <th>index</th>\n",
       "      <th>country</th>\n",
       "      <th>gdp_per_cap</th>\n",
       "      <th>life_exp</th>\n",
       "      <th>child_mort</th>\n",
       "      <th>popl</th>\n",
       "    </tr>\n",
       "  </thead>\n",
       "  <tbody>\n",
       "    <tr>\n",
       "      <th>0</th>\n",
       "      <td>Afghanistan</td>\n",
       "      <td>2167.70411054404</td>\n",
       "      <td>63.565</td>\n",
       "      <td>59.9</td>\n",
       "      <td>37769499</td>\n",
       "    </tr>\n",
       "    <tr>\n",
       "      <th>1</th>\n",
       "      <td>Albania</td>\n",
       "      <td>14407.3656909018</td>\n",
       "      <td>79.282</td>\n",
       "      <td>9.4</td>\n",
       "      <td>2854191</td>\n",
       "    </tr>\n",
       "    <tr>\n",
       "      <th>2</th>\n",
       "      <td>Algeria</td>\n",
       "      <td>12118.0045004936</td>\n",
       "      <td>76.474</td>\n",
       "      <td>23.5</td>\n",
       "      <td>42705368</td>\n",
       "    </tr>\n",
       "    <tr>\n",
       "      <th>5</th>\n",
       "      <td>Angola</td>\n",
       "      <td>6881.07624117546</td>\n",
       "      <td>62.448</td>\n",
       "      <td>75</td>\n",
       "      <td>32353588</td>\n",
       "    </tr>\n",
       "    <tr>\n",
       "      <th>6</th>\n",
       "      <td>Antigua and Barbuda</td>\n",
       "      <td>24007.8684845165</td>\n",
       "      <td>78.691</td>\n",
       "      <td>6.6</td>\n",
       "      <td>92117</td>\n",
       "    </tr>\n",
       "  </tbody>\n",
       "</table>\n",
       "</div>"
      ],
      "text/plain": [
       "index              country       gdp_per_cap life_exp child_mort      popl\n",
       "0              Afghanistan  2167.70411054404   63.565       59.9  37769499\n",
       "1                  Albania  14407.3656909018   79.282        9.4   2854191\n",
       "2                  Algeria  12118.0045004936   76.474       23.5  42705368\n",
       "5                   Angola  6881.07624117546   62.448         75  32353588\n",
       "6      Antigua and Barbuda  24007.8684845165   78.691        6.6     92117"
      ]
     },
     "execution_count": 10,
     "metadata": {},
     "output_type": "execute_result"
    }
   ],
   "source": [
    "# create logical index\n",
    "I = wd.gdp_per_cap == '..'\n",
    "I |= wd.life_exp == '..'\n",
    "I |= wd.child_mort == '..'\n",
    "I |= wd.popl == '..'\n",
    "wd.loc[I, :]\n",
    "# print number of cases to delete\n",
    "print(sum(I))\n",
    "# keep all other observations\n",
    "wd = wd.loc[I == False]\n",
    "wd.head()"
   ]
  },
  {
   "attachments": {},
   "cell_type": "markdown",
   "metadata": {},
   "source": [
    "We see that American Samoa and Andorra now is deleted because of missing values. The same goes for the other 35 observations."
   ]
  },
  {
   "attachments": {},
   "cell_type": "markdown",
   "metadata": {},
   "source": [
    "We see that there is a problem regarding the type of the variables. The dataframe has stored all the variabels as 'objects'."
   ]
  },
  {
   "cell_type": "code",
   "execution_count": 11,
   "metadata": {},
   "outputs": [
    {
     "name": "stdout",
     "output_type": "stream",
     "text": [
      "<class 'pandas.core.frame.DataFrame'>\n",
      "Int64Index: 180 entries, 0 to 216\n",
      "Data columns (total 5 columns):\n",
      " #   Column       Non-Null Count  Dtype \n",
      "---  ------       --------------  ----- \n",
      " 0   country      180 non-null    object\n",
      " 1   gdp_per_cap  180 non-null    object\n",
      " 2   life_exp     180 non-null    object\n",
      " 3   child_mort   180 non-null    object\n",
      " 4   popl         180 non-null    object\n",
      "dtypes: object(5)\n",
      "memory usage: 8.4+ KB\n"
     ]
    }
   ],
   "source": [
    "wd.info() #We check the variable types in the dataframe"
   ]
  },
  {
   "attachments": {},
   "cell_type": "markdown",
   "metadata": {},
   "source": [
    "We change the variable types to the correct ones, so we can work with them."
   ]
  },
  {
   "cell_type": "code",
   "execution_count": 12,
   "metadata": {},
   "outputs": [
    {
     "name": "stdout",
     "output_type": "stream",
     "text": [
      "<class 'pandas.core.frame.DataFrame'>\n",
      "Int64Index: 180 entries, 0 to 216\n",
      "Data columns (total 5 columns):\n",
      " #   Column       Non-Null Count  Dtype  \n",
      "---  ------       --------------  -----  \n",
      " 0   country      180 non-null    string \n",
      " 1   gdp_per_cap  180 non-null    float64\n",
      " 2   life_exp     180 non-null    float64\n",
      " 3   child_mort   180 non-null    float64\n",
      " 4   popl         180 non-null    float64\n",
      "dtypes: float64(4), string(1)\n",
      "memory usage: 8.4 KB\n"
     ]
    }
   ],
   "source": [
    "wd.country = wd.country.astype('string')\n",
    "wd.gdp_per_cap = wd.gdp_per_cap.astype(float)\n",
    "wd.life_exp = wd.life_exp.astype(float)\n",
    "wd.child_mort = wd.child_mort.astype(float)\n",
    "wd.popl = wd.popl.astype(float)\n",
    "\n",
    "wd.info()"
   ]
  },
  {
   "attachments": {},
   "cell_type": "markdown",
   "metadata": {},
   "source": [
    "We change the population size to be in millions"
   ]
  },
  {
   "cell_type": "code",
   "execution_count": 13,
   "metadata": {},
   "outputs": [
    {
     "data": {
      "text/html": [
       "<div>\n",
       "<style scoped>\n",
       "    .dataframe tbody tr th:only-of-type {\n",
       "        vertical-align: middle;\n",
       "    }\n",
       "\n",
       "    .dataframe tbody tr th {\n",
       "        vertical-align: top;\n",
       "    }\n",
       "\n",
       "    .dataframe thead th {\n",
       "        text-align: right;\n",
       "    }\n",
       "</style>\n",
       "<table border=\"1\" class=\"dataframe\">\n",
       "  <thead>\n",
       "    <tr style=\"text-align: right;\">\n",
       "      <th>index</th>\n",
       "      <th>country</th>\n",
       "      <th>gdp_per_cap</th>\n",
       "      <th>life_exp</th>\n",
       "      <th>child_mort</th>\n",
       "      <th>popl</th>\n",
       "    </tr>\n",
       "  </thead>\n",
       "  <tbody>\n",
       "    <tr>\n",
       "      <th>0</th>\n",
       "      <td>Afghanistan</td>\n",
       "      <td>2167.704111</td>\n",
       "      <td>63.565</td>\n",
       "      <td>59.9</td>\n",
       "      <td>37.769499</td>\n",
       "    </tr>\n",
       "    <tr>\n",
       "      <th>1</th>\n",
       "      <td>Albania</td>\n",
       "      <td>14407.365691</td>\n",
       "      <td>79.282</td>\n",
       "      <td>9.4</td>\n",
       "      <td>2.854191</td>\n",
       "    </tr>\n",
       "    <tr>\n",
       "      <th>2</th>\n",
       "      <td>Algeria</td>\n",
       "      <td>12118.004500</td>\n",
       "      <td>76.474</td>\n",
       "      <td>23.5</td>\n",
       "      <td>42.705368</td>\n",
       "    </tr>\n",
       "    <tr>\n",
       "      <th>5</th>\n",
       "      <td>Angola</td>\n",
       "      <td>6881.076241</td>\n",
       "      <td>62.448</td>\n",
       "      <td>75.0</td>\n",
       "      <td>32.353588</td>\n",
       "    </tr>\n",
       "    <tr>\n",
       "      <th>6</th>\n",
       "      <td>Antigua and Barbuda</td>\n",
       "      <td>24007.868485</td>\n",
       "      <td>78.691</td>\n",
       "      <td>6.6</td>\n",
       "      <td>0.092117</td>\n",
       "    </tr>\n",
       "  </tbody>\n",
       "</table>\n",
       "</div>"
      ],
      "text/plain": [
       "index              country   gdp_per_cap  life_exp  child_mort       popl\n",
       "0              Afghanistan   2167.704111    63.565        59.9  37.769499\n",
       "1                  Albania  14407.365691    79.282         9.4   2.854191\n",
       "2                  Algeria  12118.004500    76.474        23.5  42.705368\n",
       "5                   Angola   6881.076241    62.448        75.0  32.353588\n",
       "6      Antigua and Barbuda  24007.868485    78.691         6.6   0.092117"
      ]
     },
     "execution_count": 13,
     "metadata": {},
     "output_type": "execute_result"
    }
   ],
   "source": [
    "wd.popl = wd.popl*(10**-6)\n",
    "wd.head()"
   ]
  },
  {
   "attachments": {},
   "cell_type": "markdown",
   "metadata": {},
   "source": [
    "## Dataset 2: Continents"
   ]
  },
  {
   "attachments": {},
   "cell_type": "markdown",
   "metadata": {},
   "source": [
    "We import another dataset containing the continent for each contry."
   ]
  },
  {
   "cell_type": "code",
   "execution_count": 14,
   "metadata": {},
   "outputs": [
    {
     "data": {
      "text/html": [
       "<div>\n",
       "<style scoped>\n",
       "    .dataframe tbody tr th:only-of-type {\n",
       "        vertical-align: middle;\n",
       "    }\n",
       "\n",
       "    .dataframe tbody tr th {\n",
       "        vertical-align: top;\n",
       "    }\n",
       "\n",
       "    .dataframe thead th {\n",
       "        text-align: right;\n",
       "    }\n",
       "</style>\n",
       "<table border=\"1\" class=\"dataframe\">\n",
       "  <thead>\n",
       "    <tr style=\"text-align: right;\">\n",
       "      <th></th>\n",
       "      <th>Entity</th>\n",
       "      <th>Code</th>\n",
       "      <th>Year</th>\n",
       "      <th>Continent</th>\n",
       "    </tr>\n",
       "  </thead>\n",
       "  <tbody>\n",
       "    <tr>\n",
       "      <th>0</th>\n",
       "      <td>Abkhazia</td>\n",
       "      <td>OWID_ABK</td>\n",
       "      <td>2015</td>\n",
       "      <td>Asia</td>\n",
       "    </tr>\n",
       "    <tr>\n",
       "      <th>1</th>\n",
       "      <td>Afghanistan</td>\n",
       "      <td>AFG</td>\n",
       "      <td>2015</td>\n",
       "      <td>Asia</td>\n",
       "    </tr>\n",
       "    <tr>\n",
       "      <th>2</th>\n",
       "      <td>Akrotiri and Dhekelia</td>\n",
       "      <td>OWID_AKD</td>\n",
       "      <td>2015</td>\n",
       "      <td>Asia</td>\n",
       "    </tr>\n",
       "    <tr>\n",
       "      <th>3</th>\n",
       "      <td>Albania</td>\n",
       "      <td>ALB</td>\n",
       "      <td>2015</td>\n",
       "      <td>Europe</td>\n",
       "    </tr>\n",
       "    <tr>\n",
       "      <th>4</th>\n",
       "      <td>Algeria</td>\n",
       "      <td>DZA</td>\n",
       "      <td>2015</td>\n",
       "      <td>Africa</td>\n",
       "    </tr>\n",
       "  </tbody>\n",
       "</table>\n",
       "</div>"
      ],
      "text/plain": [
       "                  Entity      Code  Year Continent\n",
       "0               Abkhazia  OWID_ABK  2015      Asia\n",
       "1            Afghanistan       AFG  2015      Asia\n",
       "2  Akrotiri and Dhekelia  OWID_AKD  2015      Asia\n",
       "3                Albania       ALB  2015    Europe\n",
       "4                Algeria       DZA  2015    Africa"
      ]
     },
     "execution_count": 14,
     "metadata": {},
     "output_type": "execute_result"
    }
   ],
   "source": [
    "cd = pd.read_csv('ContinentData.csv') # Import data\n",
    "cd.head() # Inspect data"
   ]
  },
  {
   "cell_type": "code",
   "execution_count": 15,
   "metadata": {},
   "outputs": [
    {
     "name": "stdout",
     "output_type": "stream",
     "text": [
      "<class 'pandas.core.frame.DataFrame'>\n",
      "RangeIndex: 285 entries, 0 to 284\n",
      "Data columns (total 2 columns):\n",
      " #   Column     Non-Null Count  Dtype \n",
      "---  ------     --------------  ----- \n",
      " 0   country    285 non-null    string\n",
      " 1   continent  285 non-null    string\n",
      "dtypes: string(2)\n",
      "memory usage: 4.6 KB\n"
     ]
    }
   ],
   "source": [
    "# We drop the following colums: Code and Year\n",
    "drop_cont = ['Code', 'Year']\n",
    "cd.drop(drop_cont, axis=1, inplace=True)\n",
    "cd.rename(columns = {'Entity':'country', 'Continent':'continent'}, inplace=True)\n",
    "\n",
    "cd.country = cd.country.astype('string')\n",
    "cd.continent = cd.continent.astype('string')\n",
    "\n",
    "cd.head()\n",
    "cd.info()"
   ]
  },
  {
   "attachments": {},
   "cell_type": "markdown",
   "metadata": {},
   "source": [
    "## Merge data sets"
   ]
  },
  {
   "attachments": {},
   "cell_type": "markdown",
   "metadata": {},
   "source": [
    "We merge the two datasets wd and cd"
   ]
  },
  {
   "cell_type": "code",
   "execution_count": 16,
   "metadata": {},
   "outputs": [
    {
     "name": "stdout",
     "output_type": "stream",
     "text": [
      "Number of countries =161\n"
     ]
    }
   ],
   "source": [
    "#\n",
    "\n",
    "wd_cont = pd.merge(wd, cd, how = 'inner', on = 'country')\n",
    "print(f'Number of countries ={len(wd_cont.country.unique())}')"
   ]
  },
  {
   "attachments": {},
   "cell_type": "markdown",
   "metadata": {},
   "source": [
    "Our merge have further deleted 19 countries. We now have all the information we want for 161 countries."
   ]
  },
  {
   "attachments": {},
   "cell_type": "markdown",
   "metadata": {},
   "source": [
    "## Preston curve"
   ]
  },
  {
   "attachments": {},
   "cell_type": "markdown",
   "metadata": {},
   "source": [
    "After cleaning and sorting out the data, we can now explore it.\n",
    "\n",
    "We want to show the relationship between income and life expentancy for all countries which contains data for both. Using a scatterplot we get the following relationship."
   ]
  },
  {
   "cell_type": "code",
   "execution_count": 17,
   "metadata": {},
   "outputs": [
    {
     "data": {
      "text/plain": [
       "Text(0, 0.5, 'Life expantancy at birth, 2019')"
      ]
     },
     "execution_count": 17,
     "metadata": {},
     "output_type": "execute_result"
    },
    {
     "data": {
      "image/png": "[encoded data removed]",
      "text/plain": [
       "<Figure size 640x480 with 1 Axes>"
      ]
     },
     "metadata": {},
     "output_type": "display_data"
    }
   ],
   "source": [
    "fig = plt.figure() #Create figure\n",
    "ax = fig.add_subplot(1,1,1) #Create plot\n",
    "plt.scatter(wd.gdp_per_cap, wd.life_exp)\n",
    "\n",
    "#Alterations to figure\n",
    "ax.set(xlim=(0, 70000), ylim=(50, 90))\n",
    "ax.set_title('Relationship between income and life expectancy')\n",
    "ax.set_xlabel('GDP per capita, 2019 (US$, PPP)')\n",
    "ax.set_ylabel('Life expantancy at birth, 2019')\n"
   ]
  },
  {
   "attachments": {},
   "cell_type": "markdown",
   "metadata": {},
   "source": [
    "We have now show the relationship between the income and life expectancy with a simple figure. Using our learned skills we will make the figure look nice and more readable."
   ]
  },
  {
   "attachments": {},
   "cell_type": "markdown",
   "metadata": {},
   "source": [
    "We create a dictionary where we asign a colour to each continent"
   ]
  },
  {
   "cell_type": "code",
   "execution_count": 20,
   "metadata": {},
   "outputs": [
    {
     "data": {
      "text/html": [
       "<div>\n",
       "<style scoped>\n",
       "    .dataframe tbody tr th:only-of-type {\n",
       "        vertical-align: middle;\n",
       "    }\n",
       "\n",
       "    .dataframe tbody tr th {\n",
       "        vertical-align: top;\n",
       "    }\n",
       "\n",
       "    .dataframe thead th {\n",
       "        text-align: right;\n",
       "    }\n",
       "</style>\n",
       "<table border=\"1\" class=\"dataframe\">\n",
       "  <thead>\n",
       "    <tr style=\"text-align: right;\">\n",
       "      <th></th>\n",
       "      <th>country</th>\n",
       "      <th>gdp_per_cap</th>\n",
       "      <th>life_exp</th>\n",
       "      <th>child_mort</th>\n",
       "      <th>popl</th>\n",
       "      <th>continent</th>\n",
       "      <th>colour</th>\n",
       "    </tr>\n",
       "  </thead>\n",
       "  <tbody>\n",
       "    <tr>\n",
       "      <th>0</th>\n",
       "      <td>Afghanistan</td>\n",
       "      <td>2167.704111</td>\n",
       "      <td>63.565</td>\n",
       "      <td>59.9</td>\n",
       "      <td>37.769499</td>\n",
       "      <td>Asia</td>\n",
       "      <td></td>\n",
       "    </tr>\n",
       "    <tr>\n",
       "      <th>1</th>\n",
       "      <td>Albania</td>\n",
       "      <td>14407.365691</td>\n",
       "      <td>79.282</td>\n",
       "      <td>9.4</td>\n",
       "      <td>2.854191</td>\n",
       "      <td>Europe</td>\n",
       "      <td></td>\n",
       "    </tr>\n",
       "    <tr>\n",
       "      <th>2</th>\n",
       "      <td>Algeria</td>\n",
       "      <td>12118.004500</td>\n",
       "      <td>76.474</td>\n",
       "      <td>23.5</td>\n",
       "      <td>42.705368</td>\n",
       "      <td>Africa</td>\n",
       "      <td></td>\n",
       "    </tr>\n",
       "    <tr>\n",
       "      <th>3</th>\n",
       "      <td>Angola</td>\n",
       "      <td>6881.076241</td>\n",
       "      <td>62.448</td>\n",
       "      <td>75.0</td>\n",
       "      <td>32.353588</td>\n",
       "      <td>Africa</td>\n",
       "      <td></td>\n",
       "    </tr>\n",
       "    <tr>\n",
       "      <th>4</th>\n",
       "      <td>Antigua and Barbuda</td>\n",
       "      <td>24007.868485</td>\n",
       "      <td>78.691</td>\n",
       "      <td>6.6</td>\n",
       "      <td>0.092117</td>\n",
       "      <td>North America</td>\n",
       "      <td></td>\n",
       "    </tr>\n",
       "  </tbody>\n",
       "</table>\n",
       "</div>"
      ],
      "text/plain": [
       "               country   gdp_per_cap  life_exp  child_mort       popl  \\\n",
       "0          Afghanistan   2167.704111    63.565        59.9  37.769499   \n",
       "1              Albania  14407.365691    79.282         9.4   2.854191   \n",
       "2              Algeria  12118.004500    76.474        23.5  42.705368   \n",
       "3               Angola   6881.076241    62.448        75.0  32.353588   \n",
       "4  Antigua and Barbuda  24007.868485    78.691         6.6   0.092117   \n",
       "\n",
       "       continent colour  \n",
       "0           Asia         \n",
       "1         Europe         \n",
       "2         Africa         \n",
       "3         Africa         \n",
       "4  North America         "
      ]
     },
     "execution_count": 20,
     "metadata": {},
     "output_type": "execute_result"
    }
   ],
   "source": [
    "wd_cont.head()"
   ]
  },
  {
   "cell_type": "code",
   "execution_count": 18,
   "metadata": {},
   "outputs": [],
   "source": [
    "colours = {\n",
    "    'Africa':'purple',\n",
    "    'Asia':'yellow',\n",
    "    'Europe':'green',\n",
    "    'North America':'blue',\n",
    "    'Oceania':'red',\n",
    "    'South America':'orange'\n",
    "}"
   ]
  },
  {
   "cell_type": "code",
   "execution_count": 24,
   "metadata": {},
   "outputs": [
    {
     "data": {
      "text/html": [
       "<div>\n",
       "<style scoped>\n",
       "    .dataframe tbody tr th:only-of-type {\n",
       "        vertical-align: middle;\n",
       "    }\n",
       "\n",
       "    .dataframe tbody tr th {\n",
       "        vertical-align: top;\n",
       "    }\n",
       "\n",
       "    .dataframe thead th {\n",
       "        text-align: right;\n",
       "    }\n",
       "</style>\n",
       "<table border=\"1\" class=\"dataframe\">\n",
       "  <thead>\n",
       "    <tr style=\"text-align: right;\">\n",
       "      <th></th>\n",
       "      <th>country</th>\n",
       "      <th>gdp_per_cap</th>\n",
       "      <th>life_exp</th>\n",
       "      <th>child_mort</th>\n",
       "      <th>popl</th>\n",
       "      <th>continent</th>\n",
       "      <th>colour</th>\n",
       "    </tr>\n",
       "  </thead>\n",
       "  <tbody>\n",
       "    <tr>\n",
       "      <th>0</th>\n",
       "      <td>Afghanistan</td>\n",
       "      <td>2167.704111</td>\n",
       "      <td>63.565</td>\n",
       "      <td>59.9</td>\n",
       "      <td>37.769499</td>\n",
       "      <td>Asia</td>\n",
       "      <td>yellow</td>\n",
       "    </tr>\n",
       "    <tr>\n",
       "      <th>1</th>\n",
       "      <td>Albania</td>\n",
       "      <td>14407.365691</td>\n",
       "      <td>79.282</td>\n",
       "      <td>9.4</td>\n",
       "      <td>2.854191</td>\n",
       "      <td>Europe</td>\n",
       "      <td>green</td>\n",
       "    </tr>\n",
       "    <tr>\n",
       "      <th>2</th>\n",
       "      <td>Algeria</td>\n",
       "      <td>12118.004500</td>\n",
       "      <td>76.474</td>\n",
       "      <td>23.5</td>\n",
       "      <td>42.705368</td>\n",
       "      <td>Africa</td>\n",
       "      <td>purple</td>\n",
       "    </tr>\n",
       "    <tr>\n",
       "      <th>3</th>\n",
       "      <td>Angola</td>\n",
       "      <td>6881.076241</td>\n",
       "      <td>62.448</td>\n",
       "      <td>75.0</td>\n",
       "      <td>32.353588</td>\n",
       "      <td>Africa</td>\n",
       "      <td>purple</td>\n",
       "    </tr>\n",
       "    <tr>\n",
       "      <th>4</th>\n",
       "      <td>Antigua and Barbuda</td>\n",
       "      <td>24007.868485</td>\n",
       "      <td>78.691</td>\n",
       "      <td>6.6</td>\n",
       "      <td>0.092117</td>\n",
       "      <td>North America</td>\n",
       "      <td>blue</td>\n",
       "    </tr>\n",
       "  </tbody>\n",
       "</table>\n",
       "</div>"
      ],
      "text/plain": [
       "               country   gdp_per_cap  life_exp  child_mort       popl  \\\n",
       "0          Afghanistan   2167.704111    63.565        59.9  37.769499   \n",
       "1              Albania  14407.365691    79.282         9.4   2.854191   \n",
       "2              Algeria  12118.004500    76.474        23.5  42.705368   \n",
       "3               Angola   6881.076241    62.448        75.0  32.353588   \n",
       "4  Antigua and Barbuda  24007.868485    78.691         6.6   0.092117   \n",
       "\n",
       "       continent  colour  \n",
       "0           Asia  yellow  \n",
       "1         Europe   green  \n",
       "2         Africa  purple  \n",
       "3         Africa  purple  \n",
       "4  North America    blue  "
      ]
     },
     "execution_count": 24,
     "metadata": {},
     "output_type": "execute_result"
    }
   ],
   "source": [
    "wd_cont['colour'] = wd_cont['continent'].map(colours)\n",
    "wd_cont.head()"
   ]
  },
  {
   "cell_type": "code",
   "execution_count": 29,
   "metadata": {},
   "outputs": [
    {
     "data": {
      "text/plain": [
       "Text(0, 0.5, 'Life expantancy at birth, 2019')"
      ]
     },
     "execution_count": 29,
     "metadata": {},
     "output_type": "execute_result"
    },
    {
     "data": {
      "image/png": "[encoded data removed]",
      "text/plain": [
       "<Figure size 640x480 with 1 Axes>"
      ]
     },
     "metadata": {},
     "output_type": "display_data"
    }
   ],
   "source": [
    "fig = plt.figure() #Create figure\n",
    "ax = fig.add_subplot(1,1,1) #Create plot\n",
    "plt.scatter(wd_cont.gdp_per_cap, wd_cont.life_exp, s = wd_cont.popl, c=wd_cont['colour'], alpha=0.5) #We add s equal to the population size\n",
    "\n",
    "china_index = wd_cont.loc[wd_cont.country == \"China\"].index[0]\n",
    "\n",
    "plt.text(wd_cont.gdp_per_cap[china_index], wd_cont.life_exp[china_index], \"China\")\n",
    "#Alterations to figure\n",
    "ax.set(xlim=(0, 70000), ylim=(50, 90))\n",
    "ax.set_title('Relationship between income and life expectancy')\n",
    "ax.set_xlabel('GDP per capita, 2019 (US$, PPP)')\n",
    "ax.set_ylabel('Life expantancy at birth, 2019')\n",
    "\n",
    "#Further alterations\n",
    "#tick_val = [10000:70000]\n",
    "#tick_lab = ['$10.000', 20000, 30000, 40000, 50000, 60000, 70000]\n",
    "\n"
   ]
  },
  {
   "cell_type": "markdown",
   "metadata": {},
   "source": [
    "## Explore each data set"
   ]
  },
  {
   "cell_type": "markdown",
   "metadata": {},
   "source": [
    "In order to be able to **explore the raw data**, you may provide **static** and **interactive plots** to show important developments "
   ]
  },
  {
   "cell_type": "markdown",
   "metadata": {},
   "source": [
    "Now you create combinations of your loaded data sets. Remember the illustration of a (inner) **merge**:"
   ]
  },
  {
   "attachments": {},
   "cell_type": "markdown",
   "metadata": {},
   "source": [
    "To show that we know how to merge datasets, we merge the previously importet data (WorldData) with child mortality (<5 per 1000 live births) from the same source world bank data."
   ]
  },
  {
   "cell_type": "code",
   "execution_count": null,
   "metadata": {},
   "outputs": [],
   "source": [
    "plt.figure(figsize=(15,7))\n",
    "v = venn2(subsets = (4, 4, 10), set_labels = ('Data X', 'Data Y'))\n",
    "v.get_label_by_id('100').set_text('dropped')\n",
    "v.get_label_by_id('010').set_text('dropped' )\n",
    "v.get_label_by_id('110').set_text('included')\n",
    "plt.show()"
   ]
  },
  {
   "cell_type": "markdown",
   "metadata": {},
   "source": [
    "Here we are dropping elements from both data set X and data set Y. A left join would keep all observations in data X intact and subset only from Y. \n",
    "\n",
    "Make sure that your resulting data sets have the correct number of rows and columns. That is, be clear about which observations are thrown away. \n",
    "\n",
    "**Note:** Don't make Venn diagrams in your own data project. It is just for exposition. "
   ]
  },
  {
   "cell_type": "markdown",
   "metadata": {},
   "source": [
    "# Analysis"
   ]
  },
  {
   "cell_type": "markdown",
   "metadata": {},
   "source": [
    "To get a quick overview of the data, we show some **summary statistics** on a meaningful aggregation. "
   ]
  },
  {
   "cell_type": "markdown",
   "metadata": {},
   "source": [
    "MAKE FURTHER ANALYSIS. EXPLAIN THE CODE BRIEFLY AND SUMMARIZE THE RESULTS."
   ]
  },
  {
   "cell_type": "markdown",
   "metadata": {},
   "source": [
    "# Conclusion"
   ]
  },
  {
   "cell_type": "markdown",
   "metadata": {},
   "source": [
    "ADD CONCISE CONLUSION."
   ]
  }
 ],
 "metadata": {
  "kernelspec": {
   "display_name": "base",
   "language": "python",
   "name": "python3"
  },
  "language_info": {
   "codemirror_mode": {
    "name": "ipython",
    "version": 3
   },
   "file_extension": ".py",
   "mimetype": "text/x-python",
   "name": "python",
   "nbconvert_exporter": "python",
   "pygments_lexer": "ipython3",
   "version": "3.9.16"
  },
  "toc-autonumbering": true,
  "vscode": {
   "interpreter": {
    "hash": "917fb1bc3385e992398af8db044bf97831b593807868c8111f51ca6006088ecc"
   }
  }
 },
 "nbformat": 4,
 "nbformat_minor": 4
}
