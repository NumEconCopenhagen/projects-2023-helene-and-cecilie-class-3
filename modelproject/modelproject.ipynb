{
 "cells": [
  {
   "cell_type": "markdown",
   "metadata": {},
   "source": [
    "# YOUR PROJECT TITLE"
   ]
  },
  {
   "attachments": {},
   "cell_type": "markdown",
   "metadata": {},
   "source": [
    "> **Note the following:** \n",
    "> 1. This is *not* meant to be an example of an actual **model analysis project**, just an example of how to structure such a project.\n",
    "> 1. Remember the general advice on structuring and commenting your code\n",
    "> 1. The `modelproject.py` file includes a function which could be used multiple times in this notebook."
   ]
  },
  {
   "cell_type": "markdown",
   "metadata": {},
   "source": [
    "Imports and set magics:"
   ]
  },
  {
   "cell_type": "code",
   "execution_count": 31,
   "metadata": {},
   "outputs": [
    {
     "name": "stdout",
     "output_type": "stream",
     "text": [
      "The autoreload extension is already loaded. To reload it, use:\n",
      "  %reload_ext autoreload\n"
     ]
    }
   ],
   "source": [
    "import numpy as np\n",
    "from scipy import optimize\n",
    "import sympy as sm\n",
    "from sympy.solvers import solve\n",
    "# for later use, in order to write tilde-variables, we need the following package\n",
    "from sympy import *\n",
    "sm.init_printing()\n",
    "\n",
    "# autoreload modules when code is run\n",
    "%load_ext autoreload\n",
    "%autoreload 2\n",
    "\n",
    "# local modules\n",
    "import modelproject"
   ]
  },
  {
   "cell_type": "markdown",
   "metadata": {},
   "source": [
    "# Model description"
   ]
  },
  {
   "attachments": {},
   "cell_type": "markdown",
   "metadata": {},
   "source": [
    "**The Solow model with human kapital** \n",
    "\n",
    "The extendet Solow model contain the following variables\n",
    "1. $K_t$ is physical capital\n",
    "2. $H_t$ is human capital\n",
    "3. $A_t$ is technology\n",
    "4. $L_t$ is labour\n",
    "\n",
    "The production function\n",
    "$$\n",
    "Y_t = K_t^{\\alpha}H_t^{\\varphi}(A_tL_t)^{1-\\alpha-\\varphi}, \\quad 0<\\alpha<1, 0<\\varphi<1, \\alpha+\\varphi<1\n",
    "$$\n",
    "\n",
    "The household decides how much to save of physical capital and of human capital as a constant fraction of income.\n",
    "$$\n",
    "S_t = (s_K + s_H)Y_t, \\quad s_K+s_H<1\n",
    "$$\n",
    "\n",
    "$s_K$ denotes the savings rate of physical capital and $s_H$ denotes the savings of human capital\n",
    "\n",
    "This lead to the accumulation of phycial capital\n",
    "$$\n",
    "K_{t+1}=s_KY_t+(1-\\delta)K_t, \\quad K_0 \\, \\text{given}\n",
    "$$\n",
    "\n",
    "As well as the accumulation of human capital\n",
    "$$\n",
    "H_{t+1}=s_HY_t+(1-\\delta)H_t, \\quad H_0 \\, \\text{given}\n",
    "$$\n",
    "\n",
    "Further more the accumulation of technology and labour is defined as following\n",
    "$$\n",
    "A_{t+1} = (1+g)A_t, \\quad A_0 \\, \\text{given}\n",
    "$$\n",
    "$$\n",
    "L_{t+1} = (1+n)L_t, \\quad L_0 \\, \\text{given}\n",
    "$$\n",
    "Where  $g$ is a constant rate of techonolical progress, and $n$ is the population growth.\n",
    "\n",
    "We define the following tilde-variables, which is the techonogy adjusted variables.\n",
    "$$\n",
    "\\tilde{y}_{t}= \\frac{Y_t}{A_tL_t}\n",
    "$$\n",
    "$$\n",
    "\\tilde{k}_{t}= \\frac{K_t}{A_tL_t}\n",
    "$$\n",
    "$$\n",
    "\\tilde{h}_{t}= \\frac{H_t}{A_tL_t}\n",
    "$$\n",
    "\n",
    "The **production function** has **constant return to scale** meaning that\n",
    "$$\n",
    "\\frac{Y_t}{A_tL_t} = \\frac{K_t^{\\alpha}H_t^{\\varphi}(A_tL_t)^{1-\\alpha-\\varphi}}{A_tL_t}=\\tilde{k}_{t}^{\\alpha}\\tilde{h}_{t}^{\\varphi}\n",
    "$$\n",
    "\n",
    "We are then left with two transistion equations. One equation for physical capital and one equation for human capital.\n",
    "$$\n",
    "\\tilde{k}_{t+1} = \\frac{1}{(1+n)(1+g)}(s_K\\tilde{k}_{t}^{\\alpha}\\tilde{h}_{t}^{\\varphi}+(1+{\\delta})\\tilde{k}_{t})\n",
    "$$\n",
    "$$\n",
    "\\tilde{h}_{t+1} = \\frac{1}{(1+n)(1+g)}(s_H\\tilde{k}_{t}^{\\alpha}\\tilde{h}_{t}^{\\varphi}+(1+{\\delta})\\tilde{h}_{t})\n",
    "$$\n",
    "\n"
   ]
  },
  {
   "cell_type": "markdown",
   "metadata": {},
   "source": [
    "## Analytical solution"
   ]
  },
  {
   "cell_type": "markdown",
   "metadata": {},
   "source": [
    "If your model allows for an analytical solution, you should provide here.\n",
    "\n",
    "You may use Sympy for this. Then you can characterize the solution as a function of a parameter of the model.\n",
    "\n",
    "To characterize the solution, first derive a steady state equation as a function of a parameter using Sympy.solve and then turn it into a python function by Sympy.lambdify. See the lecture notes for details. "
   ]
  },
  {
   "attachments": {},
   "cell_type": "markdown",
   "metadata": {},
   "source": [
    "We then assume that $\\tilde{k}_{t+1} = \\tilde{k}_{t} =\\tilde{k}^{*}$ and $\\tilde{h}_{t+1} = \\tilde{h}_{t} =\\tilde{h}^{*}$. We are then left with a system of two equation with 2 unnowns. \n",
    "\n",
    "$$\n",
    "\\tilde{k}^{*} = \\frac{1}{(1+n)(1+g)}(s_K(\\tilde{k}^{*})^{\\alpha}(\\tilde{h}^{*})^{\\varphi}+(1-{\\delta})\\tilde{k}^{*})\n",
    "$$\n",
    "$$\n",
    "\\tilde{h}^{*} = \\frac{1}{(1+n)(1+g)}(s_H(\\tilde{k}^{*})^{\\alpha}(\\tilde{h}^{*})^{\\varphi}+(1-{\\delta})\\tilde{h}^{*})\n",
    "$$\n",
    "\n",
    "We now use sympy to solve this system, to optain the steady state for $\\tilde{k}^{*}$ and $\\tilde{h}^{*}$"
   ]
  },
  {
   "cell_type": "code",
   "execution_count": 70,
   "metadata": {},
   "outputs": [
    {
     "data": {
      "image/png": "[encoded data removed]",
      "text/latex": [
       "$\\displaystyle \\tilde{k} - \\frac{\\tilde{h}^{\\varphi} \\tilde{k}^{\\alpha} s_{K} + \\tilde{k} \\left(1 - \\delta\\right)}{\\left(g + 1\\right) \\left(n + 1\\right)} = 0$"
      ],
      "text/plain": [
       "     varphi  α                    \n",
       "    h̃      ⋅k̃ ⋅s_K + k̃⋅(1 - δ)    \n",
       "k̃ - ────────────────────────── = 0\n",
       "         (g + 1)⋅(n + 1)          "
      ]
     },
     "metadata": {},
     "output_type": "display_data"
    },
    {
     "data": {
      "image/png": "[encoded data removed]",
      "text/latex": [
       "$\\displaystyle \\tilde{h} - \\frac{\\tilde{h} \\left(1 - \\delta\\right) + \\tilde{h}^{\\varphi} \\tilde{k}^{\\alpha} s_{H}}{\\left(g + 1\\right) \\left(n + 1\\right)} = 0$"
      ],
      "text/plain": [
       "                 varphi  α        \n",
       "    h̃⋅(1 - δ) + h̃      ⋅k̃ ⋅s_H    \n",
       "h̃ - ────────────────────────── = 0\n",
       "         (g + 1)⋅(n + 1)          "
      ]
     },
     "metadata": {},
     "output_type": "display_data"
    }
   ],
   "source": [
    "# defining all variables\n",
    "ktilde = sm.symbols('ktilde')\n",
    "htilde = sm.symbols('htilde')\n",
    "sK = sm.symbols('s_K')\n",
    "sH = sm.symbols('s_H')\n",
    "delta = sm.symbols('delta')\n",
    "g = sm.symbols('g')\n",
    "n = sm.symbols('n')\n",
    "alpha = sm.symbols('alpha')\n",
    "varphi = sm.symbols('varphi')\n",
    "\n",
    "#f = (ktilde**alpha)*(htilde**varphi) # defining f\n",
    "\n",
    "\n",
    "# define transistion equations\n",
    "tranK = sm.Eq(ktilde-(sK*((ktilde**alpha)*(htilde**varphi))+(1-delta)*ktilde)/((1+n)*(1+g)),0)\n",
    "tranH = sm.Eq(htilde-(sH*((ktilde**alpha)*(htilde**varphi))+(1-delta)*htilde)/((1+n)*(1+g)),0)\n",
    "#ss = sm.solve([tranK,tranH],[ktilde,htilde])\n",
    "display(tranK)\n",
    "display(tranH)\n",
    "#SPØRG ANNE SOFIE\n",
    "# solve for steady state\n",
    "#ss = sm.solve(tranK, ktilde)\n",
    "#ssh_k = sm.solve(tranH,)[0]\n"
   ]
  },
  {
   "cell_type": "code",
   "execution_count": 71,
   "metadata": {},
   "outputs": [
    {
     "data": {
      "image/png": "[encoded data removed]",
      "text/latex": [
       "$\\displaystyle \\left[ \\left( -2, \\  -2\\right), \\  \\left( 0, \\  2\\right), \\  \\left( 0, \\  2\\right), \\  \\left( 2, \\  -2\\right)\\right]$"
      ],
      "text/plain": [
       "[(-2, -2), (0, 2), (0, 2), (2, -2)]"
      ]
     },
     "execution_count": 71,
     "metadata": {},
     "output_type": "execute_result"
    }
   ],
   "source": [
    "x = sm.symbols('x')\n",
    "y = sm.symbols('y')\n",
    "eq1 = sm.Eq(x**2+y-2,0)\n",
    "eq2 = sm.Eq(y**2-4,0)\n",
    "sol = sm.solve([eq1,eq2],[x,y])\n",
    "sol"
   ]
  },
  {
   "cell_type": "code",
   "execution_count": 40,
   "metadata": {},
   "outputs": [],
   "source": [
    "#tranK = sm.Eq(0, (1/((1+g)*(1+n)))*(sK*f-(n+g+delta+n*g)*ktilde))\n",
    "#tranH = sm.Eq(0, (1/((1+g)*(1+n)))*(sH*f-(n+g+delta+n*g)*htilde))"
   ]
  },
  {
   "cell_type": "markdown",
   "metadata": {},
   "source": [
    "## Numerical solution"
   ]
  },
  {
   "cell_type": "markdown",
   "metadata": {},
   "source": [
    "You can always solve a model numerically. \n",
    "\n",
    "Define first the set of parameters you need. \n",
    "\n",
    "Then choose one of the optimization algorithms that we have gone through in the lectures based on what you think is most fitting for your model.\n",
    "\n",
    "Are there any problems with convergence? Does the model converge for all starting values? Make a lot of testing to figure these things out. "
   ]
  },
  {
   "attachments": {},
   "cell_type": "markdown",
   "metadata": {},
   "source": [
    "Based on \"Introducing advanced macroeconomic\" we find the plauseble values for out parameters. \n",
    "We assume a total savings rate of 20%, allined with teory, and therefor assume a savingsrate of 10% for each physical and human capital. We also have $\\delta$ + $g$ should be 0,75, hence the values for the parameters is $\\delta$ = 5% and $g$ = 2,5%. The population is assumed to increase with 10%. $\\alpha$ and $\\varphi$ is usual estimated to be $\\frac{1}{3}$.\n"
   ]
  },
  {
   "cell_type": "code",
   "execution_count": 72,
   "metadata": {},
   "outputs": [],
   "source": [
    "sK = 0.1\n",
    "sH = 0.1\n",
    "delta = 0.05\n",
    "g = 0.025\n",
    "n = 0.01\n",
    "alpha = 1/3\n",
    "varphi = 1/3"
   ]
  },
  {
   "cell_type": "code",
   "execution_count": 83,
   "metadata": {},
   "outputs": [],
   "source": [
    "def k_star(htilde, sK, sH, g, n, delta, alpha, varphi, ktilde):\n",
    "    return ((1/((1+n)*(1+g)))*(sK*ktilde**alpha*htilde**varphi-(n+g+delta+n*g)*ktilde))\n",
    "\n",
    "def h_star(ktilde, sK, sH, g, n, delta, alpha, varphi, htilde):\n",
    "    return ((1/((1+n)*(1+g)))*(sH*ktilde**alpha*htilde**varphi-(n+g+delta+n*g)*htilde))\n",
    "\n",
    "obj1 = lambda x: [h_star(x[1], sK, sH, g, n, delta, alpha, varphi, x[0]), k_star(x[0], sK, sH, g, n, delta, alpha, varphi, x[1])]\n",
    "\n",
    "solution = optimize.root(obj1, [1,1], method = 'broyden1')"
   ]
  },
  {
   "cell_type": "code",
   "execution_count": 84,
   "metadata": {},
   "outputs": [
    {
     "name": "stdout",
     "output_type": "stream",
     "text": [
      "[1.61404693 1.61404693]\n"
     ]
    }
   ],
   "source": [
    "num_sol = solution.x\n",
    "print(num_sol)"
   ]
  },
  {
   "cell_type": "code",
   "execution_count": 74,
   "metadata": {},
   "outputs": [
    {
     "name": "stderr",
     "output_type": "stream",
     "text": [
      "/Users/helenethomsen/opt/anaconda3/lib/python3.9/site-packages/scipy/optimize/_nonlin.py:911: RuntimeWarning: divide by zero encountered in true_divide\n",
      "  d = v / vdot(df, v)\n"
     ]
    }
   ],
   "source": [
    "# define\n",
    "def kstar(htilde, sK, sH, delta, g, n, alpha, varphi):\n",
    "    return ((sK**(1-varphi)*sH**varphi)/(n+g+delta+n*g))**(1/(1-alpha-varphi))\n",
    "\n",
    "def hstar(sK, sH, delta, g, n, alpha, varphi):\n",
    "    return ((sK**alpha*sH**(1-alpha))/(n+g+delta+n*g))**(1/(1-alpha-varphi))\n",
    "\n",
    "obj1 = lambda x: [kstar(sK, sH, delta, g, n, alpha, varphi), tranH(sK, sH, delta, g, n, alpha, varphi)]\n",
    "\n",
    "sol = optimize.root(obj1, [1,1], method='broyden1')\n",
    "\n",
    "# hvad gør lambda funktionen. Simultane k* og h*\n",
    "                        "
   ]
  },
  {
   "cell_type": "markdown",
   "metadata": {},
   "source": [
    "# Further analysis"
   ]
  },
  {
   "cell_type": "markdown",
   "metadata": {},
   "source": [
    "Make detailed vizualizations of how your model changes with parameter values. \n",
    "\n",
    "Try to make an extension of the model. "
   ]
  },
  {
   "cell_type": "markdown",
   "metadata": {},
   "source": [
    "# Conclusion"
   ]
  },
  {
   "cell_type": "markdown",
   "metadata": {},
   "source": [
    "Add concise conclusion. "
   ]
  }
 ],
 "metadata": {
  "kernelspec": {
   "display_name": "base",
   "language": "python",
   "name": "python3"
  },
  "language_info": {
   "codemirror_mode": {
    "name": "ipython",
    "version": 3
   },
   "file_extension": ".py",
   "mimetype": "text/x-python",
   "name": "python",
   "nbconvert_exporter": "python",
   "pygments_lexer": "ipython3",
   "version": "3.9.13"
  },
  "toc-autonumbering": true,
  "vscode": {
   "interpreter": {
    "hash": "dcf1a8682162ea4489d11bfd2867122677541aeac7e7f0427c1bfeb51d7ed9c5"
   }
  }
 },
 "nbformat": 4,
 "nbformat_minor": 4
}
