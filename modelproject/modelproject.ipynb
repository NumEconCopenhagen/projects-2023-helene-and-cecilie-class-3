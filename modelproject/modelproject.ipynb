{
 "cells": [
  {
   "attachments": {},
   "cell_type": "markdown",
   "metadata": {},
   "source": [
    "# **The Solow Model With Human Capital**"
   ]
  },
  {
   "attachments": {},
   "cell_type": "markdown",
   "metadata": {},
   "source": [
    "Imports and set magics:"
   ]
  },
  {
   "cell_type": "code",
   "execution_count": null,
   "metadata": {},
   "outputs": [],
   "source": [
    "import numpy as np\n",
    "from scipy import optimize\n",
    "import sympy as sm\n",
    "from sympy.solvers import solve\n",
    "# for later use, in order to write tilde-variables, we need the following package\n",
    "from sympy import *\n",
    "sm.init_printing()\n",
    "import matplotlib.pyplot as plt\n",
    "from IPython.display import display, Math, Markdown\n",
    "\n",
    "# autoreload modules when code is run\n",
    "%load_ext autoreload\n",
    "%autoreload 2\n",
    "\n",
    "# local modules\n",
    "import modelproject"
   ]
  },
  {
   "attachments": {},
   "cell_type": "markdown",
   "metadata": {},
   "source": [
    "# **Model description**"
   ]
  },
  {
   "attachments": {},
   "cell_type": "markdown",
   "metadata": {},
   "source": [
    "**The Solow model with human capital** \n",
    "\n",
    "The extended Solow model contains the following variables:\n",
    "1. $K_t$ is physical capital\n",
    "2. $H_t$ is human capital\n",
    "3. $A_t$ is technology\n",
    "4. $L_t$ is labour\n",
    "\n",
    "The production function\n",
    "$$\n",
    "Y_t = K_t^{\\alpha}H_t^{\\varphi}(A_tL_t)^{1-\\alpha-\\varphi}, \\quad 0<\\alpha<1, 0<\\varphi<1, \\alpha+\\varphi<1\n",
    "$$\n",
    "\n",
    "The household decides how much to save of physical capital and of human capital as a constant fraction of income.\n",
    "$$\n",
    "S_t = (s_K + s_H)Y_t, \\quad s_K+s_H<1\n",
    "$$\n",
    "\n",
    "$s_K$ denotes the savings rate of physical capital and $s_H$ denotes the savings of human capital.\n",
    "\n",
    "This lead to the accumulation of phycial capital\n",
    "$$\n",
    "K_{t+1}=s_KY_t+(1-\\delta)K_t, \\quad K_0 \\, \\text{given}\n",
    "$$\n",
    "\n",
    "As well as the accumulation of human capital\n",
    "$$\n",
    "H_{t+1}=s_HY_t+(1-\\delta)H_t, \\quad H_0 \\, \\text{given}\n",
    "$$\n",
    "\n",
    "Furthermore the accumulation of technology and labour is defined as follows:\n",
    "$$\n",
    "A_{t+1} = (1+g)A_t, \\quad A_0 \\, \\text{given}\n",
    "$$\n",
    "$$\n",
    "L_{t+1} = (1+n)L_t, \\quad L_0 \\, \\text{given}\n",
    "$$\n",
    "Where  $g$ is a constant rate of technological progress, and $n$ is the population growth.\n",
    "\n",
    "We define the following tilde-variables, which is the technology adjusted variables.\n",
    "$$\n",
    "\\tilde{y}_{t}= \\frac{Y_t}{A_tL_t}\n",
    "$$\n",
    "$$\n",
    "\\tilde{k}_{t}= \\frac{K_t}{A_tL_t}\n",
    "$$\n",
    "$$\n",
    "\\tilde{h}_{t}= \\frac{H_t}{A_tL_t}\n",
    "$$\n",
    "\n",
    "The **production function** has **constant returns to scale** meaning that\n",
    "$$\n",
    "\\frac{Y_t}{A_tL_t} = \\frac{K_t^{\\alpha}H_t^{\\varphi}(A_tL_t)^{1-\\alpha-\\varphi}}{A_tL_t}=\\tilde{k}_{t}^{\\alpha}\\tilde{h}_{t}^{\\varphi}\n",
    "$$\n",
    "\n",
    "We are then left with two transistion equations. One equation for physical capital and one equation for human capital.\n",
    "$$\n",
    "\\tilde{k}_{t+1} = \\frac{1}{(1+n)(1+g)}(s_K\\tilde{k}_{t}^{\\alpha}\\tilde{h}_{t}^{\\varphi}+(1+{\\delta})\\tilde{k}_{t})\n",
    "$$\n",
    "$$\n",
    "\\tilde{h}_{t+1} = \\frac{1}{(1+n)(1+g)}(s_H\\tilde{k}_{t}^{\\alpha}\\tilde{h}_{t}^{\\varphi}+(1+{\\delta})\\tilde{h}_{t})\n",
    "$$\n",
    "\n",
    "By subtracting $\\tilde{k}_{t}$ and $\\tilde{h}_{t}$ and assuming that $\\tilde{k}_{t+1} = \\tilde{k}_{t} =\\tilde{k}^{*}$ and $\\tilde{h}_{t+1} = \\tilde{h}_{t} =\\tilde{h}^{*}$ we are left with the following Solow equations.\n",
    "\n",
    "$$\n",
    "0 = \\frac{1}{(1+n)(1+g)}(s_K(\\tilde{k}^{*})^{\\alpha}(\\tilde{h}^{*})^{\\varphi}-(n+g+{\\delta}+ng)\\tilde{k}^{*})\n",
    "$$\n",
    "$$\n",
    "0 = \\frac{1}{(1+n)(1+g)}(s_H(\\tilde{k}^{*})^{\\alpha}(\\tilde{h}^{*})^{\\varphi}-(n+g+{\\delta}+ng)\\tilde{h}^{*})\n",
    "$$"
   ]
  },
  {
   "attachments": {},
   "cell_type": "markdown",
   "metadata": {},
   "source": [
    "## **Analytical solution**"
   ]
  },
  {
   "attachments": {},
   "cell_type": "markdown",
   "metadata": {},
   "source": [
    "Given the nature of our model, sympy cannot solve our system of nonlinear equations analytically. If we had a simpler system, we would have solved it as below. When we run the following code we get a \"NotImplementedError\", which is why we have chosen to look past an analyical solution."
   ]
  },
  {
   "cell_type": "code",
   "execution_count": null,
   "metadata": {},
   "outputs": [],
   "source": [
    "# defining all variables\n",
    "ktilde = sm.symbols('ktilde')\n",
    "htilde = sm.symbols('htilde')\n",
    "sK = sm.symbols('s_K')\n",
    "sH = sm.symbols('s_H')\n",
    "delta = sm.symbols('delta')\n",
    "g = sm.symbols('g')\n",
    "n = sm.symbols('n')\n",
    "alpha = sm.symbols('alpha')\n",
    "varphi = sm.symbols('varphi')\n",
    "\n",
    "# define the solow equations\n",
    "#solowK = sm.Eq(0, (1/((1+n)*(1+g)))*(sK*ktilde**alpha*htilde**varphi-(n+g+delta+n*g)*ktilde))\n",
    "#solowH = sm.Eq(0, (1/((1+n)*(1+g)))*(sH*ktilde**alpha*htilde**varphi-(n+g+delta+n*g)*htilde))\n",
    "\n",
    "#solve the equation system of 2 equations with 2 unnowns\n",
    "#ss = sm.solve([solowK, solowH], [ktilde, htilde])[0]\n",
    "#ss\n"
   ]
  },
  {
   "attachments": {},
   "cell_type": "markdown",
   "metadata": {},
   "source": [
    "## **Numerical solution**"
   ]
  },
  {
   "attachments": {},
   "cell_type": "markdown",
   "metadata": {},
   "source": [
    "**Algorithm:**\n",
    "1. Define model parameters: savings rate in physical capital (*sK*), savings rate in human capital (*sH*), depreciation rate (*delta*), technological growth rate (*g*), population growth rate (*n*), return on physical capital (*alpha*) and return on human capital (*varphi*).\n",
    "2. Define the Solow equations for physical capital, solow_k, and human capital, solow_h, as functions of the inputs ktilde and htilde.\n",
    "3. Define the objective function, as a function that returns a list of the values of solow_k and solow_h evaluated at the input values ktilde and htilde.\n",
    "4. Reset the global variables\n",
    "5. Set options for newton krylov solver, including a tolerence level. \n",
    "5. Define an initial guess for the values of ktilde and htilde, x0.\n",
    "6. Call the scipy.optimize.root function, passing the objective function, initial guess, the callback function, and the method=\"krylov\" argument. Assign the output to a variable.\n",
    "6. Check the convergence of the solver by plotting the function value against the number of iterations. If the function value converges to 0, the solver has converged.\n",
    "7. Return the values of ktilde and htilde from [0] and [1] from the solution variable.\n",
    "8. Return the values of ktilde and htilde as the solution to the model."
   ]
  },
  {
   "attachments": {},
   "cell_type": "markdown",
   "metadata": {},
   "source": [
    "We solve the model using Newton-Krylov. We use this solver because it can solve large non linear problems. Our problem may not be large, but it is non linear. We have had difficulties reaching a good answer using the solvers introduced in classes. "
   ]
  },
  {
   "attachments": {},
   "cell_type": "markdown",
   "metadata": {},
   "source": [
    "Based on \"Introducing Advanced Macroeconomics\" by Whitta-Jacobsen and Sørensen (2010) we find plausible values for our parameters. \n",
    "We assume a total savings rate of 20%, aligned with theory, and therefore assume a savings rate of 10% for respectively physical and human capital. We also have $\\delta$ + $g$ should be 0,75, hence the values for the parameters are $\\delta$ = 5% and $g$ = 2,5%. The population is assumed to increase with 1%. $\\alpha$ and $\\varphi$ is as usual assumed to be $\\frac{1}{3}$ each.\n"
   ]
  },
  {
   "cell_type": "code",
   "execution_count": null,
   "metadata": {},
   "outputs": [],
   "source": [
    "# set baseline parameters\n",
    "sK = 0.1\n",
    "sH = 0.1\n",
    "delta = 0.05\n",
    "g = 0.025\n",
    "n = 0.01\n",
    "alpha = 1/3\n",
    "varphi = 1/3"
   ]
  },
  {
   "cell_type": "code",
   "execution_count": null,
   "metadata": {},
   "outputs": [],
   "source": [
    "def steady_state(sK, sH, delta, g, n, alpha, varphi):\n",
    "    \"\"\" root finding function\n",
    "\n",
    "    Args:\n",
    "        ktilde (float): physical capital per effective worker\n",
    "        htilde (float): human capital per effective worker\n",
    "        sK (float): savings rate in physical capital\n",
    "        sH (float): savings rate in human capital\n",
    "        delta (float): depreciation rate\n",
    "        g (float): technological growth rate\n",
    "        n (float): population growth\n",
    "        alpha (float): return of physical capital\n",
    "        varphi (float): return of human capital\n",
    "\n",
    "    Returns:\n",
    "        ss_k (float): steady state value of physical capital\n",
    "        ss_h (float): steady state value of human capital\n",
    "    \"\"\"\n",
    "\n",
    "    # define Solow equations for physical and human capital - both expressions depend on ktilde and htilde\n",
    "    def solow_k(ktilde, htilde): return ((1/((1+n)*(1+g))) *\n",
    "                                        (sK*ktilde**alpha*htilde**varphi-(n+g+delta+n*g)*ktilde))\n",
    "    def solow_h(ktilde, htilde): return ((1/((1+n)*(1+g))) *\n",
    "                                        (sH*ktilde**alpha*htilde**varphi-(n+g+delta+n*g)*htilde))\n",
    "\n",
    "    # initial guess\n",
    "    x0 = [1, 1]\n",
    "        \n",
    "    # join solow_k and solow_h as a non-linear system to find roots\n",
    "    def objective(x): return [solow_k(x[0], x[1]), solow_h(x[0], x[1])]\n",
    "\n",
    "    # reset our global data collection variables\n",
    "    modelproject.reset(x0, objective)\n",
    "\n",
    "    # options for the Newton-Krylov solver\n",
    "    options={\n",
    "        'disp':False,\n",
    "        \"ftol\":1e-14  # determine the tolerance\n",
    "        }\n",
    "    # solving for roots\n",
    "    solution = optimize.root(objective, x0, method=\"krylov\", callback=modelproject.krylov_collect, options=options) # using the Newton-Krylov solver - can deal with large non-linear problems\n",
    "\n",
    "    # plot the convergences for k and h\n",
    "    modelproject.plot_convergence()\n",
    "\n",
    "    ss_k = solution.x[0]\n",
    "    ss_h = solution.x[1]\n",
    " \n",
    "    return ss_k, ss_h\n",
    "\n",
    "# save valyes of ss_k and ss_h\n",
    "ss_k, ss_h = steady_state(sK, sH, delta, g, n, alpha, varphi)\n"
   ]
  },
  {
   "attachments": {},
   "cell_type": "markdown",
   "metadata": {},
   "source": [
    "Now we have the steady state values of physical and human capital. We can now compute the steady state value of GDP per effective worker:\n",
    "$$\n",
    "\\tilde{y}^{*} = (\\tilde{k}^{*})^{\\alpha}(\\tilde{h}^{*})^{\\varphi}\n",
    "$$"
   ]
  },
  {
   "cell_type": "code",
   "execution_count": null,
   "metadata": {},
   "outputs": [],
   "source": [
    "def y_steady_state(ss_k, ss_h, alpha, varphi):\n",
    "    \"\"\" calculate GDP per effective worker in steady state\n",
    "\n",
    "    Args:\n",
    "        ss_k (float): steady state value of physical capital per effective worker\n",
    "        ss_h (float): steady state value of human capital per effective worker\n",
    "        alpha (float): return of physical capital\n",
    "        varphi (float): return of human capital\n",
    "\n",
    "    Returns:\n",
    "        ss_y (float): steady state value of GDP per effective worker\n",
    "\n",
    "    \"\"\"\n",
    "    # define steady state value for y\n",
    "    ss_y = ss_k**alpha*ss_h**varphi\n",
    "\n",
    "    return ss_y\n",
    "\n",
    "# save value of ss_y\n",
    "ss_y = y_steady_state(ss_k, ss_h, alpha, varphi)\n"
   ]
  },
  {
   "attachments": {},
   "cell_type": "markdown",
   "metadata": {},
   "source": [
    "The numerical solutions for the Solow model with human capital with the parameters defined above is then:"
   ]
  },
  {
   "cell_type": "code",
   "execution_count": null,
   "metadata": {},
   "outputs": [],
   "source": [
    "print(f'Numerical solution for k* = {ss_k:.3f}')\n",
    "print(f'Numerical solution for h* = {ss_h:.3f}')\n",
    "print(f'Numerical solution for y* = {ss_y:.3f}')"
   ]
  },
  {
   "attachments": {},
   "cell_type": "markdown",
   "metadata": {},
   "source": [
    "# **Further analysis**"
   ]
  },
  {
   "attachments": {},
   "cell_type": "markdown",
   "metadata": {},
   "source": [
    "We can analyse the model using a phase diagram. Here we can show the transition to steady state. For this purpose, we need to solve for the null clines. This is done with the Solow equations where we subtract $\\tilde{k}_{t}$ from $\\tilde{k}_{t+1}$ and thereby obtain an expression for $\\Delta \\tilde{k}_{t}$. The same is done for human capital where we subtract $\\tilde{h}_{t}$ from $\\tilde{h}_{t+1}$ and thereby obtain an expression for $\\Delta \\tilde{h}_{t}$. To obtain the null clines we set the change equal to 0 and solve for $\\tilde{h}_{t}$ as a function of $\\tilde{k}_{t}$ using Sympy."
   ]
  },
  {
   "cell_type": "code",
   "execution_count": null,
   "metadata": {},
   "outputs": [],
   "source": [
    "def null_clines():\n",
    "    # defining all variables\n",
    "    ktilde = sm.symbols('ktilde')\n",
    "    htilde = sm.symbols('htilde')\n",
    "    sK = sm.symbols('s_K')\n",
    "    sH = sm.symbols('s_H')\n",
    "    delta = sm.symbols('delta')\n",
    "    g = sm.symbols('g')\n",
    "    n = sm.symbols('n')\n",
    "    alpha = sm.symbols('alpha')\n",
    "    varphi = sm.symbols('varphi')\n",
    "    # define solow equations and set them equal to 0\n",
    "    dktilde = sm.Eq(0, (1/((1+n)*(1+g)))*(sK*ktilde**alpha * htilde**varphi-(n+g+delta+n*g)*ktilde))\n",
    "    dhtilde = sm.Eq(0, (1/((1+n)*(1+g)))*(sH*ktilde**alpha * htilde**varphi-(n+g+delta+n*g)*htilde))\n",
    "    # solve for htilde (=null clines)\n",
    "    null_dktilde = sm.solve(dktilde, htilde)\n",
    "    null_dhtilde = sm.solve(dhtilde, htilde)\n",
    "    # check null clines\n",
    "    null_dktilde = null_dktilde # only one solution to null\n",
    "    null_dhtilde = null_dhtilde\n",
    "\n",
    "    return null_dktilde, null_dhtilde\n",
    "\n",
    "# print nullclines\n",
    "print(f'htilde = {null_clines()[0]}, d_ktilde = 0')\n",
    "print(f'htilde = {null_clines()[1]}, d_htilde = 0')\n"
   ]
  },
  {
   "attachments": {},
   "cell_type": "markdown",
   "metadata": {},
   "source": [
    "Define nullclines as functions:"
   ]
  },
  {
   "cell_type": "code",
   "execution_count": null,
   "metadata": {},
   "outputs": [],
   "source": [
    "def null_k(ktilde, alpha, varphi, delta, g, n, sK):\n",
    "    return (ktilde**(1 - alpha)*(delta + g*n + g + n)/sK)**(1/varphi)\n",
    "\n",
    "def null_h(ktilde, alpha, varphi, delta, g, n, sH):\n",
    "    return ((delta + g*n + g + n)/(ktilde**alpha*sH))**(1/(varphi - 1))"
   ]
  },
  {
   "cell_type": "code",
   "execution_count": null,
   "metadata": {},
   "outputs": [],
   "source": [
    "# create figure\n",
    "fig = plt.figure()\n",
    "# create plot\n",
    "ax = fig.add_subplot(1, 1, 1)\n",
    "# create grid\n",
    "k_range = np.linspace(0, 3, 100)\n",
    "h_range = np.linspace(0, 3, 100)\n",
    "k_grid, h_grid = np.meshgrid(k_range, h_range)\n",
    "\n",
    "# define range for ktilde\n",
    "ktilde = np.linspace(0, 3, 100)\n",
    "\n",
    "# plot null_k and null_h\n",
    "ax.plot(ktilde, null_k(ktilde, alpha, varphi, delta, g, n, sK), color='black')\n",
    "ax.plot(ktilde, null_h(ktilde, alpha, varphi, delta, g, n, sH), color='black')\n",
    "# alterations to figure\n",
    "plt.xlim(0, 2.5)\n",
    "plt.ylim(0, 2.5)\n",
    "ax.set_xlabel(r'$\\tilde{k}_{t}$')\n",
    "ax.set_ylabel(r'$\\tilde{h}_{t}$', rotation=0)\n",
    "ax.set_title(\"Steady state for the Solow model with human capital\")\n",
    "plt.text(2.0, 2.35, r'[$\\Delta \\tilde{k}_{t}=0$]')\n",
    "plt.text(2.15, 1.75, r'[$\\Delta \\tilde{h}_{t}=0$]')\n",
    "# insert steady state\n",
    "plt.scatter(ss_k, ss_h, color='black')\n",
    "# set x tick\n",
    "xtick_loc = [ss_k]\n",
    "labels = [item.get_text() for item in ax.get_xticklabels()]\n",
    "labels[0] = r'$\\tilde{k}^{*}$'\n",
    "ax.set_xticklabels(labels)\n",
    "# set y tick\n",
    "ytick_loc = [ss_h]\n",
    "labels = [item.get_text() for item in ax.get_yticklabels()]\n",
    "labels[0] = r'$\\tilde{h}^{*}$'\n",
    "ax.set_yticklabels(labels)\n",
    "# remove ticks\n",
    "ax.set_xticks(xtick_loc)\n",
    "ax.set_yticks(ytick_loc)\n",
    "# insert dotted lines from axes to steady state\n",
    "plt.axvline(ss_k, ymax=ss_h/2.5, linestyle='dotted', color='black')\n",
    "plt.axhline(ss_h, xmax=ss_k/2.5, linestyle='dotted', color='black')"
   ]
  },
  {
   "attachments": {},
   "cell_type": "markdown",
   "metadata": {},
   "source": [
    "We get a \"RuntimeWarning: divide by zero encountered in true_divide\".  This does not apply for our model, since we define $\\varphi<1$.\n",
    "\n",
    "The graph shows the transition to steady state. The steady state is where the null clines intersect each other, marked with a dot."
   ]
  },
  {
   "attachments": {},
   "cell_type": "markdown",
   "metadata": {},
   "source": [
    "### **Increase in $\\bold{s_H}$**"
   ]
  },
  {
   "attachments": {},
   "cell_type": "markdown",
   "metadata": {},
   "source": [
    "To analyse the change in the phase diagram, we increase the savings rate in human capital with 10% (corresponding to an increase in $s_H$ with 0.01 percentage points).\n",
    "\n",
    "First, we find out what this means for our steady state variables:"
   ]
  },
  {
   "cell_type": "code",
   "execution_count": null,
   "metadata": {},
   "outputs": [],
   "source": [
    "# define new steady state\n",
    "ss_k2, ss_h2 = steady_state(sK, 0.11, delta, g, n, alpha, varphi)"
   ]
  },
  {
   "cell_type": "code",
   "execution_count": null,
   "metadata": {},
   "outputs": [],
   "source": [
    "# create figure\n",
    "fig = plt.figure()\n",
    "# create plot\n",
    "ax = fig.add_subplot(1, 1, 1)\n",
    "# create grid\n",
    "k_range = np.linspace(0, 3, 100)\n",
    "h_range = np.linspace(0, 3, 100)\n",
    "k_grid, h_grid = np.meshgrid(k_range, h_range)\n",
    "\n",
    "# define range for ktilde\n",
    "ktilde = np.linspace(0, 3, 100)\n",
    "\n",
    "# plot null_k and null_h\n",
    "ax.plot(ktilde, null_k(ktilde, alpha, varphi, delta, g, n, sK), color='black')\n",
    "ax.plot(ktilde, null_h(ktilde, alpha, varphi, delta, g, n, sH), color='black')\n",
    "ax.plot(ktilde, null_h(ktilde, alpha, varphi, delta, g, n, 0.11), color='red') # increase in sH\n",
    "# alterations to figure\n",
    "plt.xlim(0, 2.5)\n",
    "plt.ylim(0, 2.5)\n",
    "ax.set_xlabel(r'$\\tilde{k}_{t}$')\n",
    "ax.set_ylabel(r'$\\tilde{h}_{t}$', rotation=0)\n",
    "ax.set_title(\"Stady state for the Solow model with human capital\")\n",
    "plt.text(2.0, 2.35, r'[$\\Delta \\tilde{k}_{t}=0$]')\n",
    "plt.text(2.15, 1.75, r'[$\\Delta \\tilde{h}_{t}=0$]')\n",
    "# insert steady state\n",
    "plt.scatter(ss_k, ss_h, color='black') # old steady state\n",
    "plt.scatter(ss_k2, ss_h2, color='red') # add new steady state\n",
    "# set x tick\n",
    "xtick_loc = [ss_k,ss_k2]\n",
    "labels = [item.get_text() for item in ax.get_xticklabels()]\n",
    "labels[0] = r'$\\tilde{k}_{old}^{*}$' # old steady state value for ktilde\n",
    "labels[1] = r'$\\tilde{k}_{new}^{*}$' # new steady state value for ktilde\n",
    "ax.set_xticklabels(labels)\n",
    "# set y tick\n",
    "ytick_loc = [ss_h,ss_h2]\n",
    "labels = [item.get_text() for item in ax.get_yticklabels()]\n",
    "labels[0] = r'$\\tilde{h}_{old}^{*}$' # old steady state value for htilde\n",
    "labels[1] = r'$\\tilde{h}_{new}^{*}$' # new steady state value for htilde\n",
    "ax.set_yticklabels(labels)\n",
    "# remove ticks\n",
    "ax.set_xticks(xtick_loc)\n",
    "ax.set_yticks(ytick_loc)\n",
    "# insert dotted lines from axes to steady state\n",
    "plt.axvline(ss_k, ymax=ss_h/2.5, linestyle='dotted', color='black') # old steady state\n",
    "plt.axhline(ss_h, xmax=ss_k/2.5, linestyle='dotted', color='black') # old steady state\n",
    "plt.axvline(ss_k2, ymax=ss_h2/2.5, linestyle='dotted', color='red') # new steady state\n",
    "plt.axhline(ss_h2, xmax=ss_k2/2.5, linestyle='dotted', color='red') # new steady state"
   ]
  },
  {
   "attachments": {},
   "cell_type": "markdown",
   "metadata": {},
   "source": [
    "**Intution for increase in $\\bold{s_H}$:**\n",
    "1. The initial shock to $s_H$ increases the savings in human capital, $\\tilde{h}_{1}\\uparrow$.\n",
    "2. Production per effective worker increases, $\\tilde{h}_{1}\\uparrow \\Rightarrow \\tilde{y}_{1}\\uparrow$. This leads to higher savings in both human and physical capital.\n",
    "3. The effect in step 2 is further increased until transition to the new steady state has finished. "
   ]
  },
  {
   "attachments": {},
   "cell_type": "markdown",
   "metadata": {},
   "source": [
    "We simulate the change of a permanent shock to sH and show how the growth rate converges to the new steady state level. "
   ]
  },
  {
   "cell_type": "code",
   "execution_count": null,
   "metadata": {},
   "outputs": [],
   "source": [
    "# we set out initial values to our old stady state values\n",
    "y_0, k_0, h_0 = ss_y, ss_k, ss_h\n",
    "\n",
    "# define period 0\n",
    "y_t, k_t, h_t = y_0, k_0, h_0\n",
    "\n",
    "# define empty vector for growth rates\n",
    "growth_y = [] \n",
    "growth_k = []\n",
    "growth_h = []\n",
    "# loop over time interval\n",
    "for i in range(300):\n",
    "    if i < 1:\n",
    "        sh = 0.1 \n",
    "    else:\n",
    "        sh = 0.11\n",
    "    # define values for previous period\n",
    "    y_pre, k_pre, h_pre = y_t, k_t, h_t\n",
    "    # compute values for present period\n",
    "    k_t = (1/((1+n)*(1+g)))*(sK*k_pre**alpha*h_pre**varphi+(1-delta)*k_pre)\n",
    "    h_t = (1/((1+n)*(1+g)))*(sh*k_pre**alpha*h_pre**varphi+(1-delta)*h_pre)\n",
    "    # compute y for present values of k and h\n",
    "    y_t = k_t**alpha*h_t**varphi\n",
    "    # compute growth rates using that (growth rate = log(x_t/x_t-1) = log(x_t)-log(x_t-1))\n",
    "    growth_y.append(np.log(y_t)-np.log(y_pre))\n",
    "    growth_k.append(np.log(k_t)-np.log(k_pre))\n",
    "    growth_h.append(np.log(h_t)-np.log(h_pre))\n",
    "\n",
    "# plot the simulation\n",
    "fig = plt.figure()\n",
    "ax = fig.add_subplot(1,1,1)\n",
    "ax.plot(growth_y, color='blue', label='growth_y')\n",
    "ax.plot(growth_h, color='red', label='growth_h')\n",
    "ax.plot(growth_k, color='green', label='growth_k')\n",
    "ax.set_title('Simulation of permanent shock to $sH$')\n",
    "ax.set_xlabel('t')\n",
    "ax.set_ylabel('Growth in $y_t$, $k_t$, $h_t$')\n",
    "ax.legend()"
   ]
  },
  {
   "attachments": {},
   "cell_type": "markdown",
   "metadata": {},
   "source": [
    "The graph shows the intuition explained above for the changes in values of y, k and h with a permanent shock in sH."
   ]
  },
  {
   "attachments": {},
   "cell_type": "markdown",
   "metadata": {},
   "source": [
    "# **Extension of the model**"
   ]
  },
  {
   "attachments": {},
   "cell_type": "markdown",
   "metadata": {},
   "source": [
    "We extend the model by using a more general CES function as the production function instead of a Cobb-Douglas function which is a special case of the CES function. The production function is now defined as:\n",
    "$$\n",
    "Y_t = \\Bigr[\\alpha K_{t}^{\\frac{\\sigma-1}{\\sigma}}+\\varphi H_{t}^{\\frac{\\sigma-1}{\\sigma}}+(1-\\alpha-\\varphi)(AL_t)^{\\frac{\\sigma-1}{\\sigma}}\\Bigl]^{\\frac{\\sigma}{\\sigma-1}}\n",
    "$$\n",
    "where $\\sigma$ is the elasticity of substitution for physical capital and human capital. \n",
    "When $\\sigma\\rightarrow1$ we have the special case of a Cobb Douglas function as previously.\n",
    "\n",
    "Following the same procedures as above, by dividing by ${A}_{t}{L}_{t}$, the output per effective worker becomes:\n",
    "\n",
    "$$\n",
    "\\hat{y}_{t} =\\bigl[\\alpha \\hat{k}_{t}^{\\beta} + \\varphi \\hat{h}_{t}^{\\beta} + (1-\\alpha-\\varphi)\\bigr]^{\\frac{1}{\\beta}}\n",
    "$$\n",
    "\n",
    "Where $\\beta$ is equal to $\\frac{\\sigma-1}{\\sigma}$. We have the same the accumulation for physical and human capital as before. Inserting the new expresion for y we obtain the following transition equations.\n",
    "\n",
    "$$\n",
    "\\hat{k}_{t+1} = \\frac{1}{(1+n)(1+g)}(s_K((\\alpha \\hat{k}_{t}^{\\beta}+ \\varphi \\hat{h}_{t}^{\\beta}+(1-\\alpha-\\varphi))^{\\frac{1}{\\beta}})+(1+{\\delta})\\hat{k}_{t})\n",
    "$$\n",
    "$$\n",
    "\\hat{h}_{t+1} = \\frac{1}{(1+n)(1+g)}(s_H((\\alpha \\hat{k}_{t}^{\\beta}+ \\varphi \\hat{h}_{t}^{\\beta}+(1-\\alpha-\\varphi)^{\\frac{1}{\\beta}})+(1+{\\delta})\\hat{h}_{t})\n",
    "$$\n",
    "\n",
    "By subtracting $\\hat{k}_{t}$ and $\\hat{h}_{t}$ and assuming that $\\hat{k}_{t+1} = \\hat{k}_{t} =\\hat{k}^{*}$ and $\\hat{h}_{t+1} = \\hat{h}_{t} =\\hat{h}^{*}$ we are left with the following Solow equations.\n",
    "\n",
    "$$\n",
    "0 = \\frac{1}{(1+n)(1+g)}(s_K((\\alpha \\hat{k}_{t}^{\\beta}+ \\varphi \\hat{h}_{t}^{\\beta}+(1-\\alpha-\\varphi))^{\\frac{1}{\\beta}})-(n+g+{\\delta}+ng)\\hat{k}_{t})\n",
    "$$\n",
    "$$\n",
    "0 = \\frac{1}{(1+n)(1+g)}(s_H((\\alpha \\hat{k}_{t}^{\\beta}+ \\varphi \\hat{h}_{t}^{\\beta}+(1-\\alpha-\\varphi))^{\\frac{1}{\\beta}})-(n+g+{\\delta}+ng)\\hat{h}_{t})\n",
    "$$\n",
    "\n",
    "The analytical solution to the problem is \n",
    "\n",
    "$$\n",
    "\\hat{k}^{*} = \\Biggl[\\frac{1-\\alpha-\\varphi}{(\\frac{n+g+\\delta}{s_K})^{\\beta}-\\varphi(\\frac{s_H}{s_K})^{\\beta}-\\alpha}\\Biggr]^{\\frac{1}{\\beta}}\n",
    "$$\n",
    "and\n",
    "$$\n",
    "\\hat{h}^{*} = \\Biggl[\\frac{1-\\alpha-\\varphi}{(\\frac{n+g+\\delta}{s_H})^{\\beta}-\\alpha(\\frac{s_K}{s_H})^{\\beta}-\\varphi}\\Biggr]^{\\frac{1}{\\beta}}\n",
    "$$\n",
    "\n",
    "In the end, we will check that the numerical solution is aligned with the analytical solution. \n",
    "\n",
    "We will examine how the steady state depends on different values of $\\beta$ and plot this. "
   ]
  },
  {
   "cell_type": "code",
   "execution_count": null,
   "metadata": {},
   "outputs": [],
   "source": [
    "# we define a beta vector\n",
    "betas = np.linspace(-0.75,0.75,25)\n",
    "\n",
    "def steady_state_CES(sK, sH, delta, g, n, alpha, varphi, beta):\n",
    "    \"\"\" root finding function\n",
    "\n",
    "    Args:\n",
    "        ktilde (float): physical capital per effective worker\n",
    "        htilde (float): human capital per effective worker\n",
    "        sK (float): savings rate in physical capital\n",
    "        sH (float): savings rate in human capital\n",
    "        delta (float): depreciation rate\n",
    "        g (float): technological growth rate\n",
    "        n (float): population growth\n",
    "        alpha (float): return of physical capital\n",
    "        varphi (float): return of human capital\n",
    "\n",
    "    Returns:\n",
    "        ss_k_CES (float): steady state value of physical capital with CES production function\n",
    "        ss_h_CES (float): steady state value of human capital with CES production function\n",
    "    \"\"\"\n",
    "    # define empty vectors with the length of betas\n",
    "    ss_k_CES = np.zeros(len(betas))\n",
    "    ss_h_CES = np.zeros(len(betas))\n",
    "\n",
    "    # loop over all value of betas\n",
    "    for i, beta in enumerate(betas):\n",
    "        # define Solow equations for physical and human capital - both expressions depend on ktilde and htilde   \n",
    "        def solow_k(khat, hhat): \n",
    "            if beta == 0:\n",
    "                return ((1/((1+n)*(1+g)))*(sK*(khat**alpha*hhat**varphi)-(n+g+delta+n*g)*khat)) #limit for beta -> 0\n",
    "            else:\n",
    "                return ((1/((1+n)*(1+g)))*(sK*((alpha*khat**beta+varphi*hhat**beta+(1-alpha-varphi))**(1/beta))-(n+g+delta+n*g)*khat))\n",
    "        def solow_h(khat, hhat): \n",
    "            if beta == 0:\n",
    "                return ((1/((1+n)*(1+g)))*(sH*(khat**alpha*hhat**varphi)-(n+g+delta+n*g)*hhat)) #limit for beta -> 0\n",
    "            else:\n",
    "                return ((1/((1+n)*(1+g)))*(sH*((alpha*khat**beta+varphi*hhat**beta+(1-alpha-varphi))**(1/beta))-(n+g+delta+n*g)*hhat))\n",
    "\n",
    "        # initial guess\n",
    "        x0 = [1, 1]\n",
    "        \n",
    "        \n",
    "        # join solow_k and solow_h as a non-linear system to find roots\n",
    "        def objective(x): return [solow_k(x[0], x[1]), solow_h(x[0], x[1])]\n",
    "\n",
    "        # solving for roots\n",
    "        solution = optimize.root(objective, x0, method=\"krylov\") # using the Newton-Krylov solver - can deal with large non-linear problems\n",
    "        \n",
    "        # save steady state values for each value of betas\n",
    "        ss_k_CES[i] = solution.x[0]\n",
    "        ss_h_CES[i] = solution.x[1]\n",
    "\n",
    "    return ss_k_CES, ss_h_CES\n",
    "\n",
    "# save values of ss_k, ss_h\n",
    "ss_k_CES, ss_h_CES = steady_state_CES(sK, sH, delta, g, n, alpha, varphi, beta)\n",
    "print(ss_k_CES, ss_h_CES)\n"
   ]
  },
  {
   "cell_type": "code",
   "execution_count": null,
   "metadata": {},
   "outputs": [],
   "source": [
    "# plot steady state values for k and h for different values of beta\n",
    "plt.plot(betas, ss_k_CES, color='black', label=r'$\\hat{k}^*$')\n",
    "plt.plot(betas, ss_h_CES, color='pink', linestyle='dotted', label=r'$\\hat{h}^*$')\n",
    "plt.xlabel(r'$\\beta$')\n",
    "plt.ylabel(r'$\\hat{k}^*$, $\\hat{h}^*$')\n",
    "plt.grid(True)\n",
    "plt.legend()\n",
    "plt.title(r'Steady state $\\hat{k}*$, $\\hat{h}*$ for different values of $\\beta$')"
   ]
  },
  {
   "attachments": {},
   "cell_type": "markdown",
   "metadata": {},
   "source": [
    "We see that $\\hat{k}*$ and $\\hat{h}*$ are equal for all values of $\\beta$ this in not always the case. The steady state values are dependent on the values for the parameters. "
   ]
  },
  {
   "attachments": {},
   "cell_type": "markdown",
   "metadata": {},
   "source": [
    "We now compute the analytical values of the steady state for different values of beta."
   ]
  },
  {
   "cell_type": "code",
   "execution_count": null,
   "metadata": {},
   "outputs": [],
   "source": [
    "# compute theoretical values of steady state\n",
    "def theoretical_ss_CES(sK, sH, delta, g, n, alpha, varphi, beta):\n",
    "    if beta == 0:\n",
    "        k_star = ((sK**(1-varphi)*sH**varphi)/(n+g+delta+n*g))**(1/(1-alpha-varphi))\n",
    "        h_star = ((sK**alpha*sH**(1-alpha))/(n+g+delta+n*g))**(1/(1-alpha-varphi))\n",
    "    else:\n",
    "        k_star = ((1-alpha-varphi)/(((n+g+delta+n*g)/sK)**beta-varphi*(sH/sK)**beta-alpha))**(1/beta)\n",
    "        h_star = ((1-alpha-varphi)/(((n+g+delta+n*g)/sH)**beta-alpha*(sK/sH)**beta-varphi))**(1/beta)\n",
    "    return k_star, h_star\n",
    "\n",
    "k_star_theoretical = np.zeros(len(betas))\n",
    "h_star_theoretical = np.zeros(len(betas))\n",
    "\n",
    "for i, beta in enumerate(betas):\n",
    "    k_star, h_star = theoretical_ss_CES(sK, sH, delta, g, n, alpha, varphi, beta)\n",
    "    k_star_theoretical[i] = k_star\n",
    "    h_star_theoretical[i] = h_star"
   ]
  },
  {
   "attachments": {},
   "cell_type": "markdown",
   "metadata": {},
   "source": [
    "Plot numerical and analytical values of steady state for different values of beta."
   ]
  },
  {
   "cell_type": "code",
   "execution_count": null,
   "metadata": {},
   "outputs": [],
   "source": [
    "# create figure\n",
    "fig = plt.figure()\n",
    "# create plot\n",
    "ax = fig.add_subplot(1, 2, 1)\n",
    "plt.plot(betas, ss_k_CES, color='black',label= 'numerical $\\hat{k}*$', lw='4')\n",
    "plt.plot(betas, k_star_theoretical, color='pink', label= 'theoretical $\\hat{k}*$')\n",
    "plt.xlabel(r'$\\beta$')\n",
    "plt.ylabel(r'$\\hat{k}^*$')\n",
    "plt.legend()\n",
    "plt.grid(True)\n",
    "plt.title(r'Steady state $\\hat{k}*$, $\\hat{h}*$ for different values of $\\beta$');\n",
    "\n",
    "ax = fig.add_subplot(1, 2, 2)\n",
    "plt.plot(betas, ss_h_CES, color='black',label= 'numerical $\\hat{h}*$', lw='4', ms=8)\n",
    "plt.plot(betas, h_star_theoretical, color='pink', label= 'theoretical $\\hat{h}*$')\n",
    "plt.xlabel(r'$\\beta$')\n",
    "plt.ylabel(r'$\\hat{h}^*$')\n",
    "plt.legend()\n",
    "plt.grid(True)\n",
    "fig.tight_layout(pad=2.0)"
   ]
  },
  {
   "attachments": {},
   "cell_type": "markdown",
   "metadata": {},
   "source": [
    "We see that the numerical and analytical values are equal to each other for both physical and human capital. "
   ]
  },
  {
   "attachments": {},
   "cell_type": "markdown",
   "metadata": {},
   "source": [
    "# **Conclusion**"
   ]
  },
  {
   "attachments": {},
   "cell_type": "markdown",
   "metadata": {},
   "source": [
    "We succed in solving the extended solow model with human capital numerically and optaining the same results as theory predicts. We use the variables values from previous reading. We analysise what a change in the models parameters value does to the steady state values, and plot this in a fase diagram. Incresing the savings rate for human capital leads to an increase in the steady state value for both physical and human capital in the new steady state. Further more we extend the model to a more genereal funciton where we include the production function CES, where Cobb Douglas is a speacial case. Here we also optain a numerical solution inline with theory."
   ]
  }
 ],
 "metadata": {
  "kernelspec": {
   "display_name": "base",
   "language": "python",
   "name": "python3"
  },
  "language_info": {
   "codemirror_mode": {
    "name": "ipython",
    "version": 3
   },
   "file_extension": ".py",
   "mimetype": "text/x-python",
   "name": "python",
   "nbconvert_exporter": "python",
   "pygments_lexer": "ipython3",
   "version": "3.9.13"
  },
  "toc-autonumbering": true,
  "vscode": {
   "interpreter": {
    "hash": "dcf1a8682162ea4489d11bfd2867122677541aeac7e7f0427c1bfeb51d7ed9c5"
   }
  }
 },
 "nbformat": 4,
 "nbformat_minor": 4
}
