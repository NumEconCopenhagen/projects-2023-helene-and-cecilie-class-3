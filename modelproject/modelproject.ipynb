{
 "cells": [
  {
   "cell_type": "markdown",
   "metadata": {},
   "source": [
    "# YOUR PROJECT TITLE"
   ]
  },
  {
   "attachments": {},
   "cell_type": "markdown",
   "metadata": {},
   "source": [
    "> **Note the following:** \n",
    "> 1. This is *not* meant to be an example of an actual **model analysis project**, just an example of how to structure such a project.\n",
    "> 1. Remember the general advice on structuring and commenting your code\n",
    "> 1. The `modelproject.py` file includes a function which could be used multiple times in this notebook."
   ]
  },
  {
   "cell_type": "markdown",
   "metadata": {},
   "source": [
    "Imports and set magics:"
   ]
  },
  {
   "cell_type": "code",
   "execution_count": 1,
   "metadata": {},
   "outputs": [],
   "source": [
    "import numpy as np\n",
    "from scipy import optimize\n",
    "import sympy as sm\n",
    "from sympy.solvers import solve\n",
    "# for later use, in order to write tilde-variables, we need the following package\n",
    "from sympy import *\n",
    "sm.init_printing()\n",
    "\n",
    "# autoreload modules when code is run\n",
    "%load_ext autoreload\n",
    "%autoreload 2\n",
    "\n",
    "# local modules\n",
    "import modelproject"
   ]
  },
  {
   "attachments": {},
   "cell_type": "markdown",
   "metadata": {},
   "source": [
    "# **Model description**"
   ]
  },
  {
   "attachments": {},
   "cell_type": "markdown",
   "metadata": {},
   "source": [
    "**The Solow model with human kapital** \n",
    "\n",
    "The extendet Solow model contain the following variables\n",
    "1. $K_t$ is physical capital\n",
    "2. $H_t$ is human capital\n",
    "3. $A_t$ is technology\n",
    "4. $L_t$ is labour\n",
    "\n",
    "The production function\n",
    "$$\n",
    "Y_t = K_t^{\\alpha}H_t^{\\varphi}(A_tL_t)^{1-\\alpha-\\varphi}, \\quad 0<\\alpha<1, 0<\\varphi<1, \\alpha+\\varphi<1\n",
    "$$\n",
    "\n",
    "The household decides how much to save of physical capital and of human capital as a constant fraction of income.\n",
    "$$\n",
    "S_t = (s_K + s_H)Y_t, \\quad s_K+s_H<1\n",
    "$$\n",
    "\n",
    "$s_K$ denotes the savings rate of physical capital and $s_H$ denotes the savings of human capital\n",
    "\n",
    "This lead to the accumulation of phycial capital\n",
    "$$\n",
    "K_{t+1}=s_KY_t+(1-\\delta)K_t, \\quad K_0 \\, \\text{given}\n",
    "$$\n",
    "\n",
    "As well as the accumulation of human capital\n",
    "$$\n",
    "H_{t+1}=s_HY_t+(1-\\delta)H_t, \\quad H_0 \\, \\text{given}\n",
    "$$\n",
    "\n",
    "Further more the accumulation of technology and labour is defined as following\n",
    "$$\n",
    "A_{t+1} = (1+g)A_t, \\quad A_0 \\, \\text{given}\n",
    "$$\n",
    "$$\n",
    "L_{t+1} = (1+n)L_t, \\quad L_0 \\, \\text{given}\n",
    "$$\n",
    "Where  $g$ is a constant rate of techonolical progress, and $n$ is the population growth.\n",
    "\n",
    "We define the following tilde-variables, which is the techonogy adjusted variables.\n",
    "$$\n",
    "\\tilde{y}_{t}= \\frac{Y_t}{A_tL_t}\n",
    "$$\n",
    "$$\n",
    "\\tilde{k}_{t}= \\frac{K_t}{A_tL_t}\n",
    "$$\n",
    "$$\n",
    "\\tilde{h}_{t}= \\frac{H_t}{A_tL_t}\n",
    "$$\n",
    "\n",
    "The **production function** has **constant return to scale** meaning that\n",
    "$$\n",
    "\\frac{Y_t}{A_tL_t} = \\frac{K_t^{\\alpha}H_t^{\\varphi}(A_tL_t)^{1-\\alpha-\\varphi}}{A_tL_t}=\\tilde{k}_{t}^{\\alpha}\\tilde{h}_{t}^{\\varphi}\n",
    "$$\n",
    "\n",
    "We are then left with two transistion equations. One equation for physical capital and one equation for human capital.\n",
    "$$\n",
    "\\tilde{k}_{t+1} = \\frac{1}{(1+n)(1+g)}(s_K\\tilde{k}_{t}^{\\alpha}\\tilde{h}_{t}^{\\varphi}+(1+{\\delta})\\tilde{k}_{t})\n",
    "$$\n",
    "$$\n",
    "\\tilde{h}_{t+1} = \\frac{1}{(1+n)(1+g)}(s_H\\tilde{k}_{t}^{\\alpha}\\tilde{h}_{t}^{\\varphi}+(1+{\\delta})\\tilde{h}_{t})\n",
    "$$\n",
    "\n"
   ]
  },
  {
   "attachments": {},
   "cell_type": "markdown",
   "metadata": {},
   "source": [
    "## **Analytical solution**"
   ]
  },
  {
   "cell_type": "markdown",
   "metadata": {},
   "source": [
    "If your model allows for an analytical solution, you should provide here.\n",
    "\n",
    "You may use Sympy for this. Then you can characterize the solution as a function of a parameter of the model.\n",
    "\n",
    "To characterize the solution, first derive a steady state equation as a function of a parameter using Sympy.solve and then turn it into a python function by Sympy.lambdify. See the lecture notes for details. "
   ]
  },
  {
   "attachments": {},
   "cell_type": "markdown",
   "metadata": {},
   "source": [
    "We then assume that $\\tilde{k}_{t+1} = \\tilde{k}_{t} =\\tilde{k}^{*}$ and $\\tilde{h}_{t+1} = \\tilde{h}_{t} =\\tilde{h}^{*}$. We are then left with a system of two equation with 2 unnowns. \n",
    "\n",
    "$$\n",
    "\\tilde{k}^{*} = \\frac{1}{(1+n)(1+g)}(s_K(\\tilde{k}^{*})^{\\alpha}(\\tilde{h}^{*})^{\\varphi}+(1-{\\delta})\\tilde{k}^{*})\n",
    "$$\n",
    "$$\n",
    "\\tilde{h}^{*} = \\frac{1}{(1+n)(1+g)}(s_H(\\tilde{k}^{*})^{\\alpha}(\\tilde{h}^{*})^{\\varphi}+(1-{\\delta})\\tilde{h}^{*})\n",
    "$$\n",
    "\n",
    "We now use sympy to solve this system, to optain the steady state for $\\tilde{k}^{*}$ and $\\tilde{h}^{*}$"
   ]
  },
  {
   "cell_type": "code",
   "execution_count": 5,
   "metadata": {},
   "outputs": [
    {
     "data": {
      "text/latex": [
       "$\\displaystyle \\tilde{k} = \\frac{\\tilde{h}^{\\varphi} \\tilde{k}^{\\alpha} s_{K} + \\tilde{k} \\left(1 - \\delta\\right)}{\\left(g + 1\\right) \\left(n + 1\\right)}$"
      ],
      "text/plain": [
       "     varphi  α                \n",
       "    h̃      ⋅k̃ ⋅s_K + k̃⋅(1 - δ)\n",
       "k̃ = ──────────────────────────\n",
       "         (g + 1)⋅(n + 1)      "
      ]
     },
     "metadata": {},
     "output_type": "display_data"
    },
    {
     "data": {
      "text/latex": [
       "$\\displaystyle \\tilde{h} = \\frac{\\tilde{h} \\left(1 - \\delta\\right) + \\tilde{h}^{\\varphi} \\tilde{k}^{\\alpha} s_{H}}{\\left(g + 1\\right) \\left(n + 1\\right)}$"
      ],
      "text/plain": [
       "                 varphi  α    \n",
       "    h̃⋅(1 - δ) + h̃      ⋅k̃ ⋅s_H\n",
       "h̃ = ──────────────────────────\n",
       "         (g + 1)⋅(n + 1)      "
      ]
     },
     "metadata": {},
     "output_type": "display_data"
    },
    {
     "data": {
      "text/latex": [
       "$\\displaystyle \\tilde{k} = \\frac{\\tilde{h}^{\\varphi} \\tilde{k}^{\\alpha} s_{K} - \\tilde{k} \\left(\\delta - 1\\right)}{\\left(g + 1\\right) \\left(n + 1\\right)}$"
      ],
      "text/plain": [
       "     varphi  α                \n",
       "    h̃      ⋅k̃ ⋅s_K - k̃⋅(δ - 1)\n",
       "k̃ = ──────────────────────────\n",
       "         (g + 1)⋅(n + 1)      "
      ]
     },
     "metadata": {},
     "output_type": "display_data"
    },
    {
     "data": {
      "text/latex": [
       "$\\displaystyle \\tilde{h} = \\frac{- \\tilde{h} \\left(\\delta - 1\\right) + \\tilde{h}^{\\varphi} \\tilde{k}^{\\alpha} s_{H}}{\\left(g + 1\\right) \\left(n + 1\\right)}$"
      ],
      "text/plain": [
       "                  varphi  α    \n",
       "    -h̃⋅(δ - 1) + h̃      ⋅k̃ ⋅s_H\n",
       "h̃ = ───────────────────────────\n",
       "          (g + 1)⋅(n + 1)      "
      ]
     },
     "metadata": {},
     "output_type": "display_data"
    },
    {
     "ename": "NotImplementedError",
     "evalue": "could not solve ktilde*(delta - 1) + ktilde*(g + 1)*(n + 1) - ktilde**alpha*s_K*(((delta + g*n + g + n)/(ktilde**alpha*s_H))**(1/(varphi - 1)))**varphi",
     "output_type": "error",
     "traceback": [
      "\u001b[1;31m---------------------------------------------------------------------------\u001b[0m",
      "\u001b[1;31mNotImplementedError\u001b[0m                       Traceback (most recent call last)",
      "\u001b[1;32m~\\AppData\\Local\\Temp\\ipykernel_4576\\1560534642.py\u001b[0m in \u001b[0;36m<module>\u001b[1;34m\u001b[0m\n\u001b[0;32m     27\u001b[0m \u001b[1;33m\u001b[0m\u001b[0m\n\u001b[0;32m     28\u001b[0m \u001b[1;33m\u001b[0m\u001b[0m\n\u001b[1;32m---> 29\u001b[1;33m \u001b[0mss\u001b[0m \u001b[1;33m=\u001b[0m \u001b[0msm\u001b[0m\u001b[1;33m.\u001b[0m\u001b[0msolve\u001b[0m\u001b[1;33m(\u001b[0m\u001b[1;33m[\u001b[0m\u001b[0mtranK\u001b[0m\u001b[1;33m,\u001b[0m\u001b[0mtranH\u001b[0m\u001b[1;33m]\u001b[0m\u001b[1;33m,\u001b[0m\u001b[1;33m[\u001b[0m\u001b[0mktilde\u001b[0m\u001b[1;33m,\u001b[0m\u001b[0mhtilde\u001b[0m\u001b[1;33m]\u001b[0m\u001b[1;33m)\u001b[0m\u001b[1;33m[\u001b[0m\u001b[1;36m0\u001b[0m\u001b[1;33m]\u001b[0m\u001b[1;33m\u001b[0m\u001b[1;33m\u001b[0m\u001b[0m\n\u001b[0m\u001b[0;32m     30\u001b[0m \u001b[1;33m\u001b[0m\u001b[0m\n\u001b[0;32m     31\u001b[0m \u001b[1;31m#SPØRG ANNE SOFIE\u001b[0m\u001b[1;33m\u001b[0m\u001b[1;33m\u001b[0m\u001b[0m\n",
      "\u001b[1;32mc:\\Users\\cecil\\anaconda3\\lib\\site-packages\\sympy\\solvers\\solvers.py\u001b[0m in \u001b[0;36msolve\u001b[1;34m(f, *symbols, **flags)\u001b[0m\n\u001b[0;32m   1112\u001b[0m         \u001b[0msolution\u001b[0m \u001b[1;33m=\u001b[0m \u001b[0m_solve\u001b[0m\u001b[1;33m(\u001b[0m\u001b[0mf\u001b[0m\u001b[1;33m[\u001b[0m\u001b[1;36m0\u001b[0m\u001b[1;33m]\u001b[0m\u001b[1;33m,\u001b[0m \u001b[1;33m*\u001b[0m\u001b[0msymbols\u001b[0m\u001b[1;33m,\u001b[0m \u001b[1;33m**\u001b[0m\u001b[0mflags\u001b[0m\u001b[1;33m)\u001b[0m\u001b[1;33m\u001b[0m\u001b[1;33m\u001b[0m\u001b[0m\n\u001b[0;32m   1113\u001b[0m     \u001b[1;32melse\u001b[0m\u001b[1;33m:\u001b[0m\u001b[1;33m\u001b[0m\u001b[1;33m\u001b[0m\u001b[0m\n\u001b[1;32m-> 1114\u001b[1;33m         \u001b[0msolution\u001b[0m \u001b[1;33m=\u001b[0m \u001b[0m_solve_system\u001b[0m\u001b[1;33m(\u001b[0m\u001b[0mf\u001b[0m\u001b[1;33m,\u001b[0m \u001b[0msymbols\u001b[0m\u001b[1;33m,\u001b[0m \u001b[1;33m**\u001b[0m\u001b[0mflags\u001b[0m\u001b[1;33m)\u001b[0m\u001b[1;33m\u001b[0m\u001b[1;33m\u001b[0m\u001b[0m\n\u001b[0m\u001b[0;32m   1115\u001b[0m \u001b[1;33m\u001b[0m\u001b[0m\n\u001b[0;32m   1116\u001b[0m     \u001b[1;31m#\u001b[0m\u001b[1;33m\u001b[0m\u001b[1;33m\u001b[0m\u001b[0m\n",
      "\u001b[1;32mc:\\Users\\cecil\\anaconda3\\lib\\site-packages\\sympy\\solvers\\solvers.py\u001b[0m in \u001b[0;36m_solve_system\u001b[1;34m(exprs, symbols, **flags)\u001b[0m\n\u001b[0;32m   1993\u001b[0m                     \u001b[0mgot_s\u001b[0m\u001b[1;33m.\u001b[0m\u001b[0madd\u001b[0m\u001b[1;33m(\u001b[0m\u001b[0ms\u001b[0m\u001b[1;33m)\u001b[0m\u001b[1;33m\u001b[0m\u001b[1;33m\u001b[0m\u001b[0m\n\u001b[0;32m   1994\u001b[0m                 \u001b[1;32mif\u001b[0m \u001b[1;32mnot\u001b[0m \u001b[0mhit\u001b[0m\u001b[1;33m:\u001b[0m\u001b[1;33m\u001b[0m\u001b[1;33m\u001b[0m\u001b[0m\n\u001b[1;32m-> 1995\u001b[1;33m                     \u001b[1;32mraise\u001b[0m \u001b[0mNotImplementedError\u001b[0m\u001b[1;33m(\u001b[0m\u001b[1;34m'could not solve %s'\u001b[0m \u001b[1;33m%\u001b[0m \u001b[0meq2\u001b[0m\u001b[1;33m)\u001b[0m\u001b[1;33m\u001b[0m\u001b[1;33m\u001b[0m\u001b[0m\n\u001b[0m\u001b[0;32m   1996\u001b[0m             \u001b[1;32melse\u001b[0m\u001b[1;33m:\u001b[0m\u001b[1;33m\u001b[0m\u001b[1;33m\u001b[0m\u001b[0m\n\u001b[0;32m   1997\u001b[0m                 \u001b[0mresult\u001b[0m \u001b[1;33m=\u001b[0m \u001b[0mnewresult\u001b[0m\u001b[1;33m\u001b[0m\u001b[1;33m\u001b[0m\u001b[0m\n",
      "\u001b[1;31mNotImplementedError\u001b[0m: could not solve ktilde*(delta - 1) + ktilde*(g + 1)*(n + 1) - ktilde**alpha*s_K*(((delta + g*n + g + n)/(ktilde**alpha*s_H))**(1/(varphi - 1)))**varphi"
     ]
    }
   ],
   "source": [
    "# defining all variables\n",
    "ktilde = sm.symbols('ktilde')\n",
    "htilde = sm.symbols('htilde')\n",
    "sK = sm.symbols('s_K')\n",
    "sH = sm.symbols('s_H')\n",
    "delta = sm.symbols('delta')\n",
    "g = sm.symbols('g')\n",
    "n = sm.symbols('n')\n",
    "alpha = sm.symbols('alpha')\n",
    "varphi = sm.symbols('varphi')\n",
    "\n",
    "f = (ktilde**alpha)*(htilde**varphi) # defining f\n",
    "\n",
    "\n",
    "# define transistion equations\n",
    "tranK = sm.Eq(ktilde, 1/((1+n)*(1+g))*(sK*ktilde**alpha*htilde**varphi+(1-delta)*ktilde))\n",
    "tranH = sm.Eq(htilde, 1/((1+n)*(1+g))*(sH*ktilde**alpha*htilde**varphi+(1-delta)*htilde))\n",
    "\n",
    "display(tranK)\n",
    "display(tranH)\n",
    "\n",
    "tranK = sm.simplify(tranK)\n",
    "tranH = sm.simplify(tranH)\n",
    "\n",
    "display(tranK)\n",
    "display(tranH)\n",
    "\n",
    "\n",
    "ss = sm.solve([tranK,tranH],[ktilde,htilde])[0]\n",
    "\n",
    "#SPØRG ANNE SOFIE\n",
    "# solve for steady state\n",
    "#ss = sm.solve(tranK, ktilde)\n",
    "#ssh_k = sm.solve(tranH,)[0]\n",
    "\n",
    "\n",
    "h: (sh/(delta + g + n + phi*sk/(1+n)))**(1/(1 - phi)),\n",
    "k: (sk/(delta + g + n + alpha*sh/(1+n)))**(1/(1 - alpha))\n",
    "\n"
   ]
  },
  {
   "attachments": {},
   "cell_type": "markdown",
   "metadata": {},
   "source": [
    "## **Numerical solution**"
   ]
  },
  {
   "cell_type": "markdown",
   "metadata": {},
   "source": [
    "You can always solve a model numerically. \n",
    "\n",
    "Define first the set of parameters you need. \n",
    "\n",
    "Then choose one of the optimization algorithms that we have gone through in the lectures based on what you think is most fitting for your model.\n",
    "\n",
    "Are there any problems with convergence? Does the model converge for all starting values? Make a lot of testing to figure these things out. "
   ]
  },
  {
   "attachments": {},
   "cell_type": "markdown",
   "metadata": {},
   "source": [
    "Based on \"Introducing advanced macroeconomic\" we find the plauseble values for out parameters. \n",
    "We assume a total savings rate of 20%, allined with teory, and therefor assume a savingsrate of 10% for each physical and human capital. We also have $\\delta$ + $g$ should be 0,75, hence the values for the parameters is $\\delta$ = 5% and $g$ = 2,5%. The population is assumed to increase with 10%. $\\alpha$ and $\\varphi$ is usual estimated to be $\\frac{1}{3}$.\n"
   ]
  },
  {
   "cell_type": "code",
   "execution_count": 2,
   "metadata": {},
   "outputs": [],
   "source": [
    "# set parameters\n",
    "sK = 0.1\n",
    "sH = 0.1\n",
    "delta = 0.05\n",
    "g = 0.025\n",
    "n = 0.01\n",
    "alpha = 1/3\n",
    "varphi = 1/3"
   ]
  },
  {
   "cell_type": "code",
   "execution_count": null,
   "metadata": {},
   "outputs": [],
   "source": [
    "# define steady state expressions for k and h - both expressions depend on k and h\n",
    "k_star = lambda ktilde, htilde: ((1/((1+n)*(1+g)))*(sK*ktilde**alpha*htilde**varphi-(n+g+delta+n*g)*ktilde))\n",
    "h_star = lambda ktilde, htilde: ((1/((1+n)*(1+g)))*(sH*ktilde**alpha*htilde**varphi-(n+g+delta+n*g)*htilde))\n",
    "\n",
    "# \n",
    "objective = lambda x: [k_star(x[0], x[1]), h_star(x[0], x[1])]\n",
    "solution = optimize.root(objective, [1,1], method=\"broyden1\")\n",
    "print(solution)"
   ]
  },
  {
   "cell_type": "code",
   "execution_count": 16,
   "metadata": {},
   "outputs": [
    {
     "name": "stdout",
     "output_type": "stream",
     "text": [
      "For htilde=0.5, ktilde=0.15488992578124997, htilde_solution=0.01486378813400305\n",
      "For htilde=1.0, ktilde=0.6195597031249999, htilde_solution=0.2378206101405956\n",
      "For htilde=1.5, ktilde=1.3940093320312505, htilde_solution=1.20396683883623\n"
     ]
    }
   ],
   "source": [
    "from scipy.optimize import brentq\n",
    "\n",
    "sK = 0.1\n",
    "sH = 0.1\n",
    "delta = 0.05\n",
    "g = 0.025\n",
    "n = 0.01\n",
    "alpha = 1/3\n",
    "varphi = 1/3\n",
    "\n",
    "# Define the two functions to be solved\n",
    "k_star = lambda ktilde, htilde: ((1/((1+n)*(1+g)))*(sK*ktilde**alpha*htilde**varphi-(n+g+delta+n*g)*ktilde))\n",
    "h_star = lambda ktilde, htilde: ((1/((1+n)*(1+g)))*(sH*ktilde**alpha*htilde**varphi-(n+g+delta+n*g)*htilde))\n",
    "\n",
    "# Define the objective function as a single function that returns both equations\n",
    "def objective(x):\n",
    "    return k_star(x[0], x[1]), h_star(x[0], x[1])\n",
    "\n",
    "# Define a function that solves for x given a value of ktilde\n",
    "def solve_for_ktilde(ktilde):\n",
    "    # Define a function that returns the system of equations for a given value of ktilde\n",
    "    def f(h):\n",
    "        return objective([ktilde, h])\n",
    "    # Use brentq to solve for the value of htilde that satisfies the equations\n",
    "    htilde = brentq(lambda h: f(h)[0], 0, 10)\n",
    "    return htilde\n",
    "\n",
    "# Solve for ktilde for several values of htilde\n",
    "for htilde in [0.5, 1.0, 1.5]:\n",
    "    ktilde = brentq(lambda k: objective([k, htilde])[1], 0, 10)\n",
    "    htilde_solution = solve_for_ktilde(ktilde)\n",
    "    print(f\"For htilde={htilde}, ktilde={ktilde}, htilde_solution={htilde_solution}\")\n"
   ]
  },
  {
   "cell_type": "code",
   "execution_count": 83,
   "metadata": {},
   "outputs": [],
   "source": [
    "def k_star(htilde, sK, sH, g, n, delta, alpha, varphi, ktilde):\n",
    "    return ((1/((1+n)*(1+g)))*(sK*ktilde**alpha*htilde**varphi-(n+g+delta+n*g)*ktilde))\n",
    "\n",
    "def h_star(ktilde, sK, sH, g, n, delta, alpha, varphi, htilde):\n",
    "    return ((1/((1+n)*(1+g)))*(sH*ktilde**alpha*htilde**varphi-(n+g+delta+n*g)*htilde))\n",
    "\n",
    "obj1 = lambda x: [h_star(x[1], sK, sH, g, n, delta, alpha, varphi, x[0]), k_star(x[0], sK, sH, g, n, delta, alpha, varphi, x[1])]\n",
    "\n",
    "solution = optimize.root(obj1, [1,1], method = 'broyden1')"
   ]
  },
  {
   "cell_type": "code",
   "execution_count": 74,
   "metadata": {},
   "outputs": [
    {
     "name": "stderr",
     "output_type": "stream",
     "text": [
      "/Users/helenethomsen/opt/anaconda3/lib/python3.9/site-packages/scipy/optimize/_nonlin.py:911: RuntimeWarning: divide by zero encountered in true_divide\n",
      "  d = v / vdot(df, v)\n"
     ]
    }
   ],
   "source": [
    "# define\n",
    "def kstar(htilde, sK, sH, delta, g, n, alpha, varphi):\n",
    "    return ((sK**(1-varphi)*sH**varphi)/(n+g+delta+n*g))**(1/(1-alpha-varphi))\n",
    "\n",
    "def hstar(sK, sH, delta, g, n, alpha, varphi):\n",
    "    return ((sK**alpha*sH**(1-alpha))/(n+g+delta+n*g))**(1/(1-alpha-varphi))\n",
    "\n",
    "obj1 = lambda x: [kstar(sK, sH, delta, g, n, alpha, varphi), tranH(sK, sH, delta, g, n, alpha, varphi)]\n",
    "\n",
    "sol = optimize.root(obj1, [1,1], method='broyden1')\n",
    "\n",
    "# hvad gør lambda funktionen. Simultane k* og h*\n",
    "                        "
   ]
  },
  {
   "cell_type": "markdown",
   "metadata": {},
   "source": [
    "# Further analysis"
   ]
  },
  {
   "cell_type": "markdown",
   "metadata": {},
   "source": [
    "Make detailed vizualizations of how your model changes with parameter values. \n",
    "\n",
    "Try to make an extension of the model. "
   ]
  },
  {
   "cell_type": "markdown",
   "metadata": {},
   "source": [
    "# Conclusion"
   ]
  },
  {
   "cell_type": "markdown",
   "metadata": {},
   "source": [
    "Add concise conclusion. "
   ]
  }
 ],
 "metadata": {
  "kernelspec": {
   "display_name": "base",
   "language": "python",
   "name": "python3"
  },
  "language_info": {
   "codemirror_mode": {
    "name": "ipython",
    "version": 3
   },
   "file_extension": ".py",
   "mimetype": "text/x-python",
   "name": "python",
   "nbconvert_exporter": "python",
   "pygments_lexer": "ipython3",
   "version": "3.9.16"
  },
  "toc-autonumbering": true,
  "vscode": {
   "interpreter": {
    "hash": "dcf1a8682162ea4489d11bfd2867122677541aeac7e7f0427c1bfeb51d7ed9c5"
   }
  }
 },
 "nbformat": 4,
 "nbformat_minor": 4
}
