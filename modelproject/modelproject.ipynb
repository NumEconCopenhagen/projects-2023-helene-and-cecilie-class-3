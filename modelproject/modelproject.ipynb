{
 "cells": [
  {
   "cell_type": "markdown",
   "metadata": {},
   "source": [
    "# YOUR PROJECT TITLE"
   ]
  },
  {
   "attachments": {},
   "cell_type": "markdown",
   "metadata": {},
   "source": [
    "> **Note the following:** \n",
    "> 1. This is *not* meant to be an example of an actual **model analysis project**, just an example of how to structure such a project.\n",
    "> 1. Remember the general advice on structuring and commenting your code\n",
    "> 1. The `modelproject.py` file includes a function which could be used multiple times in this notebook."
   ]
  },
  {
   "cell_type": "markdown",
   "metadata": {},
   "source": [
    "Imports and set magics:"
   ]
  },
  {
   "cell_type": "code",
   "execution_count": 191,
   "metadata": {},
   "outputs": [
    {
     "name": "stdout",
     "output_type": "stream",
     "text": [
      "The autoreload extension is already loaded. To reload it, use:\n",
      "  %reload_ext autoreload\n"
     ]
    }
   ],
   "source": [
    "import numpy as np\n",
    "from scipy import optimize\n",
    "import sympy as sm\n",
    "from sympy.solvers import solve\n",
    "# for later use, in order to write tilde-variables, we need the following package\n",
    "from sympy import *\n",
    "sm.init_printing()\n",
    "import matplotlib.pyplot as plt\n",
    "from IPython.display import display, Math, Markdown\n",
    "\n",
    "# autoreload modules when code is run\n",
    "%load_ext autoreload\n",
    "%autoreload 2\n",
    "\n",
    "# local modules\n",
    "import modelproject"
   ]
  },
  {
   "attachments": {},
   "cell_type": "markdown",
   "metadata": {},
   "source": [
    "# **Model description**"
   ]
  },
  {
   "attachments": {},
   "cell_type": "markdown",
   "metadata": {},
   "source": [
    "**The Solow model with human kapital** \n",
    "\n",
    "The extendet Solow model contain the following variables\n",
    "1. $K_t$ is physical capital\n",
    "2. $H_t$ is human capital\n",
    "3. $A_t$ is technology\n",
    "4. $L_t$ is labour\n",
    "\n",
    "The production function\n",
    "$$\n",
    "Y_t = K_t^{\\alpha}H_t^{\\varphi}(A_tL_t)^{1-\\alpha-\\varphi}, \\quad 0<\\alpha<1, 0<\\varphi<1, \\alpha+\\varphi<1\n",
    "$$\n",
    "\n",
    "The household decides how much to save of physical capital and of human capital as a constant fraction of income.\n",
    "$$\n",
    "S_t = (s_K + s_H)Y_t, \\quad s_K+s_H<1\n",
    "$$\n",
    "\n",
    "$s_K$ denotes the savings rate of physical capital and $s_H$ denotes the savings of human capital\n",
    "\n",
    "This lead to the accumulation of phycial capital\n",
    "$$\n",
    "K_{t+1}=s_KY_t+(1-\\delta)K_t, \\quad K_0 \\, \\text{given}\n",
    "$$\n",
    "\n",
    "As well as the accumulation of human capital\n",
    "$$\n",
    "H_{t+1}=s_HY_t+(1-\\delta)H_t, \\quad H_0 \\, \\text{given}\n",
    "$$\n",
    "\n",
    "Further more the accumulation of technology and labour is defined as following\n",
    "$$\n",
    "A_{t+1} = (1+g)A_t, \\quad A_0 \\, \\text{given}\n",
    "$$\n",
    "$$\n",
    "L_{t+1} = (1+n)L_t, \\quad L_0 \\, \\text{given}\n",
    "$$\n",
    "Where  $g$ is a constant rate of techonolical progress, and $n$ is the population growth.\n",
    "\n",
    "We define the following tilde-variables, which is the techonogy adjusted variables.\n",
    "$$\n",
    "\\tilde{y}_{t}= \\frac{Y_t}{A_tL_t}\n",
    "$$\n",
    "$$\n",
    "\\tilde{k}_{t}= \\frac{K_t}{A_tL_t}\n",
    "$$\n",
    "$$\n",
    "\\tilde{h}_{t}= \\frac{H_t}{A_tL_t}\n",
    "$$\n",
    "\n",
    "The **production function** has **constant return to scale** meaning that\n",
    "$$\n",
    "\\frac{Y_t}{A_tL_t} = \\frac{K_t^{\\alpha}H_t^{\\varphi}(A_tL_t)^{1-\\alpha-\\varphi}}{A_tL_t}=\\tilde{k}_{t}^{\\alpha}\\tilde{h}_{t}^{\\varphi}\n",
    "$$\n",
    "\n",
    "We are then left with two transistion equations. One equation for physical capital and one equation for human capital.\n",
    "$$\n",
    "\\tilde{k}_{t+1} = \\frac{1}{(1+n)(1+g)}(s_K\\tilde{k}_{t}^{\\alpha}\\tilde{h}_{t}^{\\varphi}+(1+{\\delta})\\tilde{k}_{t})\n",
    "$$\n",
    "$$\n",
    "\\tilde{h}_{t+1} = \\frac{1}{(1+n)(1+g)}(s_H\\tilde{k}_{t}^{\\alpha}\\tilde{h}_{t}^{\\varphi}+(1+{\\delta})\\tilde{h}_{t})\n",
    "$$\n",
    "\n"
   ]
  },
  {
   "attachments": {},
   "cell_type": "markdown",
   "metadata": {},
   "source": [
    "## **Analytical solution**"
   ]
  },
  {
   "cell_type": "markdown",
   "metadata": {},
   "source": [
    "If your model allows for an analytical solution, you should provide here.\n",
    "\n",
    "You may use Sympy for this. Then you can characterize the solution as a function of a parameter of the model.\n",
    "\n",
    "To characterize the solution, first derive a steady state equation as a function of a parameter using Sympy.solve and then turn it into a python function by Sympy.lambdify. See the lecture notes for details. "
   ]
  },
  {
   "attachments": {},
   "cell_type": "markdown",
   "metadata": {},
   "source": [
    "We then assume that $\\tilde{k}_{t+1} = \\tilde{k}_{t} =\\tilde{k}^{*}$ and $\\tilde{h}_{t+1} = \\tilde{h}_{t} =\\tilde{h}^{*}$. We are then left with a system of two equation with 2 unnowns. \n",
    "\n",
    "$$\n",
    "\\tilde{k}^{*} = \\frac{1}{(1+n)(1+g)}(s_K(\\tilde{k}^{*})^{\\alpha}(\\tilde{h}^{*})^{\\varphi}+(1-{\\delta})\\tilde{k}^{*})\n",
    "$$\n",
    "$$\n",
    "\\tilde{h}^{*} = \\frac{1}{(1+n)(1+g)}(s_H(\\tilde{k}^{*})^{\\alpha}(\\tilde{h}^{*})^{\\varphi}+(1-{\\delta})\\tilde{h}^{*})\n",
    "$$\n",
    "\n",
    "We now use sympy to solve this system, to optain the steady state for $\\tilde{k}^{*}$ and $\\tilde{h}^{*}$"
   ]
  },
  {
   "cell_type": "code",
   "execution_count": 192,
   "metadata": {},
   "outputs": [],
   "source": [
    "# defining all variables\n",
    "ktilde = sm.symbols('ktilde')\n",
    "htilde = sm.symbols('htilde')\n",
    "sK = sm.symbols('s_K')\n",
    "sH = sm.symbols('s_H')\n",
    "delta = sm.symbols('delta')\n",
    "g = sm.symbols('g')\n",
    "n = sm.symbols('n')\n",
    "alpha = sm.symbols('alpha')\n",
    "varphi = sm.symbols('varphi')\n",
    "\n",
    "f = (ktilde**alpha)*(htilde**varphi)  # defining f\n",
    "\n",
    "\n",
    "# define transistion equations\n",
    "tranK = sm.Eq(ktilde, 1/((1+n)*(1+g))*(sK*ktilde **\n",
    "              alpha*htilde**varphi+(1-delta)*ktilde))\n",
    "tranH = sm.Eq(htilde, 1/((1+n)*(1+g))*(sH*ktilde **\n",
    "              alpha*htilde**varphi+(1-delta)*htilde))\n",
    "\n",
    "#display(tranK)\n",
    "#display(tranH)\n",
    "\n",
    "#ss = sm.solve([tranK, tranH], [ktilde, htilde])[0]\n",
    "\n",
    "# SPØRG ANNE SOFIE\n",
    "# solve for steady state\n",
    "#ss = sm.solve(tranK, ktilde)\n",
    "#ssh_k = sm.solve(tranH,)[0]\n"
   ]
  },
  {
   "attachments": {},
   "cell_type": "markdown",
   "metadata": {},
   "source": [
    "## **Numerical solution**"
   ]
  },
  {
   "cell_type": "markdown",
   "metadata": {},
   "source": [
    "You can always solve a model numerically. \n",
    "\n",
    "Define first the set of parameters you need. \n",
    "\n",
    "Then choose one of the optimization algorithms that we have gone through in the lectures based on what you think is most fitting for your model.\n",
    "\n",
    "Are there any problems with convergence? Does the model converge for all starting values? Make a lot of testing to figure these things out. "
   ]
  },
  {
   "attachments": {},
   "cell_type": "markdown",
   "metadata": {},
   "source": [
    "**Algorithm:**\n",
    "1. Define model parameters: savings rate in physical capital (*sK*), savings rate in human capital (*sH*), depreciation rate (*delta*), technological growth rate (*g*), population growth rate (*n*), return on physical capital (*alpha*) and return on human capital (*varphi*).\n",
    "2. Define the steady-state expressions for physical capital, k_star, and human capital, h_star, as functions of the inputs ktilde and htilde.\n",
    "3. Define the objective function, as a function that returns a list of the values of k_star and h_star evaluated at the input values ktilde and htilde.\n",
    "4. Define an initial guess for the values of ktilde and htilde, x0.\n",
    "5. Call the scipy.optimize.root function, passing the objective function, initial guess, and the method=\"krylov\" argument. Assign the output to a variable.\n",
    "6. Check the convergence of the solver by checking the value of the success field in the output variable, solution. **If success is True, the solver has converged; otherwise, it has not.**\n",
    "7. **Extract the values of ktilde and htilde from the x field of the solution variable.**\n",
    "8. **Return the values of ktilde and htilde as the solution to the model.**"
   ]
  },
  {
   "attachments": {},
   "cell_type": "markdown",
   "metadata": {},
   "source": [
    "Based on \"Introducing advanced macroeconomic\" we find the plauseble values for out parameters. \n",
    "We assume a total savings rate of 20%, allined with teory, and therefor assume a savingsrate of 10% for each physical and human capital. We also have $\\delta$ + $g$ should be 0,75, hence the values for the parameters is $\\delta$ = 5% and $g$ = 2,5%. The population is assumed to increase with 10%. $\\alpha$ and $\\varphi$ is usual estimated to be $\\frac{1}{3}$.\n"
   ]
  },
  {
   "cell_type": "code",
   "execution_count": 193,
   "metadata": {},
   "outputs": [],
   "source": [
    "# set parameters\n",
    "sK = 0.1\n",
    "sH = 0.1\n",
    "delta = 0.05\n",
    "g = 0.025\n",
    "n = 0.01\n",
    "alpha = 1/3\n",
    "varphi = 1/3"
   ]
  },
  {
   "cell_type": "code",
   "execution_count": null,
   "metadata": {},
   "outputs": [],
   "source": [
    "def callback(x):\n",
    "    "
   ]
  },
  {
   "cell_type": "code",
   "execution_count": 195,
   "metadata": {},
   "outputs": [],
   "source": [
    "def steady_state(sK, sH, delta, g, n, alpha, varphi):\n",
    "    \"\"\" root finding function\n",
    "\n",
    "    Args:\n",
    "        ktilde (float): physical capital per effective worker\n",
    "        htilde (float): human capital per effective worker\n",
    "        sK (float): savings rate in physical capital\n",
    "        sH (float): savings rate in human capital\n",
    "        delta (float): depreciation rate\n",
    "        g (float): technological growth rate\n",
    "        n (float): population growth\n",
    "        alpha (float): return of physical capital\n",
    "        varphi (float): return of human capital\n",
    "\n",
    "    Returns:\n",
    "\n",
    "    \"\"\"\n",
    "\n",
    "    # define steady state expressions for k* and h* - both expressions depend on ktilde and htilde\n",
    "    def k_star(ktilde, htilde): return ((1/((1+n)*(1+g))) *\n",
    "                                        (sK*ktilde**alpha*htilde**varphi-(n+g+delta+n*g)*ktilde))\n",
    "    def h_star(ktilde, htilde): return ((1/((1+n)*(1+g))) *\n",
    "                                        (sH*ktilde**alpha*htilde**varphi-(n+g+delta+n*g)*htilde))\n",
    "\n",
    "    # initial guess\n",
    "    x0 = [1, 1]\n",
    "    \n",
    "    nit = 0 # number of iterations\n",
    "    \n",
    "    # join k_star and h_star as a non-linear system to find roots\n",
    "    def objective(x): return [k_star(x[0], x[1]), h_star(x[0], x[1])]\n",
    "\n",
    "    # solving for roots\n",
    "    solution = optimize.root(objective, x0, method=\"krylov\") # using the Newton-Krylov solver - can deal with large non-linear problems\n",
    "\n",
    "    ss_k = solution.x[0]\n",
    "    ss_h = solution.x[1]\n",
    "\n",
    "    return ss_k, ss_h, nit\n",
    "\n",
    "# save valyes of ss_k, ss_h and nit (number of iterations)\n",
    "ss_k, ss_h, nit = steady_state(sK, sH, delta, g, n, alpha, varphi)\n"
   ]
  },
  {
   "cell_type": "code",
   "execution_count": null,
   "metadata": {},
   "outputs": [],
   "source": [
    "#residuals = []\n",
    "#xk = [1, 1]\n",
    "#for i in range(10):\n",
    "    #sol = optimize.root(objective, xk, method='krylov')\n",
    "    #xk = sol.x\n",
    "    #residuals.append(abs(sol.fun).max())\n",
    "\n",
    "# plot residuals\n",
    "#plt.plot(residuals)\n",
    "#plt.yscale('log')\n",
    "#plt.xlabel('Iteration')\n",
    "#plt.ylabel('Max Residual')\n",
    "#plt.xlim(0, 2)\n",
    "#plt.title('Convergence of Newton-Krylov Method')\n",
    "#plt.show()"
   ]
  },
  {
   "attachments": {},
   "cell_type": "markdown",
   "metadata": {},
   "source": [
    "Now we have the steady state values of physical and human capital. We can now compute the steady state value of GDP per effective worker:\n",
    "$$\n",
    "\\tilde{y}^{*} = (\\tilde{k}^{*})^{\\alpha}(\\tilde{h}^{*})^{\\varphi}\n",
    "$$"
   ]
  },
  {
   "cell_type": "code",
   "execution_count": null,
   "metadata": {},
   "outputs": [],
   "source": [
    "def y_steady_state(ss_k, ss_h, alpha, varphi):\n",
    "    \"\"\" calculate GDP per effective worker in steady state\n",
    "\n",
    "    Args:\n",
    "        ss_k (float): steady state value of physical capital per effective worker\n",
    "        ss_h (float): steady state value of human capital per effective worker\n",
    "        alpha (float): return of physical capital\n",
    "        varphi (float): return of human capital\n",
    "\n",
    "    Returns:\n",
    "        ss_y (float): steady state value of GDP per effective worker\n",
    "\n",
    "    \"\"\"\n",
    "    # define steady state value for y\n",
    "    ss_y = ss_k**alpha*ss_h**varphi\n",
    "\n",
    "    return ss_y\n",
    "\n",
    "# save value of ss_y\n",
    "ss_y = y_steady_state(ss_k, ss_h, alpha, varphi)\n"
   ]
  },
  {
   "attachments": {},
   "cell_type": "markdown",
   "metadata": {},
   "source": [
    "The numerical solutions for the Solow model with human capital with the parameters defined above is then:"
   ]
  },
  {
   "cell_type": "code",
   "execution_count": null,
   "metadata": {},
   "outputs": [],
   "source": [
    "print(f'Numerical solution for k* = {ss_k:.3f}')\n",
    "print(f'Numerical solution for h* = {ss_h:.3f}')\n",
    "print(f'Numerical solution for y* = {ss_y:.3f}')"
   ]
  },
  {
   "attachments": {},
   "cell_type": "markdown",
   "metadata": {},
   "source": [
    "# **Further analysis**"
   ]
  },
  {
   "cell_type": "markdown",
   "metadata": {},
   "source": [
    "Make detailed vizualizations of how your model changes with parameter values. \n",
    "\n",
    "Try to make an extension of the model. "
   ]
  },
  {
   "cell_type": "code",
   "execution_count": null,
   "metadata": {},
   "outputs": [],
   "source": [
    "def null_clines():\n",
    "    # defining all variables\n",
    "    ktilde = sm.symbols('ktilde')\n",
    "    htilde = sm.symbols('htilde')\n",
    "    sK = sm.symbols('s_K')\n",
    "    sH = sm.symbols('s_H')\n",
    "    delta = sm.symbols('delta')\n",
    "    g = sm.symbols('g')\n",
    "    n = sm.symbols('n')\n",
    "    alpha = sm.symbols('alpha')\n",
    "    varphi = sm.symbols('varphi')\n",
    "    # define solow equation and set them equal to 0\n",
    "    dktilde = sm.Eq(0, (1/((1+n)*(1+g)))*(sK*ktilde**alpha * htilde**varphi-(n+g+delta+n*g)*ktilde))\n",
    "    dhtilde = sm.Eq(0, (1/((1+n)*(1+g)))*(sH*ktilde**alpha * htilde**varphi-(n+g+delta+n*g)*htilde))\n",
    "    # solve for htilde (=nullclines)\n",
    "    null_dktilde = sm.solve(dktilde, htilde)\n",
    "    null_dhtilde = sm.solve(dhtilde, htilde)\n",
    "    # check nullclines\n",
    "    null_dktilde = null_dktilde # only one solution to null\n",
    "    null_dhtilde = null_dhtilde\n",
    "\n",
    "    return null_dktilde, null_dhtilde\n",
    "\n",
    "# print nullclines\n",
    "print(f'htilde = {null_clines()[0]}, d_ktilde = 0')\n",
    "print(f'htilde = {null_clines()[1]}, d_htilde = 0')\n"
   ]
  },
  {
   "attachments": {},
   "cell_type": "markdown",
   "metadata": {},
   "source": [
    "Define nullclines as functions:"
   ]
  },
  {
   "cell_type": "code",
   "execution_count": null,
   "metadata": {},
   "outputs": [],
   "source": [
    "def null_k(ktilde, alpha, varphi, delta, g, n, sK):\n",
    "    return (ktilde**(1 - alpha)*(delta + g*n + g + n)/sK)**(1/varphi)\n",
    "\n",
    "def null_h(ktilde, alpha, varphi, delta, g, n, sH):\n",
    "    return ((delta + g*n + g + n)/(ktilde**alpha*sH))**(1/(varphi - 1))"
   ]
  },
  {
   "cell_type": "code",
   "execution_count": null,
   "metadata": {},
   "outputs": [],
   "source": [
    "# create figure\n",
    "fig = plt.figure()\n",
    "# create plot\n",
    "ax = fig.add_subplot(1, 1, 1)\n",
    "# create grid\n",
    "k_range = np.linspace(0, 3, 100)\n",
    "h_range = np.linspace(0, 3, 100)\n",
    "k_grid, h_grid = np.meshgrid(k_range, h_range)\n",
    "\n",
    "# define range for ktilde\n",
    "ktilde = np.linspace(0, 3, 100)\n",
    "\n",
    "# plot null_k and null_h\n",
    "ax.plot(ktilde, null_k(ktilde, alpha, varphi, delta, g, n, sK), color='black')\n",
    "ax.plot(ktilde, null_h(ktilde, alpha, varphi, delta, g, n, sH), color='black')\n",
    "# alterations to figure\n",
    "plt.xlim(0, 2.5)\n",
    "plt.ylim(0, 2.5)\n",
    "ax.set_xlabel(r'$\\tilde{k}_{t}$')\n",
    "ax.set_ylabel(r'$\\tilde{h}_{t}$', rotation=0)\n",
    "ax.set_title(\"Phase diagram for the Solow model with human capital\")\n",
    "plt.text(2.0, 2.35, r'[$\\Delta \\tilde{k}_{t}=0$]')\n",
    "plt.text(2.15, 1.75, r'[$\\Delta \\tilde{h}_{t}=0$]')\n",
    "# insert steady state\n",
    "plt.scatter(ss_k, ss_h, color='black')\n",
    "# set x tick\n",
    "xtick_loc = [ss_k]\n",
    "labels = [item.get_text() for item in ax.get_xticklabels()]\n",
    "labels[0] = r'$\\tilde{k}^{*}$'\n",
    "ax.set_xticklabels(labels)\n",
    "# set y tick\n",
    "ytick_loc = [ss_h]\n",
    "labels = [item.get_text() for item in ax.get_yticklabels()]\n",
    "labels[0] = r'$\\tilde{h}^{*}$'\n",
    "ax.set_yticklabels(labels)\n",
    "# remove ticks\n",
    "ax.set_xticks(xtick_loc)\n",
    "ax.set_yticks(ytick_loc)\n",
    "# insert dotted lines from axes to steady state\n",
    "plt.axvline(ss_k, ymax=ss_h/2.5, linestyle='dotted', color='black')\n",
    "plt.axhline(ss_h, xmax=ss_k/2.5, linestyle='dotted', color='black')"
   ]
  },
  {
   "attachments": {},
   "cell_type": "markdown",
   "metadata": {},
   "source": [
    "### **Increase in $\\bold{s_H}$**"
   ]
  },
  {
   "attachments": {},
   "cell_type": "markdown",
   "metadata": {},
   "source": [
    "To analyse the change in the phase diagram, we increase the savings rate in human capital with 10% (corresponding to an increase in $s_H$ with 0.01 percentage points).\n",
    "\n",
    "First, we find out what this means for our steady state variables:"
   ]
  },
  {
   "cell_type": "code",
   "execution_count": null,
   "metadata": {},
   "outputs": [],
   "source": [
    "# define new steady state\n",
    "ss_k2, ss_h2, nit2 = steady_state(sK, 0.11, delta, g, n, alpha, varphi)"
   ]
  },
  {
   "cell_type": "code",
   "execution_count": null,
   "metadata": {},
   "outputs": [],
   "source": [
    "# create figure\n",
    "fig = plt.figure()\n",
    "# create plot\n",
    "ax = fig.add_subplot(1, 1, 1)\n",
    "# create grid\n",
    "k_range = np.linspace(0, 3, 100)\n",
    "h_range = np.linspace(0, 3, 100)\n",
    "k_grid, h_grid = np.meshgrid(k_range, h_range)\n",
    "\n",
    "# define range for ktilde\n",
    "ktilde = np.linspace(0, 3, 100)\n",
    "\n",
    "# plot null_k and null_h\n",
    "ax.plot(ktilde, null_k(ktilde, alpha, varphi, delta, g, n, sK), color='black')\n",
    "ax.plot(ktilde, null_h(ktilde, alpha, varphi, delta, g, n, sH), color='black')\n",
    "ax.plot(ktilde, null_h(ktilde, alpha, varphi, delta, g, n, 0.11), color='red') # increase in sH\n",
    "# alterations to figure\n",
    "plt.xlim(0, 2.5)\n",
    "plt.ylim(0, 2.5)\n",
    "ax.set_xlabel(r'$\\tilde{k}_{t}$')\n",
    "ax.set_ylabel(r'$\\tilde{h}_{t}$', rotation=0)\n",
    "ax.set_title(\"Phase diagram for the Solow model with human capital\")\n",
    "plt.text(2.0, 2.35, r'[$\\Delta \\tilde{k}_{t}=0$]')\n",
    "plt.text(2.15, 1.75, r'[$\\Delta \\tilde{h}_{t}=0$]')\n",
    "# insert steady state\n",
    "plt.scatter(ss_k, ss_h, color='black') # old steady state\n",
    "plt.scatter(ss_k2, ss_h2, color='red') # add new steady state\n",
    "# set x tick\n",
    "xtick_loc = [ss_k,ss_k2]\n",
    "labels = [item.get_text() for item in ax.get_xticklabels()]\n",
    "labels[0] = r'$\\tilde{k}_{old}^{*}$' # old steady state value for ktilde\n",
    "labels[1] = r'$\\tilde{k}_{new}^{*}$' # new steady state value for ktilde\n",
    "ax.set_xticklabels(labels)\n",
    "# set y tick\n",
    "ytick_loc = [ss_h,ss_h2]\n",
    "labels = [item.get_text() for item in ax.get_yticklabels()]\n",
    "labels[0] = r'$\\tilde{h}_{old}^{*}$' # old steady state value for htilde\n",
    "labels[1] = r'$\\tilde{h}_{new}^{*}$' # new steady state value for htilde\n",
    "ax.set_yticklabels(labels)\n",
    "# remove ticks\n",
    "ax.set_xticks(xtick_loc)\n",
    "ax.set_yticks(ytick_loc)\n",
    "# insert dotted lines from axes to steady state\n",
    "plt.axvline(ss_k, ymax=ss_h/2.5, linestyle='dotted', color='black') # old steady state\n",
    "plt.axhline(ss_h, xmax=ss_k/2.5, linestyle='dotted', color='black') # old steady state\n",
    "plt.axvline(ss_k2, ymax=ss_h2/2.5, linestyle='dotted', color='red') # new steady state\n",
    "plt.axhline(ss_h2, xmax=ss_k2/2.5, linestyle='dotted', color='red') # new steady state"
   ]
  },
  {
   "attachments": {},
   "cell_type": "markdown",
   "metadata": {},
   "source": [
    "**Intution for increase in $\\bold{s_H}$:**\n",
    "1. The initial shock to $s_H$ increases the savings in human capital"
   ]
  },
  {
   "attachments": {},
   "cell_type": "markdown",
   "metadata": {},
   "source": [
    "### **Extension of the model**"
   ]
  },
  {
   "attachments": {},
   "cell_type": "markdown",
   "metadata": {},
   "source": [
    "We extend the model by using a more general CES function as the production function instead of a Cobb-Douglas function which is a special case of the CES function. The production function is now defined as:\n",
    "$$\n",
    "Y_t = \\Bigr[\\alpha K_{t}^{\\frac{\\sigma-1}{\\sigma}}+\\varphi H_{t}^{\\frac{\\sigma-1}{\\sigma}}+(1-\\alpha-\\varphi)(AL_t)^{\\frac{\\sigma-1}{\\sigma}}\\Bigl]^{\\frac{\\sigma}{\\sigma-1}}\n",
    "$$\n",
    "where $\\sigma$ is the elasticity of substitution the two factors of physical capital and human capital.\n",
    "\n",
    "Following the same procedures as above, the steady state expressions for $\\hat{k}^{*}$ and $\\hat{h}^{*}$ becomes:\n",
    "\n",
    "$$\n",
    "\\hat{k}^{*} = \\Biggl[\\frac{1-\\alpha-\\varphi}{(\\frac{n+g+\\delta}{s_K})^{\\frac{\\sigma-1}{\\sigma}}-\\varphi(\\frac{s_H}{s_K})^{\\frac{\\sigma-1}{\\sigma}}-\\alpha}\\Biggr]^{\\frac{\\sigma}{\\sigma-1}}\n",
    "$$\n",
    "and\n",
    "$$\n",
    "\\hat{h}^{*} = \\Biggl[\\frac{1-\\alpha-\\varphi}{(\\frac{n+g+\\delta}{s_H})^{\\frac{\\sigma-1}{\\sigma}}-\\alpha(\\frac{s_K}{s_H})^{\\frac{\\sigma-1}{\\sigma}}-\\varphi}\\Biggr]^{\\frac{\\sigma}{\\sigma-1}}\n",
    "$$\n",
    "\n",
    "We solve this"
   ]
  },
  {
   "cell_type": "markdown",
   "metadata": {},
   "source": [
    "# Conclusion"
   ]
  },
  {
   "cell_type": "markdown",
   "metadata": {},
   "source": [
    "Add concise conclusion. "
   ]
  }
 ],
 "metadata": {
  "kernelspec": {
   "display_name": "base",
   "language": "python",
   "name": "python3"
  },
  "language_info": {
   "codemirror_mode": {
    "name": "ipython",
    "version": 3
   },
   "file_extension": ".py",
   "mimetype": "text/x-python",
   "name": "python",
   "nbconvert_exporter": "python",
   "pygments_lexer": "ipython3",
   "version": "3.9.16"
  },
  "toc-autonumbering": true,
  "vscode": {
   "interpreter": {
    "hash": "dcf1a8682162ea4489d11bfd2867122677541aeac7e7f0427c1bfeb51d7ed9c5"
   }
  }
 },
 "nbformat": 4,
 "nbformat_minor": 4
}
