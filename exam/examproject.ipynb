{
 "cells": [
  {
   "attachments": {},
   "cell_type": "markdown",
   "metadata": {},
   "source": [
    "**Table of contents**<a id='toc0_'></a>    \n",
    "- 1. [Problem 1: Optimal taxation with government consumption](#toc1_)    \n",
    "- 2. [Problem 2: Labor adjustment costs](#toc2_)    \n",
    "- 3. [Problem 3: Global optimizer with refined multi-start](#toc3_)    \n",
    "\n",
    "<!-- vscode-jupyter-toc-config\n",
    "\tnumbering=true\n",
    "\tanchor=true\n",
    "\tflat=false\n",
    "\tminLevel=2\n",
    "\tmaxLevel=6\n",
    "\t/vscode-jupyter-toc-config -->\n",
    "<!-- THIS CELL WILL BE REPLACED ON TOC UPDATE. DO NOT WRITE YOUR TEXT IN THIS CELL -->"
   ]
  },
  {
   "cell_type": "code",
   "execution_count": null,
   "metadata": {},
   "outputs": [],
   "source": [
    "# import\n",
    "import numpy as np\n",
    "from scipy import optimize\n",
    "from scipy.optimize import minimize_scalar\n",
    "import sympy as sm\n",
    "from sympy import simplify\n",
    "from sympy.solvers import solve\n",
    "from sympy import *\n",
    "sm.init_printing()\n",
    "import matplotlib.pyplot as plt\n",
    "from IPython.display import display, Math, Markdown\n",
    "from types import SimpleNamespace\n",
    "\n",
    "# autoreload modules when code is run\n",
    "%load_ext autoreload\n",
    "%autoreload 2"
   ]
  },
  {
   "attachments": {},
   "cell_type": "markdown",
   "metadata": {},
   "source": [
    "## 1. <a id='toc1_'></a>[Problem 1: Optimal taxation with government consumption](#toc0_)"
   ]
  },
  {
   "attachments": {},
   "cell_type": "markdown",
   "metadata": {},
   "source": [
    "\n",
    "Consider a worker choosing hours of labor, $L\\in[0,24]$, to maximize utility: \n",
    "\n",
    "$$\n",
    "\\begin{align*}\n",
    "V(w,\\tau,G)&=\\max_{L\\in[0,24]}\\ln\\left(C^{\\alpha}G^{1-\\alpha}\\right)-\\nu\\frac{L^{2}}{2}\\\\&\\text{s.t.}\\\\&C=\\kappa+(1-\\tau)wL\n",
    "\\end{align*}\n",
    "$$\n",
    "\n",
    "where \n",
    "\n",
    "* $C$ is *private* consumption with weight $\\alpha\\in(0,1)$.\n",
    "* $\\kappa > 0$ is the *free private* consumption component.\n",
    "* $C = (1-\\tau)wL$ is the *costly private* consumption component.\n",
    "* $w > 0 $ is the real wage.\n",
    "* $\\tau \\in (0,1)$ is the labor-income tax rate.\n",
    "* $G > 0 $ is *government* consumption with weight $1-\\alpha$.\n",
    "* $\\nu > 0$ is the disutility of labor scaling factor"
   ]
  },
  {
   "attachments": {},
   "cell_type": "markdown",
   "metadata": {},
   "source": [
    "\n",
    "The baseline parameters are:\n",
    "\n",
    "$$\n",
    "\\begin{align*}\n",
    "\\alpha &= 0.5\\\\\n",
    "\\kappa &= 1.0\\\\\n",
    "\\nu &= \\frac{1}{2\\cdot16^2} \\\\\n",
    "w &= 1.0 \\\\ \n",
    "\\tau &= 0.30 \\\\\n",
    "\\end{align*}\n",
    "$$"
   ]
  },
  {
   "cell_type": "code",
   "execution_count": null,
   "metadata": {},
   "outputs": [],
   "source": [
    "# defining all variables in sympy\n",
    "C = sm.symbols('C')\n",
    "G = sm.symbols('G')\n",
    "alpha = sm.symbols('alpha')\n",
    "nu = sm.symbols('nu')\n",
    "L = sm.symbols('L')\n",
    "kappa = sm.symbols('kappa')\n",
    "tau = sm.symbols('tau')\n",
    "w = sm.symbols('w')\n",
    "wtilde = sm.symbols('wtilde')\n",
    "sigma = sm.symbols('sigma')\n",
    "rho = sm.symbols('rho')\n",
    "epsilon = sm.symbols('epsilon')"
   ]
  },
  {
   "attachments": {},
   "cell_type": "markdown",
   "metadata": {},
   "source": [
    "**Question 1:** Verify that the optimal labor supply choice is $L^{\\star}(\\tilde{w}) =\\frac{-\\kappa+\\sqrt{\\kappa^{2}+4\\frac{\\alpha}{\\nu}\\tilde{w}^2}}{2\\tilde{w}}$, where $\\tilde{w} = (1-\\tau)w$, for $G\\in\\left\\{1.0 , 2.0\\right\\}$."
   ]
  },
  {
   "attachments": {},
   "cell_type": "markdown",
   "metadata": {},
   "source": [
    "We use sympy to solve the workers utility maximization problem."
   ]
  },
  {
   "cell_type": "code",
   "execution_count": null,
   "metadata": {},
   "outputs": [],
   "source": [
    "# define objective function\n",
    "objective = sm.ln(C**alpha*G**(1-alpha))-nu*(L**2/2)\n",
    "objective"
   ]
  },
  {
   "cell_type": "code",
   "execution_count": null,
   "metadata": {},
   "outputs": [],
   "source": [
    "# substitute constraint into objective function\n",
    "objective_subs = objective.subs(C, kappa+(1-tau)*w*L)\n",
    "objective_subs"
   ]
  },
  {
   "cell_type": "code",
   "execution_count": null,
   "metadata": {},
   "outputs": [],
   "source": [
    "# compute foc\n",
    "foc = sm.diff(objective_subs, L)\n",
    "# substitute wtilde into expression\n",
    "foc_subs = foc.subs((1-tau)*w, wtilde)\n",
    "foc_subs"
   ]
  },
  {
   "cell_type": "code",
   "execution_count": null,
   "metadata": {},
   "outputs": [],
   "source": [
    "# solve foc\n",
    "sol = sm.solve(sm.Eq(foc_subs,0),L)\n",
    "sol"
   ]
  },
  {
   "attachments": {},
   "cell_type": "markdown",
   "metadata": {},
   "source": [
    "When multiplying through by $\\frac{1}{\\nu}$ in sol[1], we will get the expression $L^{\\star}(\\tilde{w}) =\\frac{-\\kappa+\\sqrt{\\kappa^{2}+4\\frac{\\alpha}{\\nu}\\tilde{w}^2}}{2\\tilde{w}}$.\n",
    "We have tried to use the sympy simplify, but cannot obtain the exact expression as provided in the question. Instead we vell evaluate the two expressions at the provided baseline parameters and show that they give the same answer."
   ]
  },
  {
   "cell_type": "code",
   "execution_count": null,
   "metadata": {},
   "outputs": [],
   "source": [
    "# define baseline parameters\n",
    "alpha = 0.5\n",
    "kappa = 1.0\n",
    "nu = 1/(2*16**2)\n",
    "w = 1.0\n",
    "tau = 0.3"
   ]
  },
  {
   "cell_type": "code",
   "execution_count": null,
   "metadata": {},
   "outputs": [],
   "source": [
    "# define sympy solution\n",
    "def L_star_sol(kappa, alpha, nu, tau, w):\n",
    "    return (-kappa*nu+sqrt(nu*(kappa**2*nu+4*(alpha)*((1-tau)*w)**2)))/(2*nu*(1-tau)*w)\n",
    "\n",
    "# define optimal labor supply function provided in assignment\n",
    "def L_star(kappa, alpha, nu, tau, w):\n",
    "    return (-kappa+sqrt(kappa**2+4*(alpha/nu)*((1-tau)*w)**2))/(2*(1-tau)*w)\n",
    "\n",
    "print(f'L_star_sol = {L_star_sol(kappa, alpha, nu, tau, w):.4f} and L_star = {L_star(kappa, alpha, nu, tau, w):.4f}')"
   ]
  },
  {
   "attachments": {},
   "cell_type": "markdown",
   "metadata": {},
   "source": [
    "We see that the two results are identical why we find it reasonable to verify that the optimal labor supply choice is as stated in the description."
   ]
  },
  {
   "attachments": {},
   "cell_type": "markdown",
   "metadata": {},
   "source": [
    "**Question 2:** Illustrate how $L^{\\star}(\\tilde{w})$ depends on $w$."
   ]
  },
  {
   "attachments": {},
   "cell_type": "markdown",
   "metadata": {},
   "source": [
    "To show this we will create a vector of different values of w, and then plot the optimal values of labor for these different values of w"
   ]
  },
  {
   "cell_type": "code",
   "execution_count": null,
   "metadata": {},
   "outputs": [],
   "source": [
    "# define vector of different values of w\n",
    "w_vec = np.linspace(0.1,10,100)\n",
    "# create vector of function values to plot\n",
    "L_plot = np.zeros(len(w_vec))\n",
    "# loop over different values of w\n",
    "for i, wage in enumerate(w_vec):\n",
    "    L_plot[i] = L_star(kappa, alpha, nu, tau, wage)"
   ]
  },
  {
   "cell_type": "code",
   "execution_count": null,
   "metadata": {},
   "outputs": [],
   "source": [
    "# create figure\n",
    "fig = plt.figure()\n",
    "# create plot\n",
    "ax = fig.add_subplot(1, 1, 1)\n",
    "ax.plot(w_vec, L_plot, color='black')\n",
    "# alterations to figure\n",
    "ax.grid()\n",
    "ax.set_xlabel(\"$w$\")\n",
    "ax.set_ylabel(r'$L^*(\\tilde{w})$')\n",
    "ax.set_title(r'Figure 1: Plot of $L^*(\\tilde{w})$ for different values of $w$')\n",
    "plt.show()"
   ]
  },
  {
   "attachments": {},
   "cell_type": "markdown",
   "metadata": {},
   "source": [
    "For values of w > 0 in the interval $w \\in [0.1 , 10] $, we see that the optimal labor supply converges towards $\\sim$ 16 hours."
   ]
  },
  {
   "attachments": {},
   "cell_type": "markdown",
   "metadata": {},
   "source": [
    "\n",
    "We now consider a government, who chooses $\\tau$ and spend all of the taxes on government consumption so:\n",
    "\n",
    "$$\n",
    "G = \\tau w L^{\\star}((1-\\tau)w)\n",
    "$$\n",
    "\n",
    "**Question 3:** Plot the implied $L$, $G$ and worker utility for a grid of $\\tau$-values.\n"
   ]
  },
  {
   "attachments": {},
   "cell_type": "markdown",
   "metadata": {},
   "source": [
    "Note: We were a bit confused about the notation, but we find it reasonable to assume that the government tax revenue is equal to the tax rate * wage * hours worked (implying that $L^*((1-\\tau)w)$ means that L is a function of $(1-\\tau)w = \\tilde{w}$) and not tax rate * wage * L * (1-tau)*w."
   ]
  },
  {
   "cell_type": "code",
   "execution_count": null,
   "metadata": {},
   "outputs": [],
   "source": [
    "# define vector of different values of tau\n",
    "tau_vec = np.linspace(0.0,1.0,100)\n",
    "\n",
    "# create vector of function values to plot\n",
    "L_impl = np.zeros(len(tau_vec))\n",
    "# loop over different values of tau\n",
    "for i, t in enumerate(tau_vec):\n",
    "    L_impl[i] = L_star(kappa, alpha, nu, t, w)\n",
    "\n",
    "# define G as a function of tau, w and L_star\n",
    "G_func = lambda tau, w, L: tau*w*L\n",
    "# create vector of function values to plot\n",
    "G_impl = np.zeros(len(tau_vec))\n",
    "# loop over different values of tau\n",
    "for i, t in enumerate(tau_vec):\n",
    "    G_impl[i] = G_func(t, w, L_impl[i])\n",
    "\n",
    "# define consumption function\n",
    "C_func = lambda kappa, tau, w, L: kappa+(1-tau)*w*L\n",
    "# define worker utility\n",
    "V_func = lambda C, G, alpha, nu, L: np.log(C**alpha*G**(1-alpha))-nu*(L**2/2)\n",
    "# create vector of function values to plot\n",
    "V_impl = np.zeros(len(tau_vec))\n",
    "# loop over different values of tau\n",
    "for i, t in enumerate(tau_vec):\n",
    "    V_impl[i] = V_func(C_func(kappa, t, w, L_impl[i]), G_impl[i], alpha, nu, L_impl[i])\n"
   ]
  },
  {
   "cell_type": "code",
   "execution_count": null,
   "metadata": {},
   "outputs": [],
   "source": [
    "# create figure\n",
    "fig = plt.figure(figsize=(10, 4))\n",
    "\n",
    "# create plots\n",
    "ax1 = fig.add_subplot(1, 3, 1)\n",
    "ax1.plot(tau_vec, L_impl, color='black')\n",
    "ax1.set_ylabel('L')\n",
    "ax1.set_xlabel(r'$\\tau$')\n",
    "ax1.grid()\n",
    "ax1.set_title('implied value of L')\n",
    "\n",
    "ax2 = fig.add_subplot(1, 3, 2)\n",
    "ax2.plot(tau_vec, G_impl, color='black')\n",
    "ax2.set_ylabel('G')\n",
    "ax2.set_xlabel(r'$\\tau$')\n",
    "ax2.grid()\n",
    "ax2.set_title('implied value of G')\n",
    "\n",
    "ax3 = fig.add_subplot(1, 3, 3)\n",
    "ax3.plot(tau_vec, V_impl, color='black')\n",
    "ax3.set_ylabel('worker utility')\n",
    "ax3.set_xlabel(r'$\\tau$')\n",
    "ax3.grid()\n",
    "ax3.set_title('implied value of worker utility')\n",
    "\n",
    "plt.tight_layout()"
   ]
  },
  {
   "attachments": {},
   "cell_type": "markdown",
   "metadata": {},
   "source": [
    "We see that labor supply, $L$ is negativly corralated with $\\tau$, meaning that people will work less for an inceasing tax rate. \n",
    "\n",
    "The goverment income, $G$ is positivly corralated with $\\tau$ until the revenue maximizing point. We get association to the Laffer curve. The shape where the revenu maximizing point is to lef right of the middle is inline with countries like USA (see: https://www.economist.com/graphic-detail/2019/06/18/can-countries-lower-taxes-and-raise-revenues)\n",
    "\n",
    "The worker utility is increasing until the optimal level of $\\tau^*$ where after the worker utility is decreasing.\n"
   ]
  },
  {
   "attachments": {},
   "cell_type": "markdown",
   "metadata": {},
   "source": [
    "**Question 4:** Find the socially optimal tax rate $\\tau^{\\star}\\in(0,1)$ maximizing worker utility. Illustrate your result."
   ]
  },
  {
   "attachments": {},
   "cell_type": "markdown",
   "metadata": {},
   "source": [
    "In order to solve the maximization problem, we insert the definitions of $C, G, L^*$ into the worker's utility maximization problem. We then solve for the optimal value of $\\tau$."
   ]
  },
  {
   "cell_type": "code",
   "execution_count": null,
   "metadata": {},
   "outputs": [],
   "source": [
    "# implementation of optimization in q1\n",
    "import q1\n",
    "# call function finding optimal tau\n",
    "optimal_tau, max_utility = q1.optimal_tau()\n",
    "print(f'Optimal tau = {optimal_tau:.4f}')\n",
    "print(f'Max utility = {max_utility:.4f}')"
   ]
  },
  {
   "cell_type": "code",
   "execution_count": null,
   "metadata": {},
   "outputs": [],
   "source": [
    "# create figure\n",
    "fig = plt.figure()\n",
    "ax = fig.add_subplot(1, 1, 1)\n",
    "# plot utility as function of tau\n",
    "ax.plot(tau_vec, V_impl, color='black')\n",
    "# plot optimal tau\n",
    "plt.scatter(optimal_tau, max_utility, color='red', label=(r'optimal $\\tau$'))\n",
    "# alterations to figure\n",
    "ax.set_ylabel('worker utility')\n",
    "ax.set_xlabel(r'$\\tau$')\n",
    "ax.grid()\n",
    "ax.set_title(r'value of $\\tau$ maximizing worker utility')\n",
    "ax.legend()"
   ]
  },
  {
   "attachments": {},
   "cell_type": "markdown",
   "metadata": {},
   "source": [
    "The optimal tax rate $\\tau^*=0.5145$ yielding the maximum worker utility is $1.86$. This is also show graphicly above. Where the red dot illustrates the optimal tax rate. "
   ]
  },
  {
   "attachments": {},
   "cell_type": "markdown",
   "metadata": {},
   "source": [
    "A more general preference formulation for the worker is:\n",
    "\n",
    "$$\n",
    "\\begin{align*}\n",
    "\\mathcal{V}(w,\\tau,G)&=\\max_{L\\in[0,24]}\\frac{\\left[ \\left( \\alpha C^{\\frac{\\sigma-1}{\\sigma}}+(1-\\alpha) G^{\\frac{\\sigma-1}{\\sigma}} \\right)^{\\frac{\\sigma}{\\sigma-1} }\\right]^{1-\\rho}-1}{1-\\rho}- \\nu\\frac{L^{1+\\varepsilon}}{1+\\varepsilon},\\,\\,\\,\\varepsilon,\\rho,\\sigma>0,\\,\\,\\,\\rho,\\sigma\\neq1\\\\&\\text{s.t.}\\\\&C=\\kappa+(1-\\tau)wL\n",
    "\\end{align*}    \n",
    "$$\n",
    "\n",
    "Optimal labor supply is now $L^{\\star}(\\tilde{w},G)$."
   ]
  },
  {
   "attachments": {},
   "cell_type": "markdown",
   "metadata": {},
   "source": [
    "Questions 5 and 6 must be answered with the general formulation, and for 2 different set of parameters:\n",
    "\n",
    "- Set 1:  $\\sigma = 1.001$, $\\rho = 1.001$ and $\\varepsilon = 1.0$.\n",
    "- Set 2:  $\\sigma = 1.5$, $\\rho = 1.5$ and $\\varepsilon = 1.0 $."
   ]
  },
  {
   "attachments": {},
   "cell_type": "markdown",
   "metadata": {},
   "source": [
    "**Question 5:** Find the $G$ that solves $G = \\tau w L^{\\star}((1-\\tau)w,G)$ using the $\\tau$ found in question 4.\n",
    "\n",
    "*Hint: First write code that solves the worker problem for given values of $G$ and $\\tau$. Then find the correct G based on this.*"
   ]
  },
  {
   "attachments": {},
   "cell_type": "markdown",
   "metadata": {},
   "source": [
    "Normally, we would have approached this problem by solving the worker utility maximization problem by obtaining an expression for L*(G). Then inserting this expression into $G = \\tau w L^{\\star}((1-\\tau)w,G)$, solving for G* and then inserting this G* into L*(G*) to obtain the optimal labor supply. However, we did not manage to write a code that was able to do this (also see q1_alt - further description below). Sympy was not able to manually derive an expression for L(G) either, why we provide you with the code below."
   ]
  },
  {
   "cell_type": "code",
   "execution_count": null,
   "metadata": {},
   "outputs": [],
   "source": [
    "# define parameters\n",
    "sigma = 1.5\n",
    "rho = 1.5\n",
    "epsilon = 1.0"
   ]
  },
  {
   "cell_type": "code",
   "execution_count": null,
   "metadata": {},
   "outputs": [],
   "source": [
    "# call find_G from q1\n",
    "G_opt = q1.find_G(optimal_tau, w)\n",
    "print(\"G_opt = \", G_opt)"
   ]
  },
  {
   "attachments": {},
   "cell_type": "markdown",
   "metadata": {},
   "source": [
    "The optimal G for the parameters is G_opt = 6.87."
   ]
  },
  {
   "attachments": {},
   "cell_type": "markdown",
   "metadata": {},
   "source": [
    "We have tried to solve this in another way, as can be seen in q1_alt, but when trying to minimize the negative utility function, we get an optimal value of G of 0.0, but when minimizing the utility function, we get an optimal G value of 12.348 which seems more plausible for maximizing utility."
   ]
  },
  {
   "attachments": {},
   "cell_type": "markdown",
   "metadata": {},
   "source": [
    "**Question 6:** Find the socially optimal tax rate, $\\tau^{\\star}$, maximizing worker utility, while keeping $G = \\tau w L^{\\star}((1-\\tau)w,G)$."
   ]
  },
  {
   "cell_type": "code",
   "execution_count": null,
   "metadata": {},
   "outputs": [],
   "source": [
    "# write your code here  \n",
    "# call function finding optimal CES_tau\n",
    "CES_optimal_tau, CES_max_utility = q1.CES_optimal_tau()\n",
    "print(f'Optimal tau = {CES_optimal_tau:.4f}')\n",
    "print(f'Max utility = {CES_max_utility:.4f}')"
   ]
  },
  {
   "attachments": {},
   "cell_type": "markdown",
   "metadata": {},
   "source": [
    "The socially optimal tax rate is $\\tau^{*}=0.5375$"
   ]
  },
  {
   "attachments": {},
   "cell_type": "markdown",
   "metadata": {},
   "source": [
    "## 2. <a id='toc2_'></a>[Problem 2: Labor adjustment costs](#toc0_)"
   ]
  },
  {
   "attachments": {},
   "cell_type": "markdown",
   "metadata": {},
   "source": [
    "You own a hair salon. You employ hairdressers, $\\ell_t$, to produce haircuts, $y_t = \\ell_t$.\n",
    "\n",
    "The wage for each haridresser is $w$.\n",
    "\n",
    "The demand for haircuts implies that the price of haircuts you can charge is $p_t = \\kappa_t y_t^{-\\eta}$, where $\\kappa_t$ is a demand-shock and $\\eta \\in (0,1)$ measures the elasticity of demand.\n",
    "\n",
    "Profits are:\n",
    "\n",
    "$$\n",
    "\\Pi_t = p_t y_t - w \\ell_t = \\kappa_t \\ell_t^{1-\\eta} - w \\ell_t\n",
    "$$"
   ]
  },
  {
   "attachments": {},
   "cell_type": "markdown",
   "metadata": {},
   "source": [
    "Baseline parameters are:\n",
    "- $\\eta = 0.5$\n",
    "- $w = 1.0$"
   ]
  },
  {
   "attachments": {},
   "cell_type": "markdown",
   "metadata": {},
   "source": [
    "**Question 1:** Verify numerically that $\\ell_{t}=\\left(\\frac{(1-\\eta)\\kappa_{t}}{w}\\right)^{\\frac{1}{\\eta}}$ maximises profits, for $\\kappa\\in\\left\\{1.0 , 2.0\\right\\}$."
   ]
  },
  {
   "attachments": {},
   "cell_type": "markdown",
   "metadata": {},
   "source": [
    "We solve the maximization problem numerically to find the optimal expression for labor"
   ]
  },
  {
   "cell_type": "code",
   "execution_count": null,
   "metadata": {},
   "outputs": [],
   "source": [
    "# import profit maximization from q2\n",
    "import q2\n",
    "# numerical solution for kappa = 1.0\n",
    "num1 = q2.max_profits(1.0, 0.5, 1.0)[0]\n",
    "# numerical solution for kappa = 2.0\n",
    "num2 = q2.max_profits(2.0, 0.5, 1.0)[0]\n",
    "# analytical solution for kappa = 1.0\n",
    "ana1 = ((1-0.5)*1.0/1.0)**(1/0.5)\n",
    "# analytical solution for kappa = 2.0\n",
    "ana2 = ((1-0.5)*2.0/1.0)**(1/0.5)\n",
    "\n",
    "# check\n",
    "print(f'num1 - ana1 = {num1-ana1:.5f} and num2 - ana2 = {num2-ana2:.5f}')"
   ]
  },
  {
   "attachments": {},
   "cell_type": "markdown",
   "metadata": {},
   "source": [
    "Since the numerical and analytical values are identical, we have verified that the given expression is the labor that maximizes profits. "
   ]
  },
  {
   "attachments": {},
   "cell_type": "markdown",
   "metadata": {},
   "source": [
    "We now consider a *dynamic* version of the model.\n",
    "\n",
    "* The demand-shock is a so-called AR(1) in logs, \n",
    "\n",
    "$$\n",
    "\\log \\kappa_{t} = \\rho \\log \\kappa_{t-1} + \\epsilon_{t},\\,\\,\\, \\epsilon_{t+1} \\sim \\mathcal{N}(-0.5\\sigma_{\\epsilon}^2,\\sigma_{\\epsilon})\n",
    "$$\n",
    "\n",
    "* Any hiring or firing implies a fixed adjustment cost, $\\iota > 0 $.\n",
    "* Future profits are discounted with a monthly factor of $R \\in (0,1)$.\n",
    "\n",
    "The initial demand shock is $\\kappa_{-1} = 1$ and the planning horizon is 10 years, i.e. 120 months so $t \\in \\{0,1,2,\\dots,119\\}$. Initially you don't have any employees, $\\ell_{-1}=0$"
   ]
  },
  {
   "attachments": {},
   "cell_type": "markdown",
   "metadata": {},
   "source": [
    "\n",
    "The *ex post* value of the salon is *conditional* on the shock series is:\n",
    "\n",
    "$$\n",
    "h(\\epsilon_0,\\epsilon_1,\\dots,\\epsilon_{119}) = \\left[\\sum_{t=0}^{119}R^{-t}\\left[\\kappa_{t}\\ell_{t}^{1-\\eta}-w\\ell_{t}-\\boldsymbol{1}_{\\ell_{t}\\neq\\ell_{t-1}}\\iota\\right]\\right]\n",
    "$$\n",
    "\n",
    "The *ex ante* expected value of the salon can be approximated by\n",
    "\n",
    "$$\n",
    "H = \\mathbb{E}[h(\\epsilon_0,\\epsilon_1,\\dots,\\epsilon_{119})] \\approx \\frac{1}{K}\\sum_{k=0}^{K} h(\\epsilon_0^k,\\epsilon_1^k,\\dots,\\epsilon_{119}^k)\n",
    "$$\n",
    "\n",
    "where each $k\\in\\{0,1,\\dots,K-1\\}$ is a random shock series. Maximizing profitability means maximizing $H$.\n"
   ]
  },
  {
   "attachments": {},
   "cell_type": "markdown",
   "metadata": {},
   "source": [
    "Baseline parameters are: \n",
    "\n",
    "- $\\rho = 0.90$\n",
    "- $\\iota = 0.01$\n",
    "- $\\sigma_{\\epsilon} = 0.10$\n",
    "- $R = \\left(1+0.01\\right)^{1/12}$"
   ]
  },
  {
   "attachments": {},
   "cell_type": "markdown",
   "metadata": {},
   "source": [
    "**Question 2:** Calculate $H$ if the policy  $\\ell_{t}=\\left(\\frac{(1-\\eta)\\kappa_{t}}{w}\\right)^{\\frac{1}{\\eta}}$ from question 1 is followed. Choose $K$ so the approximation is good enough to not affect your results substantially."
   ]
  },
  {
   "attachments": {},
   "cell_type": "markdown",
   "metadata": {},
   "source": [
    "We choose a $K=500$. For higher values of $K$ we get a very long run time, since the size of the grid increases drastically, we will comment further on our considartaions about the size of $K$ in the end of question 4. "
   ]
  },
  {
   "cell_type": "code",
   "execution_count": null,
   "metadata": {},
   "outputs": [],
   "source": [
    "sn = SimpleNamespace()\n",
    "\n",
    "# parameters\n",
    "sn.rho = 0.90\n",
    "sn.iota = 0.01\n",
    "sn.sigma_e = 0.10\n",
    "sn.R = (1+0.01)**(1/12)\n",
    "sn.eta = 0.5\n",
    "sn.w = 1.0\n",
    "sn.T = 120 # number of months\n",
    "sn.K = 500 # number of simulation draws for each month\n",
    "\n",
    "# fix seed\n",
    "np.random.seed(2023)\n",
    "state = np.random.get_state()"
   ]
  },
  {
   "cell_type": "code",
   "execution_count": null,
   "metadata": {},
   "outputs": [],
   "source": [
    "# define data generating process\n",
    "def DGP(sn):\n",
    "    # set state\n",
    "    np.random.set_state(state)\n",
    "    # draw data points\n",
    "    e = np.random.normal(loc=-0.5*sn.sigma_e**2, scale=sn.sigma_e, size=(sn.K, sn.T)) # draw T = 120 months K times\n",
    "    return e"
   ]
  },
  {
   "cell_type": "code",
   "execution_count": null,
   "metadata": {},
   "outputs": [],
   "source": [
    "# create data\n",
    "e_obs = DGP(sn)\n",
    "# check dimensions of e_obs\n",
    "print(shape(e_obs))"
   ]
  },
  {
   "attachments": {},
   "cell_type": "markdown",
   "metadata": {},
   "source": [
    "e_obs has a shape of K rows and T = 120 columns."
   ]
  },
  {
   "cell_type": "code",
   "execution_count": null,
   "metadata": {},
   "outputs": [],
   "source": [
    "# create vector of demand shocks in logs\n",
    "log_kappa = np.zeros([sn.K,sn.T])\n",
    "for k in range(0,sn.K):\n",
    "    for t in range(0,sn.T):\n",
    "        if t == 0:\n",
    "            log_kappa_m1 = np.log(1)\n",
    "        log_kappa[k,t] = sn.rho*log_kappa_m1+e_obs[k,t]\n",
    "        log_kappa_m1 = log_kappa[k,t]\n",
    "\n",
    "# create vector of demand shocks without logs\n",
    "kappa = np.exp(log_kappa)"
   ]
  },
  {
   "cell_type": "code",
   "execution_count": null,
   "metadata": {},
   "outputs": [],
   "source": [
    "# compute number of employees from time t = 0 to t = 119\n",
    "# insert number of employees in each period in a vector\n",
    "def employees_vec():\n",
    "    employees = np.zeros([sn.K,sn.T])\n",
    "    for k in range(0,sn.K):\n",
    "        for t in range(0,sn.T):\n",
    "            # max profits for relevant value of kappa\n",
    "            employees[k,t] = q2.max_profits(kappa[k,t],sn.eta, sn.w)\n",
    "    return employees"
   ]
  },
  {
   "cell_type": "code",
   "execution_count": null,
   "metadata": {},
   "outputs": [],
   "source": [
    "# compute h for each k = {0,...,K-1}\n",
    "employees = employees_vec()\n",
    "h = np.zeros(sn.K)\n",
    "for k in range(0,sn.K):\n",
    "    for t in range(0,sn.T):\n",
    "        if t == 0:\n",
    "            # indicator function\n",
    "            I = 1 if employees[k,t] != 0 else 0\n",
    "        else:\n",
    "            I = 1 if employees[k,t]!=employees[k,t-1] else 0\n",
    "        # compute value for each period\n",
    "        val = sn.R**(-t)*(kappa[k,t]*employees[k,t]**(1-sn.eta)-sn.w*employees[k,t]-I*sn.iota)\n",
    "        # accumulate\n",
    "        h[k] += val\n",
    "        \n",
    "# compute H\n",
    "H = np.sum(h)/sn.K\n",
    "print(f'H = {H:.3f}')"
   ]
  },
  {
   "attachments": {},
   "cell_type": "markdown",
   "metadata": {},
   "source": [
    "The profits for this policy is then $H_{initial}=27.797$"
   ]
  },
  {
   "attachments": {},
   "cell_type": "markdown",
   "metadata": {},
   "source": [
    "Next, we consider policies on the form:\n",
    "\n",
    "$$\n",
    "\n",
    "\\ell_{t}=\\begin{cases}\n",
    "\\ell_t^{\\ast}  & \\text{if }\\left|\\ell_{t-1}-\\ell_t^{\\ast} \\right|>\\Delta\\\\\n",
    "\\ell_{t-1} & \\text{else }\n",
    "\\end{cases}\n",
    "\\\\\n",
    "\\text{where}\\,\\,\\ell_t^{\\ast} = \\left(\\frac{(1-\\eta)\\kappa_{t}}{w}\\right)^{\\frac{1}{\\eta}} \\\\\n",
    "\n",
    "$$\n",
    "With $\\Delta \\geq 0$ and $\\Delta = 0$ being the previous policy.\n"
   ]
  },
  {
   "attachments": {},
   "cell_type": "markdown",
   "metadata": {},
   "source": [
    "\n",
    "**Question 3:** Calculate $H$ if the policy above was followed with $\\Delta = 0.05$. Does it improve profitability?"
   ]
  },
  {
   "cell_type": "code",
   "execution_count": null,
   "metadata": {},
   "outputs": [],
   "source": [
    "employees_new = employees_vec()\n",
    "sn.Delta = 0.05\n",
    "for k in range(0,sn.K):\n",
    "    for t in range(0,sn.T):\n",
    "        if t == 0:\n",
    "            if abs(0-employees_new[k,t]) > sn.Delta:\n",
    "                employees_new[k,t] = employees_new[k,t]\n",
    "            else:\n",
    "                employees_new[k,t] = 0\n",
    "        else:\n",
    "            if abs(employees_new[k,t-1]-employees_new[k,t]) > sn.Delta:\n",
    "                employees_new[k,t] = employees_new[k,t]\n",
    "            else:\n",
    "                employees_new[k,t] = employees_new[k,t-1]"
   ]
  },
  {
   "cell_type": "code",
   "execution_count": null,
   "metadata": {},
   "outputs": [],
   "source": [
    "# compute h for each k = {0,...,K-1}\n",
    "h_new = np.zeros(sn.K)\n",
    "for k in range(0,sn.K):\n",
    "    for t in range(0,sn.T):\n",
    "        if t == 0:\n",
    "            # indicator function\n",
    "            I_new = 1 if employees_new[k,t] != 0 else 0\n",
    "        else:\n",
    "            I_new = 1 if employees_new[k,t]!=employees_new[k,t-1] else 0\n",
    "        # compute value for each period\n",
    "        val_new = sn.R**(-t)*(kappa[k,t]*employees_new[k,t]**(1-sn.eta)-sn.w*employees_new[k,t]-I_new*sn.iota)\n",
    "        # accumulate\n",
    "        h_new[k] += val_new\n",
    "\n",
    "# compute H_new\n",
    "H_new = np.sum(h_new)/sn.K\n",
    "print(f'H_new = {H_new:.3f}')"
   ]
  },
  {
   "attachments": {},
   "cell_type": "markdown",
   "metadata": {},
   "source": [
    "We see that the policy of introducing $\\Delta$ increases profitability as $H_{\\Delta=0.05}=28.475>27.797=H_{initial}$"
   ]
  },
  {
   "attachments": {},
   "cell_type": "markdown",
   "metadata": {},
   "source": [
    "**Question 4:** Find the optimal $\\Delta$ maximizing $H$. Illustrate your result."
   ]
  },
  {
   "attachments": {},
   "cell_type": "markdown",
   "metadata": {},
   "source": [
    "We search for the optimal $\\Delta$ maximizing H using a grid search."
   ]
  },
  {
   "cell_type": "code",
   "execution_count": null,
   "metadata": {},
   "outputs": [],
   "source": [
    "employees_opt = employees_vec()\n",
    "\n",
    "# Define a list of potential Delta values to test\n",
    "potential_delta = np.linspace(0, 0.1, 100)  # Adjust range and step size as needed\n",
    "\n",
    "# Initialize variables to keep track of the best Delta and its corresponding H_new\n",
    "best_delta = None\n",
    "max_H_opt = -np.inf\n",
    "\n",
    "H_val = []\n",
    "\n",
    "# Iterate over potential deltas\n",
    "for delta in potential_delta:\n",
    "\n",
    "    # same code as before...\n",
    "    for k in range(0,sn.K):\n",
    "        for t in range(0,sn.T):\n",
    "            if t == 0:\n",
    "                if abs(0-employees_new[k,t]) > sn.Delta:\n",
    "                    employees_new[k,t] = employees_new[k,t]\n",
    "                else:\n",
    "                    employees_new[k,t] = 0\n",
    "            else:\n",
    "                if abs(employees_opt[k,t-1]-employees_opt[k,t]) > delta:\n",
    "                    employees_opt[k,t] = employees_opt[k,t]\n",
    "                else:\n",
    "                    employees_opt[k,t] = employees_opt[k,t-1]\n",
    "\n",
    "    h_opt = np.zeros(sn.K)\n",
    "    for k in range(0,sn.K):\n",
    "        for t in range(0,sn.T):\n",
    "            if t == 0:\n",
    "                I_opt = 1 if employees_opt[k,t] != 0 else 0\n",
    "            else:\n",
    "                I_opt = 1 if employees_opt[k,t]!=employees_opt[k,t-1] else 0\n",
    "            val_opt = sn.R**(-t)*(kappa[k,t]*employees_opt[k,t]**(1-sn.eta)-sn.w*employees_opt[k,t]-I_opt*sn.iota)\n",
    "            h_opt[k] += val_opt\n",
    "\n",
    "    H_opt = np.sum(h_opt)/sn.K\n",
    "    \n",
    "    H_val.append(H_opt)\n",
    "    \n",
    "    # Check if this is the best H_new so far\n",
    "    if H_opt > max_H_opt:\n",
    "        max_H_opt = H_opt\n",
    "        best_delta = delta\n",
    "\n",
    "print(f'Optimal Delta = {best_delta:.3f}')\n",
    "print(f'maximum H_new = {max_H_opt:.3f}')\n"
   ]
  },
  {
   "attachments": {},
   "cell_type": "markdown",
   "metadata": {},
   "source": [
    "When solving for the optimal $\\Delta$ we see that for $T=120$ and $K=500$ we cannot optain a higher profits, even for a higher $\\Delta$ below the figure, we explain that increasing $K=10.000$ we can see a increase in profits for the optimal value of $\\Delta$\n",
    "\n",
    "The results here is that the optimal $\\Delta=0.054$ which yield the profits $H_{optimal\\Delta=0.054}=28.464$. Which intuitivly does not make sence, since the optimal value of $\\Delta$ should yield the highest profit observed."
   ]
  },
  {
   "cell_type": "code",
   "execution_count": null,
   "metadata": {},
   "outputs": [],
   "source": [
    "fig = plt.figure(figsize=(10,6))\n",
    "ax = fig.add_subplot(1, 1, 1)\n",
    "plt.plot(potential_delta, H_val, color='black')\n",
    "plt.scatter(best_delta, max_H_opt, color='red', label=(r'Optimal $\\Delta$'))\n",
    "# alterations to figure\n",
    "ax.set_ylabel('Profits, H')\n",
    "ax.set_xlabel(r'$\\Delta$')\n",
    "ax.set_title(r'values of $\\Delta$ maximizing profits')\n",
    "ax.legend()\n",
    "plt.show()"
   ]
  },
  {
   "attachments": {},
   "cell_type": "markdown",
   "metadata": {},
   "source": [
    "We have solved the above code in two ways, since we are not please with the accuracy with the size of K we can use when T=120. For relativly small increases in K we get a very significant longer run time, since the size of the grid we loop through increases drastically.\n",
    "\n",
    "Therefore we have also solves the code for T=10 (Time in years instead of months) and K=10.000 here we optain more smooth results and the graph is not bumpy. With these parameter values we get an initial profit of $H_{initial}=2.563$ and including the delta we optain a profit of $H_{\\Delta=0.05}=2.517$ why we conclude that the introduction of $\\Delta$ increases profits. When we solve for the optimal value of $\\Delta$ we get that $\\Delta=0.063$ with the profit $H_{optimal\\Delta=0.063}=2.519$. We can based on this conclude that the profits can be increased slightly by changing $\\Delta$ to a more optimal value. The accumulated profits will of cource increase for a higher T, but the conclusion regarding how presice we can determed the *ex anta* value depends only on K. "
   ]
  },
  {
   "attachments": {},
   "cell_type": "markdown",
   "metadata": {},
   "source": [
    "\n",
    "**Question 5:** Suggest an alternative policy you believe might improve profitability. Implement and test your policy.\n",
    "\n"
   ]
  },
  {
   "attachments": {},
   "cell_type": "markdown",
   "metadata": {},
   "source": [
    "We suggest a policy where for all period $\\ell_t=\\ell_t^{\\ast} = \\left(\\frac{(1-\\eta)\\kappa_{t}}{w}\\right)^{\\frac{1}{\\eta}}$ but if there is a large enough negative chok though $\\epsilon_{t}$ then the government will compensate the salon for som of their wage expenses:\n",
    "\n",
    "$$\n",
    "\\Pi_t=\\begin{cases}\n",
    "\\kappa_t \\ell_t^{1-\\eta} - 0.5w \\ell_t & \\text{if }\\epsilon_{t}<0\\\\\n",
    "\\kappa_t \\ell_t^{1-\\eta} - w \\ell_t & \\text{else }\n",
    "\\end{cases}\n",
    "$$\n",
    "This implies that the *ex post* value of the salon is *conditional* on the shock series is:\n",
    "\n",
    "$$\n",
    "h(\\epsilon_0,\\epsilon_1,\\dots,\\epsilon_{119}) = \\left[\\sum_{t=0}^{119}R^{-t}\\left[\\kappa_{t}\\ell_{t}^{1-\\eta}-w\\ell_{t}-\\boldsymbol{1}_{\\ell_{t}\\neq\\ell_{t-1}}\\iota+\\boldsymbol{1}_{\\epsilon_{t}<0}0.5w\\ell_{t}\\right]\\right]\n",
    "$$"
   ]
  },
  {
   "cell_type": "code",
   "execution_count": null,
   "metadata": {},
   "outputs": [],
   "source": [
    "# compute h for each k = {0,...,K-1}\n",
    "employees_pol = employees_vec()\n",
    "h_pol = np.zeros(sn.K)\n",
    "for k in range(0,sn.K):\n",
    "    for t in range(0,sn.T):\n",
    "        if t == 0:\n",
    "            # indicator function\n",
    "            I = 1 if employees_pol[k,t] != 0 else 0\n",
    "        else:\n",
    "            I = 1 if employees_pol[k,t]!=employees_pol[k,t-1] else 0\n",
    "        if e_obs[k,t] < 0:\n",
    "            J = 1\n",
    "        else:\n",
    "            J = 0\n",
    "        # compute value for each period\n",
    "        val_pol = sn.R**(-t)*(kappa[k,t]*employees_pol[k,t]**(1-sn.eta)-sn.w*employees_pol[k,t]-I*sn.iota+J*0.5*sn.w*employees_pol[k,t])\n",
    "        # accumulate\n",
    "        h_pol[k] += val_pol\n",
    "        \n",
    "# compute H\n",
    "H_pol = np.sum(h_pol)/sn.K\n",
    "print(f'H_pol = {H_pol:.3f}')"
   ]
  },
  {
   "attachments": {},
   "cell_type": "markdown",
   "metadata": {},
   "source": [
    "As we can see the policy has increased the profits so $H_{pol}=34.127>27.797=H_{initial}$"
   ]
  },
  {
   "attachments": {},
   "cell_type": "markdown",
   "metadata": {},
   "source": [
    "## 3. <a id='toc3_'></a>[Problem 3: Global optimizer with refined multi-start](#toc0_)"
   ]
  },
  {
   "attachments": {},
   "cell_type": "markdown",
   "metadata": {},
   "source": [
    "We consider the Griewank function:\n",
    "\n",
    "$$ f(\\boldsymbol{x}) = \\sum^n_{i=1} \\frac{x^2_i}{4000}-\\prod^n_{i=1}\\cos\\left(\\frac{x_i}{\\sqrt{i}}\\right)+1$$\n",
    "\n",
    "The **global minimum** of this function is $f(0,0) = 0$ (remember: $\\cos(0)=1$).<br>\n",
    "But the function also have a lot of **local minima**."
   ]
  },
  {
   "cell_type": "code",
   "execution_count": null,
   "metadata": {},
   "outputs": [],
   "source": [
    "def griewank(x):\n",
    "    return griewank_(x[0],x[1])\n",
    "    \n",
    "def griewank_(x1,x2):\n",
    "    A = x1**2/4000 + x2**2/4000\n",
    "    B = np.cos(x1/np.sqrt(1))*np.cos(x2/np.sqrt(2))\n",
    "    return A-B+1"
   ]
  },
  {
   "attachments": {},
   "cell_type": "markdown",
   "metadata": {},
   "source": [
    "A **refined global optimizer with multi-start** is:\n",
    "\n",
    "1. Choose *bounds* for $\\mathbf{x}$ and *tolerance* $\\tau > 0$.\n",
    "2. Choose number of *warm-up iterations*, $\\underline{K} > 0$ and *maximum number of iterations*, $K > \\underline{K}$.\n",
    "3. In each iteration for $k \\in \\{0,1,\\dots,K-1\\}$:\n",
    "\n",
    "    A. Draw random $\\mathbf{x}^k$ uniformly within chosen bounds.\n",
    "\n",
    "    B. If $k < \\underline{K}$ go to step E.\n",
    "\n",
    "    C. Calculate $\\chi^k = 0.50\\cdot\\frac{2}{1+\\exp((k-\\underline{K})/100)}$  \n",
    "\n",
    "    D. Set $\\mathbf{x}^{k0} = \\chi^k \\mathbf{x}^k + (1-\\chi^k)\\mathbf{x}^{\\ast} $\n",
    "\n",
    "    E. Run optimizer with $\\mathbf{x}^{k0}$ as initial guess and $\\mathbf{x}^{k\\ast}$ as result.\n",
    "\n",
    "    F. Set $\\mathbf{x}^{\\ast} = \\mathbf{x}^{k\\ast}$ if $k = 0$ or $f(\\mathbf{x}^{k\\ast}) < f(\\mathbf{x}^{\\ast})$\n",
    "\n",
    "    G. If $f(\\mathbf{x}^{\\ast}) < \\tau$ go to step 4.\n",
    "\n",
    "4. Return the result $\\mathbf{x}^{\\ast}$."
   ]
  },
  {
   "attachments": {},
   "cell_type": "markdown",
   "metadata": {},
   "source": [
    "As settings we choose:\n",
    "\n",
    "* $x_1,x_2 \\in  [-600,600]$\n",
    "* $\\tau = 10^{-8}$\n",
    "* $\\underline{K}=10$\n",
    "* $K=1000$\n",
    "\n",
    "The optimizer in Step 3.E is `BFGS` with a tolerance of $\\tau$."
   ]
  },
  {
   "attachments": {},
   "cell_type": "markdown",
   "metadata": {},
   "source": [
    "**Question 1:** Implement the refined global optimizer with multi-start. Illustrate how the effective initial guesses $\\mathbf{x}^{k0}$ vary with the iteration counter $k$."
   ]
  },
  {
   "cell_type": "code",
   "execution_count": null,
   "metadata": {},
   "outputs": [],
   "source": [
    "# implementation of algorithm in q3\n",
    "import q3\n",
    "# set seed\n",
    "np.random.seed(2023)\n",
    "\n",
    "# settings\n",
    "tol = 1e-8\n",
    "warm_up_iter = 10\n",
    "max_iter = 1000\n",
    "bounds = [-600,600]\n",
    "\n",
    "x_star, x_k0_values = q3.global_optimizer(bounds, tol, warm_up_iter, max_iter, griewank)"
   ]
  },
  {
   "cell_type": "code",
   "execution_count": null,
   "metadata": {},
   "outputs": [],
   "source": [
    "# plot to show how the initial guesses x_k0 vary with the iteration counter k\n",
    "fig = plt.figure(figsize=(10,6))\n",
    "ax = fig.add_subplot(1, 1, 1)\n",
    "plt.plot(x_k0_values, label=[\"x1\", \"x2\"])\n",
    "# alterations to figure\n",
    "ax.set_xlabel('Number of iterations')\n",
    "ax.set_ylabel(r'$x^{k0}$')\n",
    "ax.set_title(r'value of $x^{k0}$ at iteration number')\n",
    "ax.legend()\n",
    "plt.show()\n",
    "\n",
    "print(\"Global minimum is\", x_star)\n",
    "print(\"which was found after\", len(x_k0_values), \"iterations\")"
   ]
  },
  {
   "attachments": {},
   "cell_type": "markdown",
   "metadata": {},
   "source": [
    "When running the code we find the minimized value after 364 iterations. The graph depicts the change in for the given number of iterations. We see a clear convergence for both and towards the global minimum, 0."
   ]
  },
  {
   "attachments": {},
   "cell_type": "markdown",
   "metadata": {},
   "source": [
    "**Question 2:** Is it a better idea to set $\\underline{K} = 100$? Is the convergence faster?"
   ]
  },
  {
   "cell_type": "code",
   "execution_count": null,
   "metadata": {},
   "outputs": [],
   "source": [
    "# set seed\n",
    "np.random.seed(2023)\n",
    "\n",
    "x_star_10, x_k0_values_10 = q3.global_optimizer(bounds, tol, 10, max_iter, griewank)\n",
    "x_star_100, x_k0_values_100 = q3.global_optimizer(bounds, tol, 100, max_iter, griewank)\n",
    "\n",
    "print(\"Number of iterations for when K=10:\", len(x_k0_values_10))\n",
    "print(\"Number of iterations for when K=100:\", len(x_k0_values_100))"
   ]
  },
  {
   "attachments": {},
   "cell_type": "markdown",
   "metadata": {},
   "source": [
    "Since the amount of iterations needed to optain a value under the tolerance level is higher, we conclude that the convergence toward the global minimum is slower when $\\underline{K} = 100$. Therefore it is not a better idea to set $\\underline{K} = 100$  \n",
    "\n",
    "We can graphically show that the number of warm-up-iterations does not generally fasten the speed of convergence:"
   ]
  },
  {
   "cell_type": "code",
   "execution_count": null,
   "metadata": {},
   "outputs": [],
   "source": [
    "# set seed\n",
    "np.random.seed(2023)\n",
    "\n",
    "# create empty vectors for plotting\n",
    "_Ks = []\n",
    "iters = []\n",
    "\n",
    "# loop over different number of warm-up-iterations\n",
    "for _K in np.linspace(10, 200, 50):\n",
    "    values = q3.global_optimizer(bounds, tol, _K, max_iter, griewank)[1]\n",
    "    iterations = len(values)\n",
    "\n",
    "    # append vectors\n",
    "    _Ks.append(_K)\n",
    "    iters.append(iterations)"
   ]
  },
  {
   "cell_type": "code",
   "execution_count": null,
   "metadata": {},
   "outputs": [],
   "source": [
    "# plot\n",
    "fig = plt.figure()\n",
    "ax = fig.add_subplot(1,1,1)\n",
    "plt.plot(_Ks,iters)\n",
    "ax.set_xlabel('_K')\n",
    "ax.set_ylabel('Number of iterations')\n",
    "plt.show()"
   ]
  },
  {
   "attachments": {},
   "cell_type": "markdown",
   "metadata": {},
   "source": [
    "For small numbers of warm-up-iterations, we see an average number of iterations around 350. For larger numbers of warm-up-iterations, the volatility of the number of iterations needed increases. This makes good sense because the more warm-up-iterations you use, it is more likely to waste iterations that you don't learn from."
   ]
  }
 ],
 "metadata": {
  "kernelspec": {
   "display_name": "base",
   "language": "python",
   "name": "python3"
  },
  "language_info": {
   "codemirror_mode": {
    "name": "ipython",
    "version": 3
   },
   "file_extension": ".py",
   "mimetype": "text/x-python",
   "name": "python",
   "nbconvert_exporter": "python",
   "pygments_lexer": "ipython3",
   "version": "3.9.16"
  },
  "orig_nbformat": 4
 },
 "nbformat": 4,
 "nbformat_minor": 2
}
